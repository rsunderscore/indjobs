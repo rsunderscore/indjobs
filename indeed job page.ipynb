{
 "cells": [
  {
   "cell_type": "code",
   "execution_count": 3,
   "metadata": {},
   "outputs": [
    {
     "data": {
      "text/plain": [
       "'0.23.2'"
      ]
     },
     "execution_count": 3,
     "metadata": {},
     "output_type": "execute_result"
    }
   ],
   "source": [
    "import sklearn\n",
    "sklearn.__version__"
   ]
  },
  {
   "cell_type": "code",
   "execution_count": 263,
   "metadata": {},
   "outputs": [],
   "source": [
    "import requests\n",
    "from urllib.parse import quote, unquote\n",
    "import pandas as pd\n",
    "import numpy as np\n",
    "from collections import Counter\n",
    "import more_itertools as mi\n",
    "import itertools as it\n",
    "from bs4 import BeautifulSoup\n",
    "import re, os, sys, traceback\n",
    "from datetime import datetime, date, time\n",
    "import indjobs as i\n",
    "import mlxtend as mlx\n",
    "import matplotlib.pyplot as plt\n",
    "\n",
    "from sklearn.feature_extraction.text import TfidfVectorizer, HashingVectorizer, CountVectorizer\n",
    "from sklearn.metrics import accuracy_score \n",
    "from sklearn.metrics.cluster import entropy, mutual_info_score, silhouette_samples\n",
    "from sklearn.cluster import SpectralClustering, KMeans, DBSCAN, AgglomerativeClustering\n",
    "from sklearn.preprocessing import StandardScaler, MinMaxScaler, OneHotEncoder, RobustScaler\n",
    "from sklearn.decomposition import PCA\n",
    "from sklearn.discriminant_analysis import LinearDiscriminantAnalysis\n",
    "\n",
    "## utility functions"
   ]
  },
  {
   "cell_type": "code",
   "execution_count": 5,
   "metadata": {},
   "outputs": [],
   "source": [
    "from importlib import reload"
   ]
  },
  {
   "cell_type": "code",
   "execution_count": 10,
   "metadata": {},
   "outputs": [
    {
     "data": {
      "text/plain": [
       "(True, True)"
      ]
     },
     "execution_count": 10,
     "metadata": {},
     "output_type": "execute_result"
    }
   ],
   "source": []
  },
  {
   "cell_type": "code",
   "execution_count": 12,
   "metadata": {},
   "outputs": [],
   "source": [
    "import sqlalchemy as sa\n",
    "\n"
   ]
  },
  {
   "cell_type": "markdown",
   "metadata": {},
   "source": [
    "## hierarchical clustering example"
   ]
  },
  {
   "cell_type": "code",
   "execution_count": 55,
   "metadata": {},
   "outputs": [
    {
     "data": {
      "text/html": [
       "<div>\n",
       "<style scoped>\n",
       "    .dataframe tbody tr th:only-of-type {\n",
       "        vertical-align: middle;\n",
       "    }\n",
       "\n",
       "    .dataframe tbody tr th {\n",
       "        vertical-align: top;\n",
       "    }\n",
       "\n",
       "    .dataframe thead th {\n",
       "        text-align: right;\n",
       "    }\n",
       "</style>\n",
       "<table border=\"1\" class=\"dataframe\">\n",
       "  <thead>\n",
       "    <tr style=\"text-align: right;\">\n",
       "      <th></th>\n",
       "      <th>X</th>\n",
       "      <th>Y</th>\n",
       "      <th>Z</th>\n",
       "    </tr>\n",
       "  </thead>\n",
       "  <tbody>\n",
       "    <tr>\n",
       "      <th>ID_0</th>\n",
       "      <td>6.964692</td>\n",
       "      <td>2.861393</td>\n",
       "      <td>2.268515</td>\n",
       "    </tr>\n",
       "    <tr>\n",
       "      <th>ID_1</th>\n",
       "      <td>5.513148</td>\n",
       "      <td>7.194690</td>\n",
       "      <td>4.231065</td>\n",
       "    </tr>\n",
       "    <tr>\n",
       "      <th>ID_2</th>\n",
       "      <td>9.807642</td>\n",
       "      <td>6.848297</td>\n",
       "      <td>4.809319</td>\n",
       "    </tr>\n",
       "    <tr>\n",
       "      <th>ID_3</th>\n",
       "      <td>3.921175</td>\n",
       "      <td>3.431780</td>\n",
       "      <td>7.290497</td>\n",
       "    </tr>\n",
       "    <tr>\n",
       "      <th>ID_4</th>\n",
       "      <td>4.385722</td>\n",
       "      <td>0.596779</td>\n",
       "      <td>3.980443</td>\n",
       "    </tr>\n",
       "  </tbody>\n",
       "</table>\n",
       "</div>"
      ],
      "text/plain": [
       "             X         Y         Z\n",
       "ID_0  6.964692  2.861393  2.268515\n",
       "ID_1  5.513148  7.194690  4.231065\n",
       "ID_2  9.807642  6.848297  4.809319\n",
       "ID_3  3.921175  3.431780  7.290497\n",
       "ID_4  4.385722  0.596779  3.980443"
      ]
     },
     "execution_count": 55,
     "metadata": {},
     "output_type": "execute_result"
    }
   ],
   "source": [
    "#pg 317\n",
    "from scipy.cluster.hierarchy import linkage, dendrogram\n",
    "np.random.seed(123)\n",
    "variables = ['X', 'Y', 'Z']\n",
    "labels = ['ID_0','ID_1','ID_2','ID_3','ID_4',]\n",
    "X = np.random.random_sample([5,3])*10\n",
    "df = pd.DataFrame(X, columns=variables, index=labels)\n",
    "df"
   ]
  },
  {
   "cell_type": "code",
   "execution_count": 56,
   "metadata": {},
   "outputs": [
    {
     "data": {
      "text/plain": [
       "array([4.973534  , 5.51665266, 5.89988504, 3.83539555, 4.34707339,\n",
       "       5.10431109, 6.69823298, 7.24426159, 8.31659367, 4.382864  ])"
      ]
     },
     "execution_count": 56,
     "metadata": {},
     "output_type": "execute_result"
    }
   ],
   "source": [
    "from scipy.spatial.distance import pdist, squareform #pairwise distance, convert vector form distance to distance matrix\n",
    "(pdist(df, metric='euclidean'))"
   ]
  },
  {
   "cell_type": "code",
   "execution_count": 57,
   "metadata": {},
   "outputs": [
    {
     "data": {
      "text/plain": [
       "array([[ 0.        , 10.33521576, 12.01303037,  8.91795641,  6.00535246],\n",
       "       [ 0.        ,  0.        ,  8.0248296 ,  5.8228529 ,  5.48087833],\n",
       "       [ 0.        ,  0.        ,  0.        ,  6.77852048, 10.61730499],\n",
       "       [ 0.        ,  0.        ,  0.        ,  0.        ,  5.75862233],\n",
       "       [ 0.        ,  0.        ,  0.        ,  0.        ,  0.        ]])"
      ]
     },
     "execution_count": 57,
     "metadata": {},
     "output_type": "execute_result"
    }
   ],
   "source": [
    "#np.diag(sf_dist)\n",
    "#np.fill_diagonal(sf_dist, 0.)\n",
    "#lower triangular is np.tril\n",
    "np.triu(sf_dist) #pdist vector corresponds with the triangular for the distance matrix"
   ]
  },
  {
   "cell_type": "code",
   "execution_count": 58,
   "metadata": {},
   "outputs": [
    {
     "data": {
      "text/plain": [
       "array([[0.        , 4.973534  , 5.51665266, 5.89988504, 3.83539555],\n",
       "       [4.973534  , 0.        , 4.34707339, 5.10431109, 6.69823298],\n",
       "       [5.51665266, 4.34707339, 0.        , 7.24426159, 8.31659367],\n",
       "       [5.89988504, 5.10431109, 7.24426159, 0.        , 4.382864  ],\n",
       "       [3.83539555, 6.69823298, 8.31659367, 4.382864  , 0.        ]])"
      ]
     },
     "execution_count": 58,
     "metadata": {},
     "output_type": "execute_result"
    }
   ],
   "source": [
    "sf_dist = squareform(pdist(df, metric='euclidean'))\n",
    "sf_dist"
   ]
  },
  {
   "cell_type": "code",
   "execution_count": 59,
   "metadata": {},
   "outputs": [
    {
     "data": {
      "text/html": [
       "<div>\n",
       "<style scoped>\n",
       "    .dataframe tbody tr th:only-of-type {\n",
       "        vertical-align: middle;\n",
       "    }\n",
       "\n",
       "    .dataframe tbody tr th {\n",
       "        vertical-align: top;\n",
       "    }\n",
       "\n",
       "    .dataframe thead th {\n",
       "        text-align: right;\n",
       "    }\n",
       "</style>\n",
       "<table border=\"1\" class=\"dataframe\">\n",
       "  <thead>\n",
       "    <tr style=\"text-align: right;\">\n",
       "      <th></th>\n",
       "      <th>ID_0</th>\n",
       "      <th>ID_1</th>\n",
       "      <th>ID_2</th>\n",
       "      <th>ID_3</th>\n",
       "      <th>ID_4</th>\n",
       "    </tr>\n",
       "  </thead>\n",
       "  <tbody>\n",
       "    <tr>\n",
       "      <th>ID_0</th>\n",
       "      <td>0.000000</td>\n",
       "      <td>4.973534</td>\n",
       "      <td>5.516653</td>\n",
       "      <td>5.899885</td>\n",
       "      <td>3.835396</td>\n",
       "    </tr>\n",
       "    <tr>\n",
       "      <th>ID_1</th>\n",
       "      <td>4.973534</td>\n",
       "      <td>0.000000</td>\n",
       "      <td>4.347073</td>\n",
       "      <td>5.104311</td>\n",
       "      <td>6.698233</td>\n",
       "    </tr>\n",
       "    <tr>\n",
       "      <th>ID_2</th>\n",
       "      <td>5.516653</td>\n",
       "      <td>4.347073</td>\n",
       "      <td>0.000000</td>\n",
       "      <td>7.244262</td>\n",
       "      <td>8.316594</td>\n",
       "    </tr>\n",
       "    <tr>\n",
       "      <th>ID_3</th>\n",
       "      <td>5.899885</td>\n",
       "      <td>5.104311</td>\n",
       "      <td>7.244262</td>\n",
       "      <td>0.000000</td>\n",
       "      <td>4.382864</td>\n",
       "    </tr>\n",
       "    <tr>\n",
       "      <th>ID_4</th>\n",
       "      <td>3.835396</td>\n",
       "      <td>6.698233</td>\n",
       "      <td>8.316594</td>\n",
       "      <td>4.382864</td>\n",
       "      <td>0.000000</td>\n",
       "    </tr>\n",
       "  </tbody>\n",
       "</table>\n",
       "</div>"
      ],
      "text/plain": [
       "          ID_0      ID_1      ID_2      ID_3      ID_4\n",
       "ID_0  0.000000  4.973534  5.516653  5.899885  3.835396\n",
       "ID_1  4.973534  0.000000  4.347073  5.104311  6.698233\n",
       "ID_2  5.516653  4.347073  0.000000  7.244262  8.316594\n",
       "ID_3  5.899885  5.104311  7.244262  0.000000  4.382864\n",
       "ID_4  3.835396  6.698233  8.316594  4.382864  0.000000"
      ]
     },
     "execution_count": 59,
     "metadata": {},
     "output_type": "execute_result"
    }
   ],
   "source": [
    "row_dist = pd.DataFrame(sf_dist, columns = labels, index=labels)\n",
    "row_dist"
   ]
  },
  {
   "cell_type": "code",
   "execution_count": 60,
   "metadata": {},
   "outputs": [
    {
     "data": {
      "text/html": [
       "<div>\n",
       "<style scoped>\n",
       "    .dataframe tbody tr th:only-of-type {\n",
       "        vertical-align: middle;\n",
       "    }\n",
       "\n",
       "    .dataframe tbody tr th {\n",
       "        vertical-align: top;\n",
       "    }\n",
       "\n",
       "    .dataframe thead th {\n",
       "        text-align: right;\n",
       "    }\n",
       "</style>\n",
       "<table border=\"1\" class=\"dataframe\">\n",
       "  <thead>\n",
       "    <tr style=\"text-align: right;\">\n",
       "      <th></th>\n",
       "      <th>row label 1</th>\n",
       "      <th>row label 2</th>\n",
       "      <th>distance</th>\n",
       "      <th>no of items in clust</th>\n",
       "    </tr>\n",
       "  </thead>\n",
       "  <tbody>\n",
       "    <tr>\n",
       "      <th>cluster 1</th>\n",
       "      <td>0.0</td>\n",
       "      <td>4.0</td>\n",
       "      <td>3.835396</td>\n",
       "      <td>2.0</td>\n",
       "    </tr>\n",
       "    <tr>\n",
       "      <th>cluster 2</th>\n",
       "      <td>1.0</td>\n",
       "      <td>2.0</td>\n",
       "      <td>4.347073</td>\n",
       "      <td>2.0</td>\n",
       "    </tr>\n",
       "    <tr>\n",
       "      <th>cluster 3</th>\n",
       "      <td>3.0</td>\n",
       "      <td>5.0</td>\n",
       "      <td>5.899885</td>\n",
       "      <td>3.0</td>\n",
       "    </tr>\n",
       "    <tr>\n",
       "      <th>cluster 4</th>\n",
       "      <td>6.0</td>\n",
       "      <td>7.0</td>\n",
       "      <td>8.316594</td>\n",
       "      <td>5.0</td>\n",
       "    </tr>\n",
       "  </tbody>\n",
       "</table>\n",
       "</div>"
      ],
      "text/plain": [
       "           row label 1  row label 2  distance  no of items in clust\n",
       "cluster 1          0.0          4.0  3.835396                   2.0\n",
       "cluster 2          1.0          2.0  4.347073                   2.0\n",
       "cluster 3          3.0          5.0  5.899885                   3.0\n",
       "cluster 4          6.0          7.0  8.316594                   5.0"
      ]
     },
     "execution_count": 60,
     "metadata": {},
     "output_type": "execute_result"
    }
   ],
   "source": [
    "row_clusters = linkage(df.values, method='complete', metric = 'euclidean')\n",
    "pd.DataFrame(row_clusters, columns = ['row label 1','row label 2','distance','no of items in clust'], index=[f'cluster {i+1}' for i in range(row_clusters.shape[0]) ])"
   ]
  },
  {
   "cell_type": "code",
   "execution_count": 61,
   "metadata": {},
   "outputs": [
    {
     "data": {
      "image/png": "[encoded data removed]",
      "text/plain": [
       "<Figure size 432x288 with 1 Axes>"
      ]
     },
     "metadata": {
      "needs_background": "light"
     },
     "output_type": "display_data"
    }
   ],
   "source": [
    "row_dendr = dendrogram(row_clusters, labels=labels)\n",
    "plt.tight_layout()\n",
    "plt.ylabel=('Euclidean dsitance')\n",
    "plt.grid()\n",
    "#plt.show()"
   ]
  },
  {
   "cell_type": "markdown",
   "metadata": {},
   "source": [
    "## explore search results contents"
   ]
  },
  {
   "cell_type": "code",
   "execution_count": 164,
   "metadata": {},
   "outputs": [
    {
     "data": {
      "text/plain": [
       "'https://www.indeed.com/jobs?q=python&l=12345'"
      ]
     },
     "execution_count": 164,
     "metadata": {},
     "output_type": "execute_result"
    }
   ],
   "source": [
    "search_url_works=io.fmt_jobsrch_url('python', '12345')\n",
    "search_url_works"
   ]
  },
  {
   "cell_type": "code",
   "execution_count": 143,
   "metadata": {},
   "outputs": [
    {
     "data": {
      "text/plain": [
       "200"
      ]
     },
     "execution_count": 143,
     "metadata": {},
     "output_type": "execute_result"
    }
   ],
   "source": [
    "js_resp = requests.get(search_url_works)\n",
    "js_resp.status_code"
   ]
  },
  {
   "cell_type": "code",
   "execution_count": 146,
   "metadata": {},
   "outputs": [],
   "source": [
    "js_soup = BeautifulSoup(js_resp.content, parser='lxml')\n",
    "js_soup2 = i.clean_soup(js_soup)"
   ]
  },
  {
   "cell_type": "code",
   "execution_count": 189,
   "metadata": {},
   "outputs": [
    {
     "data": {
      "text/plain": [
       "589738"
      ]
     },
     "execution_count": 189,
     "metadata": {},
     "output_type": "execute_result"
    }
   ],
   "source": [
    "len(str(js_soup))"
   ]
  },
  {
   "cell_type": "code",
   "execution_count": 195,
   "metadata": {},
   "outputs": [],
   "source": [
    "with open('srch.html','w', encoding='utf8') as f:\n",
    "    f.write(js_soup.prettify())"
   ]
  },
  {
   "cell_type": "code",
   "execution_count": 233,
   "metadata": {},
   "outputs": [
    {
     "name": "stdout",
     "output_type": "stream",
     "text": [
      "'match this'\n"
     ]
    },
    {
     "data": {
      "text/plain": [
       "<re.Match object; span=(0, 6), match=\"'match\">"
      ]
     },
     "execution_count": 233,
     "metadata": {},
     "output_type": "execute_result"
    }
   ],
   "source": [
    "s = \"'match this'\"\n",
    "print(s)\n",
    "re.search(r\"(?=^\\')\\S+\", s)"
   ]
  },
  {
   "cell_type": "code",
   "execution_count": 455,
   "metadata": {},
   "outputs": [
    {
     "ename": "AttributeError",
     "evalue": "module 'indjobs' has no attribute 'indweb'",
     "output_type": "error",
     "traceback": [
      "\u001b[1;31m---------------------------------------------------------------------------\u001b[0m",
      "\u001b[1;31mAttributeError\u001b[0m                            Traceback (most recent call last)",
      "\u001b[1;32m<ipython-input-455-34958ef38f01>\u001b[0m in \u001b[0;36m<module>\u001b[1;34m\u001b[0m\n\u001b[1;32m----> 1\u001b[1;33m \u001b[0mio\u001b[0m \u001b[1;33m=\u001b[0m \u001b[0mi\u001b[0m\u001b[1;33m.\u001b[0m\u001b[0mindweb\u001b[0m\u001b[1;33m(\u001b[0m\u001b[1;33m)\u001b[0m\u001b[1;33m\u001b[0m\u001b[1;33m\u001b[0m\u001b[0m\n\u001b[0m",
      "\u001b[1;31mAttributeError\u001b[0m: module 'indjobs' has no attribute 'indweb'"
     ]
    }
   ],
   "source": [
    "io = i.indweb()"
   ]
  },
  {
   "cell_type": "code",
   "execution_count": 17,
   "metadata": {},
   "outputs": [],
   "source": [
    "loc, keywords = tuple(pd.read_sql('select * from vars', sldb).loc[0, ['location', 'keywords']])"
   ]
  },
  {
   "cell_type": "code",
   "execution_count": 372,
   "metadata": {},
   "outputs": [
    {
     "name": "stdout",
     "output_type": "stream",
     "text": [
      "https://www.indeed.com/jobs?q=python&l=xxxxx&radius=5\n"
     ]
    }
   ],
   "source": [
    "resp = io.get_jobsrch_page(loc = loc, keywords=keywords)"
   ]
  },
  {
   "cell_type": "code",
   "execution_count": 384,
   "metadata": {},
   "outputs": [],
   "source": [
    "links = io.get_joblinks_from_html()\n",
    "linksl = pd.Series([m.group() for m in links ])"
   ]
  },
  {
   "cell_type": "code",
   "execution_count": 394,
   "metadata": {},
   "outputs": [],
   "source": [
    "for i in range(len(linksl)):\n",
    "    if linksl.str.contains(linksl[i], re.I).any():\n",
    "        print(f\"{i} is duplicated\")"
   ]
  },
  {
   "cell_type": "code",
   "execution_count": 404,
   "metadata": {},
   "outputs": [],
   "source": [
    "linksl.name = 'urlpart'#.\n",
    "linksl\n",
    "linksl.to_frame().to_sql('joblinks', sldb, if_exists='append')"
   ]
  },
  {
   "cell_type": "code",
   "execution_count": 15,
   "metadata": {},
   "outputs": [
    {
     "data": {
      "text/plain": [
       "('https://www.indeed.com/pagead/clk',\n",
       " {'mo': 'r',\n",
       "  'ad': '-6NYlbfkN0AWo9FdwxMInTQwvn1FUqjZdaNIADc6zIPOvXcnk7S6Dk8RJr6Jq6Kb1p8iy7RlZKsXbTWwN6d7V0A5BRIDhbSm3Kobn9gz7rJoZpvPIAKElYbNPf62wwp8cpTqLkeM-nsNenn5xEVwPLAs-Mbn5XMc5HL7kqR38YQGESAQ-F33e1iVtZvaBdWpy2JXfGLSxLHFWQxwH0Dg3Y2Ffs4aDmZxW7j04eKWcIC5T4v9sY43QHP9m04nvSwhgnSPVpb726J38nsXgKf8tGkeR_KqsZ2htDXC9zg_h49tKZ9JCvTJg1czfbibFXw7n6m-69wwI0kZ7GunQQahBPtPJNEZ0pnDoPoXNDWheDCk3agVBdDGeJdKR2IL5xJsZEwPDg6P1X5jlnUeoY-mhnIMJycTJuYGjJ6BI-txuedEFLuyloa7NAXG2sQt_-zJ506uhL12i_kVKt0XjUqPI7-5ZcmHZnmpEbI00uMX5lyy1Ci1nsXb7bbac7POe87EYIS0jra_JSQlMxdC2BlZB3PO8KcjZqYE',\n",
       "  'from': 'mobhp_jobfeed',\n",
       "  'tk': '1fpifru7gt6dg801',\n",
       "  'jsa': '3008',\n",
       "  'vjs': '3'})"
      ]
     },
     "execution_count": 15,
     "metadata": {},
     "output_type": "execute_result"
    }
   ],
   "source": [
    "#urls on the page use a complete different format\n",
    "url = \"https://www.indeed.com/pagead/clk?mo=r&ad=-6NYlbfkN0CAu63qYmF4ruMsyyhkvi8oPoP2sFN7ueC2iu3o-4MDNmzeq_4XpHC_7JQ4fuLa9s1i0uvUxlWjXX-WXdDOoDry3Yzi0QygmyddZubfWasRAOIzB2NhZ2vWiR6ENP2lCT79u6Nm8Muqu733gt8QPTk2chGiJHGjWNu_KHKUtnDNX9O7nfw-FCtnDJZsEUrlCgimUROBW2JHrCiCxhHdBH3TJ1lLjk6BVVhuigvAjHdzjk0EGRMU8jhvQPM_pomqIrC4Z-zRA8R3sBsoCcQw1mMEqRL8G1q98hgITgVZJnVdDZAZ81fvfHI04vmsB8xKCNexTspin-m74SHCdzjUajHNMOeCtCMTTXZZ_H47vnP2w1sYnj3wJy7H2tT5scNESWnc-aizrSx7sSZmXivWNwtA_igMAksqskwvzVo7yvO-4dhTmsUWzieOn8PtpZj3YqzDorA0VwMchI5CgRMpXgH6jOS1_Lnf46sf0iyz69ATg8dgIaUsyR_F0uhYr5Vh3vbedb487Yu90p_h9ZdmPaDE_-gIkXSsTFfFJT3UdE6FW4xxLIQMBAgDBdVDNUnNWk2K6qWwWddec5cGsXftz_Zi9wJfBhG-ltjQFqykp_EDy_glbDKpvdpCHULhWm2qJNGbnic96I4XxUEs3nYlOTyN&p=0&fvj=0&vjs=3&tk=1fpidue3cu4l6800&jsa=7644&sal=0\"\n",
    "url2=\"https://www.indeed.com/pagead/clk?mo=r&ad=-6NYlbfkN0CJm4vJz7SDlL3lGccjaB2wU5huGLb-8XfJ0aGDrrd1pG8mLTi2J32p6pgCxb7OlmWzFxuvwZAVyfXliF2wgwwxQwfslnlrEQFuGhMFA4gGP3USg7rM6cTH8g31sXnq4T3V21nY_mfwZ2_wRsRhj4N0wH2M5HBGN4GrZrVsL8G3A2HzGc2b7vS60P63L809RENfeZHsgcZjMoUDjhPh53_YfMwVMlbbFgHM1fLM1MrFFSqqVRnJmZBQUd0liELcRcwFDtfUJZa4C6VgJxrQWygAwk9ge-1NUnvfgttgcdVkKWzaIxBXvOHk3aTytD7iBIgQu0Z-NMQ3kkEDPSR8G5UCMhb2EESrp_nPVYeg7uJ1A42RTbyReDG6E3A8T2UTBWxIruFfD0eERoG9GRrouPgSMnbKDWa86p4TYDqhDVHpAVV3u8-MifGIIC1BlgknGZj_X1h-4ZZJ4lr1JGfUfB-Fs64LgrcaFZEc5d66LvHXVdrPmuqxWyr_YbNrJLzaOII5vkzs7AoSp7CUyO-w_MMuye7yr0aOiOI=&p=1&fvj=0&vjs=3&tk=1fpidue3cu4l6800&jsa=7644\"\n",
    "url3=\"https://www.indeed.com/pagead/clk?mo=r&ad=-6NYlbfkN0AWo9FdwxMInTQwvn1FUqjZdaNIADc6zIPOvXcnk7S6Dk8RJr6Jq6Kb1p8iy7RlZKsXbTWwN6d7V0A5BRIDhbSm3Kobn9gz7rJoZpvPIAKElYbNPf62wwp8cpTqLkeM-nsNenn5xEVwPLAs-Mbn5XMc5HL7kqR38YQGESAQ-F33e1iVtZvaBdWpy2JXfGLSxLHFWQxwH0Dg3Y2Ffs4aDmZxW7j04eKWcIC5T4v9sY43QHP9m04nvSwhgnSPVpb726J38nsXgKf8tGkeR_KqsZ2htDXC9zg_h49tKZ9JCvTJg1czfbibFXw7n6m-69wwI0kZ7GunQQahBPtPJNEZ0pnDoPoXNDWheDCk3agVBdDGeJdKR2IL5xJsZEwPDg6P1X5jlnUeoY-mhnIMJycTJuYGjJ6BI-txuedEFLuyloa7NAXG2sQt_-zJ506uhL12i_kVKt0XjUqPI7-5ZcmHZnmpEbI00uMX5lyy1Ci1nsXb7bbac7POe87EYIS0jra_JSQlMxdC2BlZB3PO8KcjZqYE&from=mobhp_jobfeed&tk=1fpifru7gt6dg801&jsa=3008&vjs=3\"\n",
    "indweb.parse_url_params(url3)"
   ]
  },
  {
   "cell_type": "markdown",
   "metadata": {},
   "source": [
    "## exploring a job detail page"
   ]
  },
  {
   "cell_type": "code",
   "execution_count": 400,
   "metadata": {},
   "outputs": [
    {
     "name": "stdout",
     "output_type": "stream",
     "text": [
      "<class 'pandas.core.frame.DataFrame'>\n",
      "RangeIndex: 15 entries, 0 to 14\n",
      "Data columns (total 2 columns):\n",
      " #   Column   Non-Null Count  Dtype \n",
      "---  ------   --------------  ----- \n",
      " 0   index    15 non-null     int64 \n",
      " 1   urlpart  15 non-null     object\n",
      "dtypes: int64(1), object(1)\n",
      "memory usage: 368.0+ bytes\n"
     ]
    }
   ],
   "source": [
    "#need to get job descriptions for all of the urls\n",
    "linkdf = pd.read_sql('select * from joblinks', sldb)\n",
    "linkdf.info()"
   ]
  },
  {
   "cell_type": "code",
   "execution_count": 447,
   "metadata": {},
   "outputs": [
    {
     "data": {
      "text/plain": [
       "index\n",
       "0     f3893204eefa920f\n",
       "2     7c08233325d9e386\n",
       "3     88388887b8ea43b8\n",
       "4     43b094952df12544\n",
       "5     bab038b5bda6d11a\n",
       "38    e3f7000feda6bf6e\n",
       "39    886c10571b6df72a\n",
       "40    394861779252a761\n",
       "41    82d39753e9681072\n",
       "42    e2cec6af99f18fe3\n",
       "43    9dc4e1427e2e3c0d\n",
       "44    a2177374e9a06968\n",
       "45    23f5d0572cff0630\n",
       "46    1b86e4014046a7b5\n",
       "47    f97cf563e9fcdcb0\n",
       "Name: jk, dtype: object"
      ]
     },
     "execution_count": 447,
     "metadata": {},
     "output_type": "execute_result"
    }
   ],
   "source": [
    "\n",
    "\n",
    "sj_jks =saved_jobs['jk'].apply(get_url_jk_part)\n",
    "sj_jks.drop_duplicates()"
   ]
  },
  {
   "cell_type": "code",
   "execution_count": 448,
   "metadata": {},
   "outputs": [],
   "source": [
    "linkdf = linkdf[~ linkdf['urlpart'].apply(get_url_jk_part).isin(sj_jks)]"
   ]
  },
  {
   "cell_type": "code",
   "execution_count": 449,
   "metadata": {},
   "outputs": [
    {
     "name": "stdout",
     "output_type": "stream",
     "text": [
      "4\n"
     ]
    },
    {
     "data": {
      "text/html": [
       "<div>\n",
       "<style scoped>\n",
       "    .dataframe tbody tr th:only-of-type {\n",
       "        vertical-align: middle;\n",
       "    }\n",
       "\n",
       "    .dataframe tbody tr th {\n",
       "        vertical-align: top;\n",
       "    }\n",
       "\n",
       "    .dataframe thead th {\n",
       "        text-align: right;\n",
       "    }\n",
       "</style>\n",
       "<table border=\"1\" class=\"dataframe\">\n",
       "  <thead>\n",
       "    <tr style=\"text-align: right;\">\n",
       "      <th></th>\n",
       "      <th>index</th>\n",
       "      <th>urlpart</th>\n",
       "    </tr>\n",
       "  </thead>\n",
       "  <tbody>\n",
       "    <tr>\n",
       "      <th>11</th>\n",
       "      <td>11</td>\n",
       "      <td>\"/m/basecamp/viewjob?viewtype=embedded&amp;jk=28b3...</td>\n",
       "    </tr>\n",
       "    <tr>\n",
       "      <th>12</th>\n",
       "      <td>12</td>\n",
       "      <td>\"/m/basecamp/viewjob?viewtype=embedded&amp;jk=1455...</td>\n",
       "    </tr>\n",
       "    <tr>\n",
       "      <th>13</th>\n",
       "      <td>13</td>\n",
       "      <td>\"/m/basecamp/viewjob?viewtype=embedded&amp;jk=222b...</td>\n",
       "    </tr>\n",
       "    <tr>\n",
       "      <th>14</th>\n",
       "      <td>14</td>\n",
       "      <td>\"/m/basecamp/viewjob?viewtype=embedded&amp;jk=565e...</td>\n",
       "    </tr>\n",
       "  </tbody>\n",
       "</table>\n",
       "</div>"
      ],
      "text/plain": [
       "    index                                            urlpart\n",
       "11     11  \"/m/basecamp/viewjob?viewtype=embedded&jk=28b3...\n",
       "12     12  \"/m/basecamp/viewjob?viewtype=embedded&jk=1455...\n",
       "13     13  \"/m/basecamp/viewjob?viewtype=embedded&jk=222b...\n",
       "14     14  \"/m/basecamp/viewjob?viewtype=embedded&jk=565e..."
      ]
     },
     "execution_count": 449,
     "metadata": {},
     "output_type": "execute_result"
    }
   ],
   "source": [
    "print(len(linkdf))\n",
    "linkdf"
   ]
  },
  {
   "cell_type": "code",
   "execution_count": 450,
   "metadata": {},
   "outputs": [
    {
     "name": "stdout",
     "output_type": "stream",
     "text": [
      "processing \"/m/basecamp/viewjob?viewtype=embedded&jk=28b3df2fbe622503&from=vjs&tk=1fpiuu0iqt53e800\"}, ... url for job detail is https://www.indeed.com/viewjob?jk=28b3df2fbe622503\n",
      "done\n",
      "processing \"/m/basecamp/viewjob?viewtype=embedded&jk=145595560b765722&from=vjs&tk=1fpiuu0iqt53e800\"}, ... url for job detail is https://www.indeed.com/viewjob?jk=145595560b765722\n",
      "done\n",
      "processing \"/m/basecamp/viewjob?viewtype=embedded&jk=222b1413ecdb8601&from=vjs&tk=1fpiuu0iqt53e800\"}, ... url for job detail is https://www.indeed.com/viewjob?jk=222b1413ecdb8601\n",
      "done\n",
      "processing \"/m/basecamp/viewjob?viewtype=embedded&jk=565efda3b7064523&from=vjs&tk=1fpiuu0iqt53e800\"}] ... url for job detail is https://www.indeed.com/viewjob?jk=565efda3b7064523\n",
      "done\n",
      "all done\n"
     ]
    }
   ],
   "source": [
    "from time import sleep\n",
    "for l in linkdf['urlpart'].unique():\n",
    "    print(f\"processing {l} ... \", end=\"\")\n",
    "    df = process_jobdet_url(l)\n",
    "    if isinstance(df, pd.DataFrame):\n",
    "        df.to_sql('job_postings',  sldb, if_exists='append',index=False,)\n",
    "    print(\"done\")\n",
    "    sleep(5)\n",
    "print('all done')"
   ]
  },
  {
   "cell_type": "code",
   "execution_count": 289,
   "metadata": {},
   "outputs": [],
   "source": [
    "#traceback.print_tb(sys.last_traceback)\n",
    "#sys.exc_info()"
   ]
  },
  {
   "cell_type": "code",
   "execution_count": 453,
   "metadata": {
    "scrolled": true
   },
   "outputs": [
    {
     "data": {
      "text/html": [
       "<div>\n",
       "<style scoped>\n",
       "    .dataframe tbody tr th:only-of-type {\n",
       "        vertical-align: middle;\n",
       "    }\n",
       "\n",
       "    .dataframe tbody tr th {\n",
       "        vertical-align: top;\n",
       "    }\n",
       "\n",
       "    .dataframe thead th {\n",
       "        text-align: right;\n",
       "    }\n",
       "</style>\n",
       "<table border=\"1\" class=\"dataframe\">\n",
       "  <thead>\n",
       "    <tr style=\"text-align: right;\">\n",
       "      <th></th>\n",
       "      <th>title</th>\n",
       "      <th>company</th>\n",
       "      <th>description</th>\n",
       "      <th>address</th>\n",
       "      <th>jk</th>\n",
       "    </tr>\n",
       "    <tr>\n",
       "      <th>index</th>\n",
       "      <th></th>\n",
       "      <th></th>\n",
       "      <th></th>\n",
       "      <th></th>\n",
       "      <th></th>\n",
       "    </tr>\n",
       "  </thead>\n",
       "  <tbody>\n",
       "    <tr>\n",
       "      <th>0</th>\n",
       "      <td>Cloud Engineering Associate - Summer/Fall 2022</td>\n",
       "      <td>PRICE WATERHOUSE COOPERS\\n7,832 reviews\\nAlban...</td>\n",
       "      <td>Job details\\nJob Type\\nSeasonal\\nFull Job Desc...</td>\n",
       "      <td>\\n</td>\n",
       "      <td>jk=f3893204eefa920f</td>\n",
       "    </tr>\n",
       "    <tr>\n",
       "      <th>1</th>\n",
       "      <td>Cloud Engineering Associate - Summer/Fall 2022</td>\n",
       "      <td>PRICE WATERHOUSE COOPERS\\n7,832 reviews\\nAlban...</td>\n",
       "      <td>Job details\\nJob Type\\nSeasonal\\nFull Job Desc...</td>\n",
       "      <td>\\n</td>\n",
       "      <td>https://www.indeed.com/viewjob?jk=f3893204eefa...</td>\n",
       "    </tr>\n",
       "    <tr>\n",
       "      <th>2</th>\n",
       "      <td>Data Analyst (Lead)</td>\n",
       "      <td>Verizon\\n29,378 reviews\\n64 Mountain Blvd, Tow...</td>\n",
       "      <td>When you join Verizon\\nVerizon is one of the w...</td>\n",
       "      <td>\\n</td>\n",
       "      <td>https://www.indeed.com/viewjob?jk=7c08233325d9...</td>\n",
       "    </tr>\n",
       "    <tr>\n",
       "      <th>3</th>\n",
       "      <td>1628 Data Scientist</td>\n",
       "      <td>Infoorigin inc\\nTrenton, NJ</td>\n",
       "      <td>Job details\\nSalary\\n$82,974 - $218,909 a year...</td>\n",
       "      <td>\\n</td>\n",
       "      <td>https://www.indeed.com/viewjob?jk=88388887b8ea...</td>\n",
       "    </tr>\n",
       "    <tr>\n",
       "      <th>4</th>\n",
       "      <td>Sr. Analyst - (Real World Evidence Machine Lea...</td>\n",
       "      <td>Kelly\\n16,473 reviews\\nSkillman, NJ 08558\\nRemote</td>\n",
       "      <td>Job details\\nJob Type\\nTemporary\\nContract\\nFu...</td>\n",
       "      <td>\\n</td>\n",
       "      <td>https://www.indeed.com/viewjob?jk=43b094952df1...</td>\n",
       "    </tr>\n",
       "    <tr>\n",
       "      <th>38</th>\n",
       "      <td>Data Quality Engineer</td>\n",
       "      <td>Datto Jobs\\nEast Greenbush, NY</td>\n",
       "      <td>As the world's leading provider of cloud-based...</td>\n",
       "      <td>\\n</td>\n",
       "      <td>https://www.indeed.com/viewjob?jk=e3f7000feda6...</td>\n",
       "    </tr>\n",
       "    <tr>\n",
       "      <th>39</th>\n",
       "      <td>Spring 2022 Paid Placement for Graduate &amp; Unde...</td>\n",
       "      <td>New York State Office of the Attorney General\\...</td>\n",
       "      <td>Job details\\nJob Type\\nPart-time\\nFull Job Des...</td>\n",
       "      <td>\\n</td>\n",
       "      <td>https://www.indeed.com/viewjob?jk=886c10571b6d...</td>\n",
       "    </tr>\n",
       "    <tr>\n",
       "      <th>40</th>\n",
       "      <td>Security Automation Engineer</td>\n",
       "      <td>S&amp;P Global\\n1,368 reviews\\nAlbany, NY 12201</td>\n",
       "      <td>Job details\\nSalary\\n$68,300 - $155,900 a year...</td>\n",
       "      <td>\\n</td>\n",
       "      <td>https://www.indeed.com/viewjob?jk=394861779252...</td>\n",
       "    </tr>\n",
       "    <tr>\n",
       "      <th>41</th>\n",
       "      <td>Part Time Computer Science Tutor -- Remote</td>\n",
       "      <td>Pearson\\n2,706 reviews\\n1365 Washington Ave, A...</td>\n",
       "      <td>Job details\\nSalary\\n$16 an hour\\nJob Type\\nPa...</td>\n",
       "      <td>\\n</td>\n",
       "      <td>https://www.indeed.com/viewjob?jk=82d39753e968...</td>\n",
       "    </tr>\n",
       "    <tr>\n",
       "      <th>42</th>\n",
       "      <td>Sr Data Scientist</td>\n",
       "      <td>GE Renewable Energy\\n102 reviews\\n1 River Road...</td>\n",
       "      <td>Job Description Summary\\nThe Digital Services ...</td>\n",
       "      <td>\\n</td>\n",
       "      <td>https://www.indeed.com/viewjob?jk=e2cec6af99f1...</td>\n",
       "    </tr>\n",
       "    <tr>\n",
       "      <th>43</th>\n",
       "      <td>Lead 5G Wireless Engineer</td>\n",
       "      <td>GE Corporate\\n8,888 reviews\\nNiskayuna, NY 123...</td>\n",
       "      <td>Job Description Summary\\nAs a Lead 5G Wireless...</td>\n",
       "      <td>\\n</td>\n",
       "      <td>https://www.indeed.com/viewjob?jk=9dc4e1427e2e...</td>\n",
       "    </tr>\n",
       "    <tr>\n",
       "      <th>44</th>\n",
       "      <td>Quality Actuarial Analyst</td>\n",
       "      <td>PRICE WATERHOUSE COOPERS\\n7,832 reviews\\nAlban...</td>\n",
       "      <td>A career in our Quality Management and Testing...</td>\n",
       "      <td>\\n</td>\n",
       "      <td>https://www.indeed.com/viewjob?jk=a2177374e9a0...</td>\n",
       "    </tr>\n",
       "    <tr>\n",
       "      <th>45</th>\n",
       "      <td>Application Engineer, Software Development</td>\n",
       "      <td>GE Gas Power\\n787 reviews\\n1 River Road, Schen...</td>\n",
       "      <td>Job Description Summary\\nThe GE Gas Power Ener...</td>\n",
       "      <td>\\n</td>\n",
       "      <td>https://www.indeed.com/viewjob?jk=23f5d0572cff...</td>\n",
       "    </tr>\n",
       "    <tr>\n",
       "      <th>46</th>\n",
       "      <td>Quality Engineer</td>\n",
       "      <td>Ecovative\\n70 Cohoes Ave Ste 103, Green Island...</td>\n",
       "      <td>Are you looking for an amazing workplace where...</td>\n",
       "      <td>\\n</td>\n",
       "      <td>https://www.indeed.com/viewjob?jk=1b86e4014046...</td>\n",
       "    </tr>\n",
       "    <tr>\n",
       "      <th>47</th>\n",
       "      <td>Cybersecurity Penetration Tester</td>\n",
       "      <td>Accenture\\n21,140 reviews\\n54 State St., Suite...</td>\n",
       "      <td>Job details\\nJob Type\\nFull-time\\nFull Job Des...</td>\n",
       "      <td>\\n</td>\n",
       "      <td>https://www.indeed.com/viewjob?jk=f97cf563e9fc...</td>\n",
       "    </tr>\n",
       "    <tr>\n",
       "      <th>48</th>\n",
       "      <td>People Analytics Manager (Total Rewards &amp; Well...</td>\n",
       "      <td>Deloitte\\n10,405 reviews\\n39 N Pearl St, Alban...</td>\n",
       "      <td>Job details\\nJob Type\\nFull-time\\nFull Job Des...</td>\n",
       "      <td>\\n</td>\n",
       "      <td>https://www.indeed.com/viewjob?jk=28b3df2fbe62...</td>\n",
       "    </tr>\n",
       "    <tr>\n",
       "      <th>49</th>\n",
       "      <td>Quality Engineer</td>\n",
       "      <td>Ecovative Design\\n70 Cohoes Ave, Troy, NY 12183</td>\n",
       "      <td>Job details\\nJob Type\\nFull-time\\nNumber of hi...</td>\n",
       "      <td>\\n</td>\n",
       "      <td>https://www.indeed.com/viewjob?jk=145595560b76...</td>\n",
       "    </tr>\n",
       "    <tr>\n",
       "      <th>50</th>\n",
       "      <td>Senior Software Engineer- Math Automated Scoring</td>\n",
       "      <td>Pearson\\n2,706 reviews\\n1365 Washington Ave, A...</td>\n",
       "      <td>Job details\\nSalary\\n$120,000 - $130,000 a yea...</td>\n",
       "      <td>\\n</td>\n",
       "      <td>https://www.indeed.com/viewjob?jk=222b1413ecdb...</td>\n",
       "    </tr>\n",
       "    <tr>\n",
       "      <th>51</th>\n",
       "      <td>Control Systems Research Engineer</td>\n",
       "      <td>GE Corporate\\n8,888 reviews\\nNiskayuna, NY 12309</td>\n",
       "      <td>Job Description Summary\\nAs a Control Systems ...</td>\n",
       "      <td>\\n</td>\n",
       "      <td>https://www.indeed.com/viewjob?jk=565efda3b706...</td>\n",
       "    </tr>\n",
       "  </tbody>\n",
       "</table>\n",
       "</div>"
      ],
      "text/plain": [
       "                                                   title  \\\n",
       "index                                                      \n",
       "0         Cloud Engineering Associate - Summer/Fall 2022   \n",
       "1         Cloud Engineering Associate - Summer/Fall 2022   \n",
       "2                                    Data Analyst (Lead)   \n",
       "3                                    1628 Data Scientist   \n",
       "4      Sr. Analyst - (Real World Evidence Machine Lea...   \n",
       "38                                 Data Quality Engineer   \n",
       "39     Spring 2022 Paid Placement for Graduate & Unde...   \n",
       "40                          Security Automation Engineer   \n",
       "41            Part Time Computer Science Tutor -- Remote   \n",
       "42                                     Sr Data Scientist   \n",
       "43                             Lead 5G Wireless Engineer   \n",
       "44                             Quality Actuarial Analyst   \n",
       "45            Application Engineer, Software Development   \n",
       "46                                      Quality Engineer   \n",
       "47                      Cybersecurity Penetration Tester   \n",
       "48     People Analytics Manager (Total Rewards & Well...   \n",
       "49                                      Quality Engineer   \n",
       "50      Senior Software Engineer- Math Automated Scoring   \n",
       "51                     Control Systems Research Engineer   \n",
       "\n",
       "                                                 company  \\\n",
       "index                                                      \n",
       "0      PRICE WATERHOUSE COOPERS\\n7,832 reviews\\nAlban...   \n",
       "1      PRICE WATERHOUSE COOPERS\\n7,832 reviews\\nAlban...   \n",
       "2      Verizon\\n29,378 reviews\\n64 Mountain Blvd, Tow...   \n",
       "3                            Infoorigin inc\\nTrenton, NJ   \n",
       "4      Kelly\\n16,473 reviews\\nSkillman, NJ 08558\\nRemote   \n",
       "38                        Datto Jobs\\nEast Greenbush, NY   \n",
       "39     New York State Office of the Attorney General\\...   \n",
       "40           S&P Global\\n1,368 reviews\\nAlbany, NY 12201   \n",
       "41     Pearson\\n2,706 reviews\\n1365 Washington Ave, A...   \n",
       "42     GE Renewable Energy\\n102 reviews\\n1 River Road...   \n",
       "43     GE Corporate\\n8,888 reviews\\nNiskayuna, NY 123...   \n",
       "44     PRICE WATERHOUSE COOPERS\\n7,832 reviews\\nAlban...   \n",
       "45     GE Gas Power\\n787 reviews\\n1 River Road, Schen...   \n",
       "46     Ecovative\\n70 Cohoes Ave Ste 103, Green Island...   \n",
       "47     Accenture\\n21,140 reviews\\n54 State St., Suite...   \n",
       "48     Deloitte\\n10,405 reviews\\n39 N Pearl St, Alban...   \n",
       "49       Ecovative Design\\n70 Cohoes Ave, Troy, NY 12183   \n",
       "50     Pearson\\n2,706 reviews\\n1365 Washington Ave, A...   \n",
       "51      GE Corporate\\n8,888 reviews\\nNiskayuna, NY 12309   \n",
       "\n",
       "                                             description address  \\\n",
       "index                                                              \n",
       "0      Job details\\nJob Type\\nSeasonal\\nFull Job Desc...      \\n   \n",
       "1      Job details\\nJob Type\\nSeasonal\\nFull Job Desc...      \\n   \n",
       "2      When you join Verizon\\nVerizon is one of the w...      \\n   \n",
       "3      Job details\\nSalary\\n$82,974 - $218,909 a year...      \\n   \n",
       "4      Job details\\nJob Type\\nTemporary\\nContract\\nFu...      \\n   \n",
       "38     As the world's leading provider of cloud-based...      \\n   \n",
       "39     Job details\\nJob Type\\nPart-time\\nFull Job Des...      \\n   \n",
       "40     Job details\\nSalary\\n$68,300 - $155,900 a year...      \\n   \n",
       "41     Job details\\nSalary\\n$16 an hour\\nJob Type\\nPa...      \\n   \n",
       "42     Job Description Summary\\nThe Digital Services ...      \\n   \n",
       "43     Job Description Summary\\nAs a Lead 5G Wireless...      \\n   \n",
       "44     A career in our Quality Management and Testing...      \\n   \n",
       "45     Job Description Summary\\nThe GE Gas Power Ener...      \\n   \n",
       "46     Are you looking for an amazing workplace where...      \\n   \n",
       "47     Job details\\nJob Type\\nFull-time\\nFull Job Des...      \\n   \n",
       "48     Job details\\nJob Type\\nFull-time\\nFull Job Des...      \\n   \n",
       "49     Job details\\nJob Type\\nFull-time\\nNumber of hi...      \\n   \n",
       "50     Job details\\nSalary\\n$120,000 - $130,000 a yea...      \\n   \n",
       "51     Job Description Summary\\nAs a Control Systems ...      \\n   \n",
       "\n",
       "                                                      jk  \n",
       "index                                                     \n",
       "0                                    jk=f3893204eefa920f  \n",
       "1      https://www.indeed.com/viewjob?jk=f3893204eefa...  \n",
       "2      https://www.indeed.com/viewjob?jk=7c08233325d9...  \n",
       "3      https://www.indeed.com/viewjob?jk=88388887b8ea...  \n",
       "4      https://www.indeed.com/viewjob?jk=43b094952df1...  \n",
       "38     https://www.indeed.com/viewjob?jk=e3f7000feda6...  \n",
       "39     https://www.indeed.com/viewjob?jk=886c10571b6d...  \n",
       "40     https://www.indeed.com/viewjob?jk=394861779252...  \n",
       "41     https://www.indeed.com/viewjob?jk=82d39753e968...  \n",
       "42     https://www.indeed.com/viewjob?jk=e2cec6af99f1...  \n",
       "43     https://www.indeed.com/viewjob?jk=9dc4e1427e2e...  \n",
       "44     https://www.indeed.com/viewjob?jk=a2177374e9a0...  \n",
       "45     https://www.indeed.com/viewjob?jk=23f5d0572cff...  \n",
       "46     https://www.indeed.com/viewjob?jk=1b86e4014046...  \n",
       "47     https://www.indeed.com/viewjob?jk=f97cf563e9fc...  \n",
       "48     https://www.indeed.com/viewjob?jk=28b3df2fbe62...  \n",
       "49     https://www.indeed.com/viewjob?jk=145595560b76...  \n",
       "50     https://www.indeed.com/viewjob?jk=222b1413ecdb...  \n",
       "51     https://www.indeed.com/viewjob?jk=565efda3b706...  "
      ]
     },
     "execution_count": 453,
     "metadata": {},
     "output_type": "execute_result"
    }
   ],
   "source": [
    "saved_jobs = pd.read_sql('select * from job_postings', sldb).set_index('index')\n",
    "saved_jobs"
   ]
  },
  {
   "cell_type": "code",
   "execution_count": 454,
   "metadata": {},
   "outputs": [
    {
     "data": {
      "text/plain": [
       "https://www.indeed.com/viewjob?jk=565efda3b7064523    1\n",
       "https://www.indeed.com/viewjob?jk=88388887b8ea43b8    1\n",
       "https://www.indeed.com/viewjob?jk=28b3df2fbe622503    1\n",
       "https://www.indeed.com/viewjob?jk=e3f7000feda6bf6e    1\n",
       "https://www.indeed.com/viewjob?jk=145595560b765722    1\n",
       "https://www.indeed.com/viewjob?jk=f97cf563e9fcdcb0    1\n",
       "https://www.indeed.com/viewjob?jk=222b1413ecdb8601    1\n",
       "https://www.indeed.com/viewjob?jk=23f5d0572cff0630    1\n",
       "https://www.indeed.com/viewjob?jk=f3893204eefa920f    1\n",
       "https://www.indeed.com/viewjob?jk=394861779252a761    1\n",
       "https://www.indeed.com/viewjob?jk=9dc4e1427e2e3c0d    1\n",
       "https://www.indeed.com/viewjob?jk=e2cec6af99f18fe3    1\n",
       "https://www.indeed.com/viewjob?jk=a2177374e9a06968    1\n",
       "https://www.indeed.com/viewjob?jk=7c08233325d9e386    1\n",
       "https://www.indeed.com/viewjob?jk=1b86e4014046a7b5    1\n",
       "https://www.indeed.com/viewjob?jk=43b094952df12544    1\n",
       "https://www.indeed.com/viewjob?jk=886c10571b6df72a    1\n",
       "https://www.indeed.com/viewjob?jk=82d39753e9681072    1\n",
       "jk=f3893204eefa920f                                   1\n",
       "Name: jk, dtype: int64"
      ]
     },
     "execution_count": 454,
     "metadata": {},
     "output_type": "execute_result"
    }
   ],
   "source": [
    "saved_jobs['jk'].value_counts()"
   ]
  },
  {
   "cell_type": "markdown",
   "metadata": {},
   "source": [
    "### timestamp conversion\n",
    "ts param in urls"
   ]
  },
  {
   "cell_type": "code",
   "execution_count": 6,
   "metadata": {},
   "outputs": [
    {
     "data": {
      "text/plain": [
       "'11/11/21 21:01:33'"
      ]
     },
     "execution_count": 6,
     "metadata": {},
     "output_type": "execute_result"
    }
   ],
   "source": [
    "ts = 1636682493568#1636493555554\n",
    "# moved convert_indeed_ts to indded_jobs module\n",
    "\n",
    "i.convert_indeed_ts(ts).strftime('%x %X')"
   ]
  },
  {
   "cell_type": "code",
   "execution_count": 57,
   "metadata": {},
   "outputs": [
    {
     "data": {
      "text/plain": [
       "[('icl-GlobalFooter-link', 18),\n",
       " ('emf9s7v0', 7),\n",
       " ('gnav-header-1999525', 5),\n",
       " ('jobsearch-RelatedLinks-link', 3),\n",
       " ('no class', 2),\n",
       " ('icl-Button', 2),\n",
       " ('gnav-Logo', 1),\n",
       " ('gnav-header-8l0s9d', 1),\n",
       " ('gnav-header-zq9pue', 1),\n",
       " ('gnav-header-1v8slhd', 1),\n",
       " ('e8ju0x51', 1),\n",
       " ('icl-WhatWhere-advSearchLink', 1),\n",
       " ('icl-Ratings-starsCountWrapper', 1),\n",
       " ('icl-Ratings-link', 1),\n",
       " ('icl-NavigableContainer-linkWrapper', 1),\n",
       " ('icl-Button--secondary', 1),\n",
       " ('icl-Button--sm', 1),\n",
       " ('icl-Button--primary', 1),\n",
       " ('icl-Button--md', 1)]"
      ]
     },
     "execution_count": 57,
     "metadata": {},
     "output_type": "execute_result"
    }
   ],
   "source": [
    "def dontrun():\n",
    "    #things to clean up but keeping for now in case the syntax is needed\n",
    "    l = list()\n",
    "    for e in a:\n",
    "        try:\n",
    "            l.append(e.attrs['class'])\n",
    "        except:\n",
    "            l.append(['no class'])\n",
    "    Counter(tuple(mi.flatten(l))).most_common()\n",
    "\n",
    "    pd.DataFrame([e.attrs for e in a])\n",
    "\n",
    "    rx = re.compile(r'(?:\\\")[\\w/]*?viewjob\\?[\\w=&]+(?P<jk>jk=\\w+)[\\w=&-]+.{1,3}',re.IGNORECASE|re.UNICODE)\n",
    "    #rx = re.compile(r'\"\\\".*?viewjob\\?[\\w=&]+(?P<jk>jk=\\w+)[\\w=&-]+',re.IGNORECASE|re.UNICODE)\n",
    "    #rx = re.compile(r'(?:\\\")[\\w/]+viewjob\\?',re.IGNORECASE|re.UNICODE)\n",
    "    m = rx.search(js_resp.content.decode())\n",
    "    print(m.group())\n",
    "    print(m.groups()[0])\n",
    "\n",
    "    i = rx.finditer(str(js_soup))\n",
    "    #pass a start param to get the next page of results\n",
    "    #results are usually shown 10 per page\n",
    "    #first and last jobcards seem to ahve dupe link entries with some additional params\n",
    "    links = [m.group() for m in i]\n",
    "    len(links), links\n",
    "\n",
    "    def tag_attributes_as_df():\n",
    "        linkdf = pd.DataFrame([x.attrs for x in js_soup2.find_all('a')])#['href'].sample(10)\n",
    "        linkdf.sample(10)\n",
    "\n",
    "    linkdf2=linkdf.dropna(subset=['href'])\n",
    "    linkdf2.sample(10)\n",
    "\n",
    "    linkdf2[linkdf2['href'].str.contains('job')]['href'].drop_duplicates().values\n",
    "\n",
    "    ## is there anything of value in the metadata?\n",
    "    # yes, but so hard to extract it\n",
    "    rx = re.compile('.{,100}viewjob\\?[\\w=&]+(?P<jk>jk=\\w+)[\\w=&-]+.{1,3}', re.I)\n",
    "    m = rx.search(str(res))\n",
    "    matchlocals = ['end', 'endpos', 'expand', 'group', 'groupdict', 'groups', 'lastgroup', 'lastindex', 'pos', 're', 'regs', 'span', 'start', 'string']\n",
    "    if m is not None:\n",
    "        print(m.start(), m.end(), m.pos, m.endpos, m.regs, m.group(), m.groups(), m.span())\n",
    "\n",
    "    #fields of value: snippet, truncatedCompany, viewJobLink\n",
    "\n",
    "    m.string[m.regs[0][0]:m.regs[0][1]]\n",
    "\n",
    "    lines = js_soup.prettify().splitlines()\n",
    "    res = [l for l in lines if rx.search(l)]\n",
    "    sres = str(res)\n",
    "    meta = sres[sres.index('=')+1:]\n",
    "    bigstring = unquote(meta).replace('\\\\\\\\\"','\"')#.replace('true','True').replace('false','False')\n",
    "    #json.loads(bigstring)#fails\n",
    "    #exec(bigstring) #not python dict either\n",
    "\n",
    "\n",
    "    len(bigstring)\n",
    "\n",
    "    link = \"https://www.indeed.com/pagead/clk?mo=r&ad=-6NYlbfkN0CAu63qYmF4ruMsyyhkvi8oPoP2sFN7ueC2iu3o-4MDNmzeq_4XpHC_7JQ4fuLa9s1i0uvUxlWjXX-WXdDOoDry3Yzi0QygmyddZubfWasRAOIzB2NhZ2vWiR6ENP2lCT79u6Nm8Muqu733gt8QPTk2chGiJHGjWNu_KHKUtnDNX9O7nfw-FCtnDJZsEUrlCgimUROBW2JHrCiCxhHdBH3TJ1lLjk6BVVhuigvAjHdzjk0EGRMU8jhvQPM_pomqIrC4Z-zRA8R3sBsoCcQw1mMEqRL8G1q98hgITgVZJnVdDZAZ81fvfHI04vmsB8xKCNexTspin-m74SHCdzjUajHNMOeCtCMTTXZZ_H47vnP2w1sYnj3wJy7H2tT5scNESWnc-aizrSx7sSZmXivWNwtA_igMAksqskwvzVo7yvO-4dhTmsUWzieOn8PtpZj3YqzDorA0VwMchI5CgRMpXgH6jOS1_Lnf46sf0iyz69ATg8dgIaUsyR_F0uhYr5Vh3vbedb487Yu90p_h9ZdmPaDE_-gIkXSsTFfFJT3UdE6FW4xxLIQMBAgDBdVDNUnNWk2K6qWwWddec5cGsXftz_Zi9wJfBhG-ltjQFqykp_EDy_glbDKpvdpCHULhWm2qJNGbnic96I4XxUEs3nYlOTyN&p=0&fvj=0&vjs=3&tk=1fpidue3cu4l6800&jsa=7644\"\n",
    "    unquote(link)\n",
    "\n",
    "    bigstring[951:971+200]\n",
    "\n",
    "    ### get data out of the link text in the jobcard instead - the whole jobcards is a link\n",
    "\n",
    "    lookfor_ex = \"\"\"<a id=\"job_a2184ec016dee29e\" data-mobtk=\"1fkocfvtru31j801\" data-jk=\"a2184ec016dee29e\" data-hiring-event=\"false\" rel=\"nofollow\" data-hide-spinner=\"true\" class=\"tapItem fs-unmask result job_a2184ec016dee29e resultWithShelf sponTapItem desktop vjs-highlight\" href=\"/company/Talentheed-Inc/jobs/Data-Analyst-a2184ec016dee29e?fccid=c74998f9af9be394&amp;vjs=3\" target=\"_blank\">\n",
    "    \"\"\"\n",
    "    lookfor_ex\n",
    "\n",
    "    s2 = i.clean_soup(js_soup)\n",
    "\n",
    "    def attrs_as_df_again():\n",
    "        linkdf = pd.DataFrame([x.attrs for x in s2.find_all('a')])\n",
    "        linkdf[linkdf['id'].str.contains('job_').fillna(False)]\n",
    "\n",
    "    print(s2.find('body').prettify())\n",
    "\n",
    "    pd.DataFrame([x.attrs for x  in s2.find('body').find_all('table')])"
   ]
  },
  {
   "cell_type": "code",
   "execution_count": 23,
   "metadata": {},
   "outputs": [
    {
     "name": "stdout",
     "output_type": "stream",
     "text": [
      "[<tbody><tr><td class=\"resultContent\"><h2 class=\"jobTitle jobTitle-color-purple\">Director of Financial Planning and Analysis</h2><pre><a class=\"turnstileLink companyOverviewLink\" data-tn-element=\"companyName\" href=\"/cmp/Ferraro-Foods\" rel=\"noopener\" target=\"_blank\">Ferraro Foods</a><a aria-label=\"Company rating 2.7 out of 5 stars\" class=\"ratingLink\" data-tn-variant=\"cmplinktst2\" href=\"/cmp/Ferraro-Foods/reviews\" rel=\"noopener\" target=\"_blank\" title=\"Ferraro Foods reviews\">2.7</a>Piscataway, NJ<!-- --> <!-- -->08854</pre></td></tr></tbody>] \n",
      "***\n",
      "\n",
      "[<tbody><tr class=\"jobCardShelf\"><td class=\"shelfItem indeedApply\">Easily apply</td></tr><tr class=\"underShelfFooter\"><td><ul style=\"list-style-type:circle;margin-top: 0px;margin-bottom: 0px;padding-left:20px;\">\n",
      "<li>The position of Director of Financial Planning and <b>Analysis</b> is exempt from the overtime provisions of the Federal Fair Labor Standards Act and shall not be…</li>\n",
      "</ul>Active 3 days ago</td></tr></tbody>] \n",
      "***\n",
      "\n",
      "[<tbody><tr><td class=\"resultContent\"><h2 class=\"jobTitle jobTitle-color-purple jobTitle-newJob\">newHelp Desk Technician</h2><pre>Venbrook Group LLCManalapan, NJ<!-- --> <!-- -->07726•Temporarily Remote</pre>$75,000 - $85,000 a year</td></tr></tbody>] \n",
      "***\n",
      "\n",
      "[<tbody><tr class=\"jobCardShelf\"><td class=\"shelfItem indeedApply\">Easily apply</td><td class=\"shelfItem responsiveEmployer\">Responsive employer</td><td class=\"shelfItem urgentlyHiring\">Urgently hiring</td></tr><tr class=\"underShelfFooter\"><td><ul style=\"list-style-type:circle;margin-top: 0px;margin-bottom: 0px;padding-left:20px;\">\n",
      "<li>Applicants must possess excellent written and verbal communications skills, the highest level of time management and the ability to adapt to a fast changing…</li>\n",
      "</ul>Active 3 days ago</td></tr></tbody>] \n",
      "***\n",
      "\n",
      "[<tbody><tr><td class=\"resultContent\"><h2 class=\"jobTitle jobTitle-color-purple jobTitle-newJob\">newCompensation Analyst/HR</h2><pre>AdientoneRaritan, NJ•Remote</pre>$35 - $38 an hour</td></tr></tbody>] \n",
      "***\n",
      "\n",
      "[<tbody><tr class=\"jobCardShelf\"><td class=\"shelfItem indeedApply\">Easily apply</td><td class=\"shelfItem responsiveEmployer\">Responsive employer</td></tr><tr class=\"underShelfFooter\"><td><ul style=\"list-style-type:circle;margin-top: 0px;margin-bottom: 0px;padding-left:20px;\">\n",
      "<li>Plans, executes and leads compensation team projects requiring <b>analysis</b> of factors that cross organizational lines and impact multiple organizational units.</li>\n",
      "</ul>Active 2 days ago·<ul><li>View all <a href=\"/q-Adientone-l-Raritan,-NJ-jobs.html\">Adientone jobs in Raritan, NJ</a> - <a href=\"/l-Raritan,-NJ-jobs.html\">Raritan jobs</a></li><li>Salary Search: <a href=\"/career/compensation-analyst/salaries/Raritan--NJ?campaignid=serp-more&amp;fromjk=84e580779fb3f157&amp;from=serp-more\">Compensation Analyst/HR salaries in Raritan, NJ</a></li></ul></td></tr></tbody>] \n",
      "***\n",
      "\n",
      "[<tbody><tr><td class=\"resultContent\"><h2 class=\"jobTitle jobTitle-color-purple\">Rhythm Analysis Technician / Telemetry Technician</h2><pre><a class=\"turnstileLink companyOverviewLink\" data-tn-element=\"companyName\" href=\"/cmp/Hamilton-Cardiology-Associates\" rel=\"noopener\" target=\"_blank\">HAMILTON CARDIOLOGY ASSOCIATES</a><a aria-label=\"Company rating 3.4 out of 5 stars\" class=\"ratingLink\" data-tn-variant=\"cmplinktst2\" href=\"/cmp/Hamilton-Cardiology-Associates/reviews\" rel=\"noopener\" target=\"_blank\" title=\"HAMILTON CARDIOLOGY ASSOCIATES reviews\">3.4</a>Township of Hamilton, NJ<!-- --> <!-- -->08690</pre>$21 - $25 an hour</td></tr></tbody>] \n",
      "***\n",
      "\n",
      "[<tbody><tr class=\"jobCardShelf\"><td class=\"shelfItem indeedApply\">Easily apply</td><td class=\"shelfItem responsiveEmployer\">Responsive employer</td><td class=\"shelfItem urgentlyHiring\">Urgently hiring</td></tr><tr class=\"underShelfFooter\"><td><ul style=\"list-style-type:circle;margin-top: 0px;margin-bottom: 0px;padding-left:20px;\">\n",
      "<li>Hamilton Cardiology Associates is a full service cardiology practice comprised of Board Certified Cardiologist, Nurse Practitioners and Physician Assistants.</li>\n",
      "</ul>30+ days ago·<ul><li>View all <a href=\"/q-Hamilton-Cardiology-Associates-l-Township-of-Hamilton,-NJ-jobs.html\">HAMILTON CARDIOLOGY ASSOCIATES jobs in Township of Hamilton, NJ</a> - <a href=\"/l-Township-of-Hamilton,-NJ-jobs.html\">Township of Hamilton jobs</a></li><li>Salary Search: <a href=\"/career/telemetry-technician/salaries/08690--NJ?campaignid=serp-more&amp;fromjk=8e62b99d45b86387&amp;from=serp-more\">Rhythm Analysis Technician / Telemetry Technician salaries in Township of Hamilton, NJ</a></li><li>See popular <a href=\"/cmp/Hamilton-Cardiology-Associates/faq\">questions &amp; answers about HAMILTON CARDIOLOGY ASSOCIATES</a></li></ul></td></tr></tbody>] \n",
      "***\n",
      "\n",
      "[<tbody><tr><td class=\"resultContent\"><h2 class=\"jobTitle jobTitle-color-purple\">IT Director</h2><pre>ConfidentialCranbury, NJ</pre>$80,000 - $100,000 a year</td></tr></tbody>] \n",
      "***\n",
      "\n",
      "[<tbody><tr class=\"jobCardShelf\"><td class=\"shelfItem indeedApply\">Easily apply</td></tr><tr class=\"underShelfFooter\"><td><ul style=\"list-style-type:circle;margin-top: 0px;margin-bottom: 0px;padding-left:20px;\">\n",
      "<li style=\"margin-bottom:0px;\">Experience in <b>analysis</b>, implementation and evaluation of IT systems and their specifications.</li>\n",
      "<li>You will oversee a team of IT managers and manage the company’s…</li>\n",
      "</ul>Active 3 days ago</td></tr></tbody>] \n",
      "***\n",
      "\n",
      "[<tbody><tr><td class=\"resultContent\"><h2 class=\"jobTitle jobTitle-color-purple\">Business Development and Compliance Analyst</h2><pre>Willowbridge Associates IncPlainsboro, NJ<!-- --> <!-- -->08536</pre></td></tr></tbody>] \n",
      "***\n",
      "\n",
      "[<tbody><tr class=\"jobCardShelf\"><td class=\"shelfItem indeedApply\">Easily apply</td></tr><tr class=\"underShelfFooter\"><td><ul style=\"list-style-type:circle;margin-top: 0px;margin-bottom: 0px;padding-left:20px;\">\n",
      "<li>The ideal candidate for this position will have experience in helping sales staff make deals and generate revenue, and be able to create strategic plans to…</li>\n",
      "</ul>10 days ago·<ul><li>View all <a href=\"/jobs?q=Willowbridge+Associates+Inc&amp;l=Plainsboro,+NJ&amp;nc=jasx\">Willowbridge Associates Inc jobs in Plainsboro, NJ</a> - <a href=\"/l-Plainsboro,-NJ-jobs.html\">Plainsboro jobs</a></li><li>Salary Search: <a href=\"/career/salaries/Business%20Development%20Analyst/Plainsboro,%20NJ?campaignid=serp-more&amp;fromjk=fcff74b6cebe614a&amp;from=serp-more\">Business Development and Compliance Analyst salaries</a></li></ul></td></tr></tbody>] \n",
      "***\n",
      "\n",
      "[<tbody><tr><td class=\"resultContent\"><h2 class=\"jobTitle jobTitle-color-purple jobTitle-newJob\">newBusiness Analyst</h2><pre><a class=\"turnstileLink companyOverviewLink\" data-tn-element=\"companyName\" href=\"/cmp/Devcare-Solutions\" rel=\"noopener\" target=\"_blank\">Devcare Solutions</a><a aria-label=\"Company rating 3.7 out of 5 stars\" class=\"ratingLink\" data-tn-variant=\"cmplinktst2\" href=\"/cmp/Devcare-Solutions/reviews\" rel=\"noopener\" target=\"_blank\" title=\"Devcare Solutions reviews\">3.7</a>Trenton, NJ<!-- --> <!-- -->08608<!-- --> (<!-- -->Downtown area<!-- -->)<a aria-label=\"Same Business Analyst job in 1 other location\" class=\"more_loc\" href=\"/addlLoc/redirect?tk=1fkea9m1os9t7801&amp;jk=6870b758f0736634&amp;dest=%2Fjobs%3Fq%3Danalysis%26l%3DHopewell%252C%2BNJ%26grpKey%3D8gcGdG5mdGNsuA%252Fx38wBqhAdCglub3JtdGl0bGUaEGJ1c2luZXNzIGFuYWx5c3Q%253D\" rel=\"nofollow\">+1 location</a></pre>$40 - $55 an hour</td></tr></tbody>] \n",
      "***\n",
      "\n",
      "[<tbody><tr class=\"jobCardShelf\"><td class=\"shelfItem indeedApply\">Easily apply</td></tr><tr class=\"underShelfFooter\"><td><ul style=\"list-style-type:circle;margin-top: 0px;margin-bottom: 0px;padding-left:20px;\">\n",
      "<li style=\"margin-bottom:0px;\">Experience: 5 years in business <b>analysis</b> and testing.</li>\n",
      "<li style=\"margin-bottom:0px;\">Business <b>analysis</b> and UAT: 5 years (Required).</li>\n",
      "<li>Knowledge of Accounting and Accounting systems.</li>\n",
      "</ul>Active 3 days ago·<ul><li>View all <a href=\"/q-Devcare-Solutions-l-Trenton,-NJ-jobs.html\">Devcare Solutions jobs in Trenton, NJ</a> - <a href=\"/l-Trenton,-NJ-jobs.html\">Trenton jobs</a></li><li>Salary Search: <a href=\"/career/business-analyst/salaries/08608--NJ?campaignid=serp-more&amp;fromjk=6870b758f0736634&amp;from=serp-more\">Business Analyst salaries in Trenton, NJ</a></li></ul></td></tr></tbody>] \n",
      "***\n",
      "\n",
      "[<tbody><tr><td class=\"resultContent\"><h2 class=\"jobTitle jobTitle-color-purple\">Integrated Data, Analytics, and Reporting (IDAR) Training Ac...</h2><pre><a class=\"turnstileLink companyOverviewLink\" data-tn-element=\"companyName\" href=\"/cmp/Johnson-&amp;-Johnson\" rel=\"noopener\" target=\"_blank\">Johnson &amp; Johnson Family of Companies</a><a aria-label=\"Company rating 4.2 out of 5 stars\" class=\"ratingLink\" data-tn-variant=\"cmplinktst2\" href=\"/cmp/Johnson-&amp;-Johnson/reviews\" rel=\"noopener\" target=\"_blank\" title=\"Johnson &amp; Johnson Family of Companies reviews\">4.2</a>Titusville, NJ<a aria-label=\"Same Integrated Data, Analytics, and Reporting (IDAR) Training Ac... job in 1 other location\" class=\"more_loc\" href=\"/addlLoc/redirect?tk=1fkea9m1os9t7801&amp;jk=9b18b397016e422a&amp;dest=%2Fjobs%3Fq%3Danalysis%26l%3DHopewell%252C%2BNJ%26grpKey%3DmAPVu%252B3eAqADAfIHBnRuZnRjbLgPt8UI\" rel=\"nofollow\">+1 location</a></pre></td></tr></tbody>] \n",
      "***\n",
      "\n",
      "[<tbody><tr class=\"jobCardShelf\"></tr><tr class=\"underShelfFooter\"><td><ul style=\"list-style-type:circle;margin-top: 0px;margin-bottom: 0px;padding-left:20px;\">\n",
      "<li>The role within C&amp;SP plans, designs, and develops statistical programs in support of clinical research <b>analysis</b> and reporting activities.</li>\n",
      "</ul>24 days ago·<ul><li>View all <a href=\"/q-Johnson-&amp;-Johnson-Family-of-Companies-l-Titusville,-NJ-jobs.html\">Johnson &amp; Johnson Family of Companies jobs in Titusville, NJ</a> - <a href=\"/l-Titusville,-NJ-jobs.html\">Titusville jobs</a></li><li>See popular <a href=\"/cmp/Johnson-&amp;-Johnson/faq\">questions &amp; answers about Johnson &amp; Johnson Family of Companies</a></li></ul></td></tr></tbody>] \n",
      "***\n",
      "\n",
      "[<tbody><tr><td class=\"resultContent\"><h2 class=\"jobTitle jobTitle-color-purple jobTitle-newJob\">newFinancial Analyst (Analyst 3 - Financial Planning/Analysis)...</h2><pre><a class=\"turnstileLink companyOverviewLink\" data-tn-element=\"companyName\" href=\"/cmp/Johnson-&amp;-Johnson\" rel=\"noopener\" target=\"_blank\">JnJ</a><a aria-label=\"Company rating 4.2 out of 5 stars\" class=\"ratingLink\" data-tn-variant=\"cmplinktst2\" href=\"/cmp/Johnson-&amp;-Johnson/reviews\" rel=\"noopener\" target=\"_blank\" title=\"JnJ reviews\">4.2</a>Raritan, NJ</pre></td></tr></tbody>] \n",
      "***\n",
      "\n",
      "[<tbody><tr class=\"jobCardShelf\"></tr><tr class=\"underShelfFooter\"><td><ul style=\"list-style-type:circle;margin-top: 0px;margin-bottom: 0px;padding-left:20px;\">\n",
      "<li style=\"margin-bottom:0px;\">Assist with SOW <b>analysis</b> to assess favorability/unfavorability to plan and causes of variances.</li>\n",
      "<li>Benefits on offer for this contract position: Health Insurance,…</li>\n",
      "</ul>4 days ago·<ul><li>View all <a href=\"/q-Jnj-l-Raritan,-NJ-jobs.html\">JnJ jobs in Raritan, NJ</a> - <a href=\"/l-Raritan,-NJ-jobs.html\">Raritan jobs</a></li><li>Salary Search: <a href=\"/career/salaries/Director%20of%20Financial%20Planning%20and%20Analysis/Raritan,%20NJ?campaignid=serp-more&amp;fromjk=f0c5fb1d7326dd84&amp;from=serp-more\">Financial Analyst (Analyst 3 - Financial Planning/Analysis) (contract) salaries</a></li><li>See popular <a href=\"/cmp/Johnson-&amp;-Johnson/faq\">questions &amp; answers about JnJ</a></li></ul></td></tr></tbody>] \n",
      "***\n",
      "\n",
      "[<tbody><tr><td class=\"resultContent\"><h2 class=\"jobTitle jobTitle-color-purple\">Sr. Programmer Analysts</h2><pre>CloudInfoSolPrinceton Junction, NJ</pre></td></tr></tbody>] \n",
      "***\n",
      "\n",
      "[<tbody><tr class=\"jobCardShelf\"></tr><tr class=\"underShelfFooter\"><td><ul style=\"list-style-type:circle;margin-top: 0px;margin-bottom: 0px;padding-left:20px;\">\n",
      "<li>Assist Project Manager in performing systems <b>analysis</b> and programming tasks to maintain and control the use of computer systems software as a systems programmer…</li>\n",
      "</ul>30+ days ago·<ul><li>View all <a href=\"/q-Cloudinfosol-l-Princeton-Junction,-NJ-jobs.html\">CloudInfoSol jobs in Princeton Junction, NJ</a> - <a href=\"/l-Princeton-Junction,-NJ-jobs.html\">Princeton Junction jobs</a></li><li>Salary Search: <a href=\"/career/senior-programmer-analyst/salaries/Princeton-Junction--NJ?campaignid=serp-more&amp;fromjk=d10044e2baeb199e&amp;from=serp-more\">Sr. Programmer Analysts salaries in Princeton Junction, NJ</a></li></ul></td></tr></tbody>] \n",
      "***\n",
      "\n",
      "[<tbody><tr><td class=\"resultContent\"><h2 class=\"jobTitle jobTitle-color-purple jobTitle-newJob\">newIT Business Analyst</h2><pre>LogicProPrinceton, NJ</pre></td></tr></tbody>] \n",
      "***\n",
      "\n",
      "[<tbody><tr class=\"jobCardShelf\"></tr><tr class=\"underShelfFooter\"><td><ul style=\"list-style-type:circle;margin-top: 0px;margin-bottom: 0px;padding-left:20px;\">\n",
      "<li style=\"margin-bottom:0px;\">The ideal candidate for this position is detail-oriented and highly innovative.</li>\n",
      "<li>He or she will also be responsible for translating business needs to IT…</li>\n",
      "</ul>5 days ago·<ul><li>View all <a href=\"/q-Logicpro-l-Princeton,-NJ-jobs.html\">LogicPro jobs in Princeton, NJ</a> - <a href=\"/l-Princeton,-NJ-jobs.html\">Princeton jobs</a></li><li>Salary Search: <a href=\"/career/it-analyst/salaries/Princeton--NJ?campaignid=serp-more&amp;fromjk=11f20f16db586132&amp;from=serp-more\">IT Business Analyst salaries in Princeton, NJ</a></li></ul></td></tr></tbody>] \n",
      "***\n",
      "\n",
      "[<tbody><tr><td class=\"resultContent\"><h2 class=\"jobTitle jobTitle-color-purple jobTitle-newJob\">newIT Helper</h2><pre><a class=\"turnstileLink companyOverviewLink\" data-tn-element=\"companyName\" href=\"/cmp/Ruby-Has\" rel=\"noopener\" target=\"_blank\">Ruby Has</a><a aria-label=\"Company rating 3.7 out of 5 stars\" class=\"ratingLink\" data-tn-variant=\"cmplinktst2\" href=\"/cmp/Ruby-Has/reviews\" rel=\"noopener\" target=\"_blank\" title=\"Ruby Has reviews\">3.7</a>Dayton, NJ<!-- --> <!-- -->08810</pre></td></tr></tbody>] \n",
      "***\n",
      "\n",
      "[<tbody><tr class=\"jobCardShelf\"><td class=\"shelfItem indeedApply\">Easily apply</td></tr><tr class=\"underShelfFooter\"><td><ul style=\"list-style-type:circle;margin-top: 0px;margin-bottom: 0px;padding-left:20px;\">\n",
      "<li style=\"margin-bottom:0px;\">Perform root cause <b>analysis</b> of complex problems and provide corrective actions.</li>\n",
      "<li>Install, maintain and configure hardware and software systems according to…</li>\n",
      "</ul>3 days ago·<ul><li>View all <a href=\"/q-Ruby-Has-l-Dayton,-NJ-jobs.html\">Ruby Has jobs in Dayton, NJ</a> - <a href=\"/l-Dayton,-NJ-jobs.html\">Dayton jobs</a></li><li>Salary Search: <a href=\"/career/salaries/IT%20Assistant/Dayton,%20NJ?campaignid=serp-more&amp;fromjk=371179eeb8a191bf&amp;from=serp-more\">IT Helper salaries</a></li><li>See popular <a href=\"/cmp/Ruby-Has/faq\">questions &amp; answers about Ruby Has</a></li></ul></td></tr></tbody>] \n",
      "***\n",
      "\n",
      "[<tbody><tr><td class=\"resultContent\"><h2 class=\"jobTitle jobTitle-color-purple\">PROGRAMMER ANALYSTS-CLARITY</h2><pre>R-Square Inc.Princeton, NJ<!-- --> <!-- -->08540<a aria-label=\"Same PROGRAMMER ANALYSTS-CLARITY job in 2 other locations\" class=\"more_loc\" href=\"/addlLoc/redirect?tk=1fkea9m1os9t7801&amp;jk=d99a37b65b810394&amp;dest=%2Fjobs%3Fq%3Danalysis%26l%3DHopewell%252C%2BNJ%26grpKey%3D8gcGdG5mdGNsuA%252B6%252FwGqEB8KCW5vcm10aXRsZRoScHJvZ3JhbW1lciBhbmFseXN0\" rel=\"nofollow\">+2 locations</a></pre></td></tr></tbody>] \n",
      "***\n",
      "\n",
      "[<tbody><tr class=\"jobCardShelf\"></tr><tr class=\"underShelfFooter\"><td><ul style=\"list-style-type:circle;margin-top: 0px;margin-bottom: 0px;padding-left:20px;\">\n",
      "<li style=\"margin-bottom:0px;\">PROGRAMMER ANALYSTS-CLARITY in Princeton, NJ area.</li>\n",
      "<li>Carry out functional design &amp; documentation for specialized PPM products such as clarity PPM, HP PPM.</li>\n",
      "</ul>30+ days ago·<ul><li>View all <a href=\"/jobs?q=R-square+Inc&amp;l=Princeton,+NJ&amp;nc=jasx\">R-Square Inc. jobs in Princeton, NJ</a> - <a href=\"/l-Princeton,-NJ-jobs.html\">Princeton jobs</a></li><li>Salary Search: <a href=\"/career/programmer-analyst/salaries/Princeton--NJ?campaignid=serp-more&amp;fromjk=d99a37b65b810394&amp;from=serp-more\">PROGRAMMER ANALYSTS-CLARITY salaries in Princeton, NJ</a></li></ul></td></tr></tbody>] \n",
      "***\n",
      "\n",
      "[<tbody><tr><td class=\"resultContent\"><h2 class=\"jobTitle jobTitle-color-purple jobTitle-newJob\">newSpecialist, Financial Planning &amp; Analysis - Corporate</h2><pre><a class=\"turnstileLink companyOverviewLink\" data-tn-element=\"companyName\" href=\"/cmp/Chanel\" rel=\"noopener\" target=\"_blank\">Chanel</a><a aria-label=\"Company rating 4.1 out of 5 stars\" class=\"ratingLink\" data-tn-variant=\"cmplinktst2\" href=\"/cmp/Chanel/reviews\" rel=\"noopener\" target=\"_blank\" title=\"Chanel reviews\">4.1</a>Piscataway, NJ<!-- --> <!-- -->08854</pre></td></tr></tbody>] \n",
      "***\n",
      "\n",
      "[<tbody><tr class=\"jobCardShelf\"></tr><tr class=\"underShelfFooter\"><td><ul style=\"list-style-type:circle;margin-top: 0px;margin-bottom: 0px;padding-left:20px;\">\n",
      "<li style=\"margin-bottom:0px;\">Perform ad hoc business and financial <b>analysis</b> as needed.</li>\n",
      "<li>Perform a qualitative <b>analysis</b> of the expenses budget and evolution; identify and alert on any risk or…</li>\n",
      "</ul>1 day ago·<ul><li>View all <a href=\"/q-Chanel-l-Piscataway,-NJ-jobs.html\">Chanel jobs in Piscataway, NJ</a> - <a href=\"/l-Piscataway,-NJ-jobs.html\">Piscataway jobs</a></li><li>Salary Search: <a href=\"/career/salaries/Director%20of%20Financial%20Planning%20and%20Analysis/Piscataway,%20NJ?campaignid=serp-more&amp;fromjk=86f8c80166389241&amp;from=serp-more\">Specialist, Financial Planning &amp; Analysis - Corporate salaries</a></li><li>See popular <a href=\"/cmp/Chanel/faq\">questions &amp; answers about Chanel</a></li></ul></td></tr></tbody>] \n",
      "***\n",
      "\n",
      "[<tbody><tr><td class=\"resultContent\"><h2 class=\"jobTitle jobTitle-color-purple jobTitle-newJob\">newFinancial Analyst/Trader</h2><pre><a class=\"turnstileLink companyOverviewLink\" data-tn-element=\"companyName\" href=\"/cmp/Condor-Capital-Management\" rel=\"noopener\" target=\"_blank\">Condor Capital Management</a><a aria-label=\"Company rating 4.5 out of 5 stars\" class=\"ratingLink\" data-tn-variant=\"cmplinktst2\" href=\"/cmp/Condor-Capital-Management/reviews\" rel=\"noopener\" target=\"_blank\" title=\"Condor Capital Management reviews\">4.5</a>Martinsville, NJ<!-- --> <!-- -->08836•Temporarily Remote</pre>$55,000 - $65,000 a year</td></tr></tbody>] \n",
      "***\n",
      "\n",
      "[<tbody><tr class=\"jobCardShelf\"><td class=\"shelfItem indeedApply\">Easily apply</td></tr><tr class=\"underShelfFooter\"><td><ul style=\"list-style-type:circle;margin-top: 0px;margin-bottom: 0px;padding-left:20px;\">\n",
      "<li>Condor Capital Wealth Management, a fee-only registered investment advisor recently named one of the best places to work in NJ, is seeking an entry-level…</li>\n",
      "</ul>1 day ago·<ul><li>View all <a href=\"/q-Condor-Capital-Management-l-Martinsville,-NJ-jobs.html\">Condor Capital Management jobs in Martinsville, NJ</a> - <a href=\"/l-Martinsville,-NJ-jobs.html\">Martinsville jobs</a></li><li>Salary Search: <a href=\"/career/financial-analyst/salaries/08836--NJ?campaignid=serp-more&amp;fromjk=bfb8a568523f51da&amp;from=serp-more\">Financial Analyst/Trader salaries in Martinsville, NJ</a></li></ul></td></tr></tbody>] \n",
      "***\n",
      "\n"
     ]
    }
   ],
   "source": [
    "for x in s2.find('body').find_all('table'):\n",
    "    for c in x.attrs['class']:\n",
    "        if 'jobCard' in c:\n",
    "            print(x.contents,\"\\n***\\n\")"
   ]
  },
  {
   "cell_type": "code",
   "execution_count": 2,
   "metadata": {},
   "outputs": [
    {
     "ename": "NameError",
     "evalue": "name 's2' is not defined",
     "output_type": "error",
     "traceback": [
      "\u001b[1;31m---------------------------------------------------------------------------\u001b[0m",
      "\u001b[1;31mNameError\u001b[0m                                 Traceback (most recent call last)",
      "\u001b[1;32m<ipython-input-2-c5f2706d59cf>\u001b[0m in \u001b[0;36m<module>\u001b[1;34m\u001b[0m\n\u001b[1;32m----> 1\u001b[1;33m \u001b[0mtm\u001b[0m \u001b[1;33m=\u001b[0m \u001b[0ms2\u001b[0m\u001b[1;33m.\u001b[0m\u001b[0mfind_all\u001b[0m\u001b[1;33m(\u001b[0m\u001b[1;34m'table'\u001b[0m\u001b[1;33m,\u001b[0m\u001b[0mattrs\u001b[0m\u001b[1;33m=\u001b[0m\u001b[1;33m{\u001b[0m\u001b[1;34m'class'\u001b[0m\u001b[1;33m:\u001b[0m\u001b[1;34m'jobCard_mainContent'\u001b[0m\u001b[1;33m}\u001b[0m\u001b[1;33m)\u001b[0m\u001b[1;33m\u001b[0m\u001b[1;33m\u001b[0m\u001b[0m\n\u001b[0m",
      "\u001b[1;31mNameError\u001b[0m: name 's2' is not defined"
     ]
    }
   ],
   "source": [
    "tm = s2.find_all('table',attrs={'class':'jobCard_mainContent'})"
   ]
  },
  {
   "cell_type": "code",
   "execution_count": 3,
   "metadata": {},
   "outputs": [
    {
     "ename": "NameError",
     "evalue": "name 'tm' is not defined",
     "output_type": "error",
     "traceback": [
      "\u001b[1;31m---------------------------------------------------------------------------\u001b[0m",
      "\u001b[1;31mNameError\u001b[0m                                 Traceback (most recent call last)",
      "\u001b[1;32m<ipython-input-3-f0400e80dbb0>\u001b[0m in \u001b[0;36m<module>\u001b[1;34m\u001b[0m\n\u001b[1;32m----> 1\u001b[1;33m \u001b[0me\u001b[0m \u001b[1;33m=\u001b[0m \u001b[0mtm\u001b[0m\u001b[1;33m[\u001b[0m\u001b[1;36m0\u001b[0m\u001b[1;33m]\u001b[0m\u001b[1;33m\u001b[0m\u001b[1;33m\u001b[0m\u001b[0m\n\u001b[0m",
      "\u001b[1;31mNameError\u001b[0m: name 'tm' is not defined"
     ]
    }
   ],
   "source": [
    "e = tm[0]"
   ]
  },
  {
   "cell_type": "code",
   "execution_count": 1,
   "metadata": {},
   "outputs": [
    {
     "ename": "NameError",
     "evalue": "name 'e' is not defined",
     "output_type": "error",
     "traceback": [
      "\u001b[1;31m---------------------------------------------------------------------------\u001b[0m",
      "\u001b[1;31mNameError\u001b[0m                                 Traceback (most recent call last)",
      "\u001b[1;32m<ipython-input-1-094e3afb2fe8>\u001b[0m in \u001b[0;36m<module>\u001b[1;34m\u001b[0m\n\u001b[1;32m----> 1\u001b[1;33m \u001b[0me\u001b[0m\u001b[1;33m\u001b[0m\u001b[1;33m\u001b[0m\u001b[0m\n\u001b[0m",
      "\u001b[1;31mNameError\u001b[0m: name 'e' is not defined"
     ]
    }
   ],
   "source": [
    "e"
   ]
  },
  {
   "cell_type": "code",
   "execution_count": 49,
   "metadata": {},
   "outputs": [
    {
     "data": {
      "text/plain": [
       "('table',\n",
       " {'cellpadding': '0',\n",
       "  'cellspacing': '0',\n",
       "  'class': ['jobCard_mainContent', 'big6_visualChanges'],\n",
       "  'role': 'presentation'})"
      ]
     },
     "execution_count": 49,
     "metadata": {},
     "output_type": "execute_result"
    }
   ],
   "source": [
    "e.name, e.attrs"
   ]
  },
  {
   "cell_type": "code",
   "execution_count": 46,
   "metadata": {},
   "outputs": [
    {
     "data": {
      "text/plain": [
       "[<tr><td class=\"resultContent\"><h2 class=\"jobTitle jobTitle-color-purple\">Director of Financial Planning and Analysis</h2><pre><a class=\"turnstileLink companyOverviewLink\" data-tn-element=\"companyName\" href=\"/cmp/Ferraro-Foods\" rel=\"noopener\" target=\"_blank\">Ferraro Foods</a><a aria-label=\"Company rating 2.7 out of 5 stars\" class=\"ratingLink\" data-tn-variant=\"cmplinktst2\" href=\"/cmp/Ferraro-Foods/reviews\" rel=\"noopener\" target=\"_blank\" title=\"Ferraro Foods reviews\">2.7</a>Piscataway, NJ<!-- --> <!-- -->08854</pre></td></tr>,\n",
       " <td class=\"resultContent\"><h2 class=\"jobTitle jobTitle-color-purple\">Director of Financial Planning and Analysis</h2><pre><a class=\"turnstileLink companyOverviewLink\" data-tn-element=\"companyName\" href=\"/cmp/Ferraro-Foods\" rel=\"noopener\" target=\"_blank\">Ferraro Foods</a><a aria-label=\"Company rating 2.7 out of 5 stars\" class=\"ratingLink\" data-tn-variant=\"cmplinktst2\" href=\"/cmp/Ferraro-Foods/reviews\" rel=\"noopener\" target=\"_blank\" title=\"Ferraro Foods reviews\">2.7</a>Piscataway, NJ<!-- --> <!-- -->08854</pre></td>,\n",
       " <h2 class=\"jobTitle jobTitle-color-purple\">Director of Financial Planning and Analysis</h2>,\n",
       " <pre><a class=\"turnstileLink companyOverviewLink\" data-tn-element=\"companyName\" href=\"/cmp/Ferraro-Foods\" rel=\"noopener\" target=\"_blank\">Ferraro Foods</a><a aria-label=\"Company rating 2.7 out of 5 stars\" class=\"ratingLink\" data-tn-variant=\"cmplinktst2\" href=\"/cmp/Ferraro-Foods/reviews\" rel=\"noopener\" target=\"_blank\" title=\"Ferraro Foods reviews\">2.7</a>Piscataway, NJ<!-- --> <!-- -->08854</pre>,\n",
       " <a class=\"turnstileLink companyOverviewLink\" data-tn-element=\"companyName\" href=\"/cmp/Ferraro-Foods\" rel=\"noopener\" target=\"_blank\">Ferraro Foods</a>,\n",
       " <a aria-label=\"Company rating 2.7 out of 5 stars\" class=\"ratingLink\" data-tn-variant=\"cmplinktst2\" href=\"/cmp/Ferraro-Foods/reviews\" rel=\"noopener\" target=\"_blank\" title=\"Ferraro Foods reviews\">2.7</a>]"
      ]
     },
     "execution_count": 46,
     "metadata": {},
     "output_type": "execute_result"
    }
   ],
   "source": [
    "e.next_element()#[0].name"
   ]
  },
  {
   "cell_type": "code",
   "execution_count": 55,
   "metadata": {},
   "outputs": [
    {
     "data": {
      "text/plain": [
       "(<table class=\"jobCardShelfContainer big6_visualChanges\" role=\"presentation\"><tbody><tr class=\"jobCardShelf\"><td class=\"shelfItem indeedApply\">Easily apply</td></tr><tr class=\"underShelfFooter\"><td><ul style=\"list-style-type:circle;margin-top: 0px;margin-bottom: 0px;padding-left:20px;\">\n",
       " <li>The position of Director of Financial Planning and <b>Analysis</b> is exempt from the overtime provisions of the Federal Fair Labor Standards Act and shall not be…</li>\n",
       " </ul>Active 3 days ago</td></tr></tbody></table>,\n",
       " {'class': ['jobCardShelfContainer', 'big6_visualChanges'],\n",
       "  'role': 'presentation'})"
      ]
     },
     "execution_count": 55,
     "metadata": {},
     "output_type": "execute_result"
    }
   ],
   "source": [
    "s = e.next_sibling()[0].parent\n",
    "s, s.attrs"
   ]
  },
  {
   "cell_type": "code",
   "execution_count": 60,
   "metadata": {},
   "outputs": [
    {
     "data": {
      "text/plain": [
       "[('tbody',\n",
       "  'Director of Financial Planning and AnalysisFerraro Foods2.7Piscataway, NJ 08854'),\n",
       " ('tr',\n",
       "  'Director of Financial Planning and AnalysisFerraro Foods2.7Piscataway, NJ 08854'),\n",
       " ('td',\n",
       "  'Director of Financial Planning and AnalysisFerraro Foods2.7Piscataway, NJ 08854'),\n",
       " ('h2', 'Director of Financial Planning and Analysis'),\n",
       " ('pre', 'Ferraro Foods2.7Piscataway, NJ 08854'),\n",
       " ('a', 'Ferraro Foods'),\n",
       " ('a', '2.7')]"
      ]
     },
     "execution_count": 60,
     "metadata": {},
     "output_type": "execute_result"
    }
   ],
   "source": [
    "[(x.name,x.getText()) for x in e.find_all()]"
   ]
  },
  {
   "cell_type": "code",
   "execution_count": 62,
   "metadata": {},
   "outputs": [
    {
     "data": {
      "text/plain": [
       "<table class=\"jobCardShelfContainer big6_visualChanges\" role=\"presentation\"><tbody><tr class=\"jobCardShelf\"><td class=\"shelfItem indeedApply\">Easily apply</td></tr><tr class=\"underShelfFooter\"><td><ul style=\"list-style-type:circle;margin-top: 0px;margin-bottom: 0px;padding-left:20px;\">\n",
       "<li>Condor Capital Wealth Management, a fee-only registered investment advisor recently named one of the best places to work in NJ, is seeking an entry-level…</li>\n",
       "</ul>1 day ago·<ul><li>View all <a href=\"/q-Condor-Capital-Management-l-Martinsville,-NJ-jobs.html\">Condor Capital Management jobs in Martinsville, NJ</a> - <a href=\"/l-Martinsville,-NJ-jobs.html\">Martinsville jobs</a></li><li>Salary Search: <a href=\"/career/financial-analyst/salaries/08836--NJ?campaignid=serp-more&amp;fromjk=bfb8a568523f51da&amp;from=serp-more\">Financial Analyst/Trader salaries in Martinsville, NJ</a></li></ul></td></tr></tbody></table>"
      ]
     },
     "execution_count": 62,
     "metadata": {},
     "output_type": "execute_result"
    }
   ],
   "source": [
    "x"
   ]
  },
  {
   "cell_type": "code",
   "execution_count": 63,
   "metadata": {},
   "outputs": [
    {
     "name": "stdout",
     "output_type": "stream",
     "text": [
      "https://www.indeed.com/pagead/clk?mo=r&ad=-6NYlbfkN0ADTliTSg4K3aDxe8vkHVVj5ml6bx8ND6Ab8oliGx3AtQak9O875La2bFZ7Jqdg5u11Jk7rtQt7sHG-h09JeizLnCFgpka8ASF6M6Ns7V402eW9sjD4wqrOonQX3fjpNfXoNj_bENFV2MC2Sl5ZIYgCks99e4bPYy_3v8aNsi9jcTczsfk8JvrAoGXmnQ_-Fu7WBk_Z7g2WIhfLaYs_ufNIcdyRqL_coU2UPcSB3lU6sl2j7z6Gnhe7-nuhXDLjZL80a-5Nk3r0RO8RF95zHUUuAMH1qpMZs1Frap27GCCw7ThY-4xojmOV98LS8omwJV1RHDVxuFx2Xfc9HVBIKfW1BJvbzngwZV7hGFO6hwC2xU-rJmT5GZ17gob6J9oLQbGgQ8Pv92VfkYCI82t9QmUvvN-PDFlGXYxF3cj-PiKZLfDHkZjkRD4SZJmxDRR3EQ3ilNZtAbkPm1kvYwszVtiv879tPyDLD_M=&p=1&fvj=0&vjs=3&tk=1fkebcfhu3ojk000&jsa=5310&sal=1\n"
     ]
    }
   ],
   "source": [
    "l2 = \"https://www.indeed.com/pagead/clk?mo=r&ad=-6NYlbfkN0ADTliTSg4K3aDxe8vkHVVj5ml6bx8ND6Ab8oliGx3AtQak9O875La2bFZ7Jqdg5u11Jk7rtQt7sHG-h09JeizLnCFgpka8ASF6M6Ns7V402eW9sjD4wqrOonQX3fjpNfXoNj_bENFV2MC2Sl5ZIYgCks99e4bPYy_3v8aNsi9jcTczsfk8JvrAoGXmnQ_-Fu7WBk_Z7g2WIhfLaYs_ufNIcdyRqL_coU2UPcSB3lU6sl2j7z6Gnhe7-nuhXDLjZL80a-5Nk3r0RO8RF95zHUUuAMH1qpMZs1Frap27GCCw7ThY-4xojmOV98LS8omwJV1RHDVxuFx2Xfc9HVBIKfW1BJvbzngwZV7hGFO6hwC2xU-rJmT5GZ17gob6J9oLQbGgQ8Pv92VfkYCI82t9QmUvvN-PDFlGXYxF3cj-PiKZLfDHkZjkRD4SZJmxDRR3EQ3ilNZtAbkPm1kvYwszVtiv879tPyDLD_M=&p=1&fvj=0&vjs=3&tk=1fkebcfhu3ojk000&jsa=5310&sal=1\"\n",
    "print(unquote(l2))"
   ]
  },
  {
   "cell_type": "code",
   "execution_count": 73,
   "metadata": {},
   "outputs": [
    {
     "data": {
      "text/plain": [
       "<table cellpadding=\"0\" cellspacing=\"0\" class=\"jobCard_mainContent big6_visualChanges\" role=\"presentation\"><tbody><tr><td class=\"resultContent\"><h2 class=\"jobTitle jobTitle-color-purple\">Director of Financial Planning and Analysis</h2><pre><a class=\"turnstileLink companyOverviewLink\" data-tn-element=\"companyName\" href=\"/cmp/Ferraro-Foods\" rel=\"noopener\" target=\"_blank\">Ferraro Foods</a><a aria-label=\"Company rating 2.7 out of 5 stars\" class=\"ratingLink\" data-tn-variant=\"cmplinktst2\" href=\"/cmp/Ferraro-Foods/reviews\" rel=\"noopener\" target=\"_blank\" title=\"Ferraro Foods reviews\">2.7</a>Piscataway, NJ<!-- --> <!-- -->08854</pre></td></tr></tbody></table>"
      ]
     },
     "execution_count": 73,
     "metadata": {},
     "output_type": "execute_result"
    }
   ],
   "source": [
    "e"
   ]
  },
  {
   "cell_type": "markdown",
   "metadata": {},
   "source": [
    "# read job descriptions from file"
   ]
  },
  {
   "cell_type": "code",
   "execution_count": 1,
   "metadata": {
    "scrolled": true
   },
   "outputs": [],
   "source": [
    "import os"
   ]
  },
  {
   "cell_type": "code",
   "execution_count": 11,
   "metadata": {},
   "outputs": [
    {
     "data": {
      "text/plain": [
       "'C:\\\\Users\\\\Public\\\\Documents'"
      ]
     },
     "execution_count": 11,
     "metadata": {},
     "output_type": "execute_result"
    }
   ],
   "source": [
    "#os.listdir(os.path.expanduser('~\\\\My Documents'))\n",
    "#os.path.expandvars('$userprofile\\\\My Documents') #Permission Error\n",
    "\n",
    "rootdir = os.path.join(os.environ['public'],'Documents')\n",
    "rootdir"
   ]
  },
  {
   "cell_type": "code",
   "execution_count": 39,
   "metadata": {},
   "outputs": [],
   "source": [
    "with open(os.path.join(rootdir, 'job_descs.txt'), 'r', encoding = 'utf8' ) as f:\n",
    "    alltext = f.read()"
   ]
  },
  {
   "cell_type": "code",
   "execution_count": 41,
   "metadata": {},
   "outputs": [],
   "source": [
    "docs = alltext.split('---')"
   ]
  },
  {
   "cell_type": "code",
   "execution_count": 42,
   "metadata": {},
   "outputs": [
    {
     "data": {
      "text/plain": [
       "33"
      ]
     },
     "execution_count": 42,
     "metadata": {},
     "output_type": "execute_result"
    }
   ],
   "source": [
    "#the number of 'documents that were read from the file'\n",
    "len(docs)"
   ]
  },
  {
   "cell_type": "code",
   "execution_count": 50,
   "metadata": {},
   "outputs": [
    {
     "data": {
      "text/plain": [
       "(7661, 1, 3775.151515151515)"
      ]
     },
     "execution_count": 50,
     "metadata": {},
     "output_type": "execute_result"
    }
   ],
   "source": [
    "all_lens = pd.Series(map(len, docs))\n",
    "all_lens.max(), all_lens.min(), all_lens.mean()"
   ]
  },
  {
   "cell_type": "markdown",
   "metadata": {},
   "source": [
    "for each document\n",
    "- tokenize - \n",
    "- remove punct\n",
    "- remove stopwords - built into the countVectorizer (rolled into TfidfVectorizer)\n",
    "- stem - not very helpful for clustering/classification\n",
    "    - porter stemmer\n",
    "- compute tf/idf\n"
   ]
  },
  {
   "cell_type": "code",
   "execution_count": null,
   "metadata": {},
   "outputs": [],
   "source": [
    "# fit a clustering model\n",
    "# use silhouette plot to check the clustering - differenc between cluster cohesion and cluster separation\n",
    "    - cluster cohesion - average distance between a cluster point and all other points in that cluster\n",
    "    - cluster separation - average disance between the example and all other examples in the nearest cluster\n",
    "# use ELBOW METHOD to find optimal # of clusters\n",
    "# distortion (within cluster SSE)\n"
   ]
  }
 ],
 "metadata": {
  "kernelspec": {
   "display_name": "Python 3",
   "language": "python",
   "name": "python3"
  },
  "language_info": {
   "codemirror_mode": {
    "name": "ipython",
    "version": 3
   },
   "file_extension": ".py",
   "mimetype": "text/x-python",
   "name": "python",
   "nbconvert_exporter": "python",
   "pygments_lexer": "ipython3",
   "version": "3.8.5"
  }
 },
 "nbformat": 4,
 "nbformat_minor": 4
}
