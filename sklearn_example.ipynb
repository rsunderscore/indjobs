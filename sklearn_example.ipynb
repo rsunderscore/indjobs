{
 "cells": [
  {
   "cell_type": "markdown",
   "metadata": {},
   "source": [
    "### document classification example\n",
    "based on sklearn site example entitled \"Classification of text documents using sparse features\"\n",
    "https://scikit-learn.org/stable/auto_examples/text/plot_document_classification_20newsgroups.html\n",
    "\n",
    " - some of the code appears to be out of date (e.g. old string formatting syntax)\n",
    " - much of it is also geared toward CLI runs - adapting it as a notebook\n",
    " \n",
    " The BSD 3-clause license allows you almost unlimited freedom with the software so long as you include the BSD copyright and license notice in it.\n",
    "\n",
    "© 2007 - 2021, scikit-learn developers (BSD License). \n",
    "\n",
    "Redistribution and use in source and binary forms, with or without modification, are permitted provided that the following conditions are met:\n",
    "\n",
    "1. Redistributions of source code must retain the above copyright notice, this list of conditions and the following disclaimer.\n",
    "1.     Redistributions in binary form must reproduce the above copyright notice, this list of conditions and the following disclaimer in the documentation and/or other materials provided with the distribution.\n",
    "1.     Neither the name of the copyright holder nor the names of its contributors may be used to endorse or promote products derived from this software without specific prior written permission. \n",
    "\n",
    "THIS SOFTWARE IS PROVIDED BY THE COPYRIGHT HOLDERS AND CONTRIBUTORS \"AS IS\" AND ANY EXPRESS OR IMPLIED WARRANTIES, INCLUDING, BUT NOT LIMITED TO, THE IMPLIED WARRANTIES OF MERCHANTABILITY AND FITNESS FOR A PARTICULAR PURPOSE ARE DISCLAIMED. IN NO EVENT SHALL THE COPYRIGHT HOLDER OR CONTRIBUTORS BE LIABLE FOR ANY DIRECT, INDIRECT, INCIDENTAL, SPECIAL, EXEMPLARY, OR CONSEQUENTIAL DAMAGES (INCLUDING, BUT NOT LIMITED TO, PROCUREMENT OF SUBSTITUTE GOODS OR SERVICES; LOSS OF USE, DATA, OR PROFITS; OR BUSINESS INTERRUPTION) HOWEVER CAUSED AND ON ANY THEORY OF LIABILITY, WHETHER IN CONTRACT, STRICT LIABILITY, OR TORT (INCLUDING NEGLIGENCE OR OTHERWISE) ARISING IN ANY WAY OUT OF THE USE OF THIS SOFTWARE, EVEN IF ADVISED OF THE POSSIBILITY OF SUCH DAMAGE."
   ]
  },
  {
   "cell_type": "code",
   "execution_count": 2,
   "metadata": {},
   "outputs": [],
   "source": [
    "import indjobs as ij"
   ]
  },
  {
   "cell_type": "code",
   "execution_count": 3,
   "metadata": {},
   "outputs": [
    {
     "data": {
      "text/plain": [
       "{'print_report': True,\n",
       " 'select_chi2': 1500,\n",
       " 'print_cm': True,\n",
       " 'print_top10': True,\n",
       " 'all_categories': True,\n",
       " 'use_hashing': True,\n",
       " 'n_features': 65536,\n",
       " 'filtered': True}"
      ]
     },
     "execution_count": 3,
     "metadata": {},
     "output_type": "execute_result"
    }
   ],
   "source": [
    "# Author: Peter Prettenhofer <peter.prettenhofer@gmail.com>\n",
    "#         Olivier Grisel <olivier.grisel@ensta.org>\n",
    "#         Mathieu Blondel <mathieu@mblondel.org>\n",
    "#         Lars Buitinck\n",
    "# License: BSD 3 clause\n",
    "# modified: Robert Sunderland - 2021\n",
    "\n",
    "import numpy as np\n",
    "import sys\n",
    "from time import time\n",
    "import matplotlib.pyplot as plt\n",
    "import pandas as pd\n",
    "import indjobs as i\n",
    "from types import SimpleNamespace\n",
    "\n",
    "#changed from CLI options to inline\n",
    "\n",
    "optdict = {'print_report': True,# Print a detailed classification report.\n",
    " 'select_chi2': 1500,#Select some number of features using a chi-squared test\n",
    " 'print_cm': True,#Print the confusion matrix.\n",
    " 'print_top10': True, #Print ten most discriminative terms per class for every classifier\n",
    " 'all_categories': True, #Whether to use all categories or not\n",
    " 'use_hashing': True, #Use a hashing vectorizer\n",
    " 'n_features': 2**16, #n_features when using the hashing vectorizer\n",
    " 'filtered': True} #Remove newsgroup information that is easily overfit: headers, signatures, and quoting\n",
    "\n",
    "\n",
    "optdict"
   ]
  },
  {
   "cell_type": "code",
   "execution_count": 4,
   "metadata": {
    "scrolled": true
   },
   "outputs": [
    {
     "data": {
      "text/plain": [
       "{'print_report': True,\n",
       " 'select_chi2': 1500,\n",
       " 'print_cm': True,\n",
       " 'print_top10': True,\n",
       " 'all_categories': True,\n",
       " 'use_hashing': True,\n",
       " 'n_features': 65536,\n",
       " 'filtered': True}"
      ]
     },
     "execution_count": 4,
     "metadata": {},
     "output_type": "execute_result"
    }
   ],
   "source": [
    "#d = {'key1': 'value1', 'key2': 'value2'}\n",
    "opts = SimpleNamespace(**optdict)\n",
    "#opts.__dict__\n",
    "vars(opts)"
   ]
  },
  {
   "cell_type": "code",
   "execution_count": 6,
   "metadata": {},
   "outputs": [
    {
     "data": {
      "text/plain": [
       "{'print_report': True,\n",
       " 'select_chi2': 1500,\n",
       " 'print_cm': True,\n",
       " 'print_top10': True,\n",
       " 'all_categories': True,\n",
       " 'use_hashing': True,\n",
       " 'n_features': 65536,\n",
       " 'filtered': True}"
      ]
     },
     "execution_count": 6,
     "metadata": {},
     "output_type": "execute_result"
    }
   ],
   "source": [
    "#3rd option\n",
    "class objectview(object):\n",
    "    def __init__(self, d):\n",
    "        self.__dict__ = d\n",
    "        \n",
    "opts = objectview(optdict)\n",
    "#opts.__dict__\n",
    "vars(opts)"
   ]
  },
  {
   "cell_type": "markdown",
   "metadata": {},
   "source": [
    "# load data"
   ]
  },
  {
   "cell_type": "code",
   "execution_count": 7,
   "metadata": {},
   "outputs": [],
   "source": [
    "opts.all_categories = False"
   ]
  },
  {
   "cell_type": "code",
   "execution_count": 8,
   "metadata": {},
   "outputs": [
    {
     "name": "stdout",
     "output_type": "stream",
     "text": [
      "20 newsgroups dataset for categories:['alt.atheism', 'talk.religion.misc', 'comp.graphics', 'sci.space']\n"
     ]
    }
   ],
   "source": [
    "## load data\n",
    "if opts.all_categories:\n",
    "    categories = None\n",
    "else:\n",
    "    categories = [\n",
    "        \"alt.atheism\",\n",
    "        \"talk.religion.misc\",\n",
    "        \"comp.graphics\",\n",
    "        \"sci.space\",\n",
    "    ]\n",
    "print(f\"20 newsgroups dataset for categories:{categories if categories else 'all'}\")\n"
   ]
  },
  {
   "cell_type": "code",
   "execution_count": 9,
   "metadata": {},
   "outputs": [
    {
     "data": {
      "text/plain": [
       "('headers', 'footers', 'quotes')"
      ]
     },
     "execution_count": 9,
     "metadata": {},
     "output_type": "execute_result"
    }
   ],
   "source": [
    "if opts.filtered:\n",
    "    remove = (\"headers\", \"footers\", \"quotes\")\n",
    "else:\n",
    "    remove = ()\n",
    "    \n",
    "remove"
   ]
  },
  {
   "cell_type": "code",
   "execution_count": 10,
   "metadata": {},
   "outputs": [],
   "source": [
    "def get_newsgroup_data(uselocalcopy = True, remove = ('headers', 'footers', 'quotes'), categories = ['alt.atheism', 'talk.religion.misc', 'comp.graphics', 'sci.space']):\n",
    "    import shelve as s\n",
    "    import os\n",
    "    shelfloc = r'c:\\temp\\20newsgroups.dat'\n",
    "    data_train = None\n",
    "    data_test = None\n",
    "    if os.path.exists(shelfloc) and uselocalcopy:\n",
    "        with s.open(os.path.splitext(shelfloc)[0]) as datastore:\n",
    "            try: \n",
    "                data_train = datastore['data_train']\n",
    "                data_test = datastore['data_test']\n",
    "            except KeyError as e:\n",
    "                print(f'ERROR: could not find key: {e.args[0].decode()}')\n",
    "                get_newsgroup_data(False)\n",
    "    else:\n",
    "        print(f'updating local copy at {shelfloc}')\n",
    "        from sklearn.datasets import fetch_20newsgroups\n",
    "        data_train = fetch_20newsgroups(subset=\"train\", categories=categories, shuffle=True, random_state=42, remove=remove)\n",
    "        data_test = fetch_20newsgroups(subset=\"test\", categories=categories, shuffle=True, random_state=42, remove=remove)\n",
    "        \n",
    "        #save for later use without doing download\n",
    "        with s.open(os.path.splitext(shelfloc)[0]) as datastore:\n",
    "            datastore['data_train'] = data_train\n",
    "            datastore['data_test'] = data_test\n",
    "    return data_train, data_test\n",
    "\n",
    "(data_train, data_test) = get_newsgroup_data(remove=remove, categories=categories)"
   ]
  },
  {
   "cell_type": "code",
   "execution_count": 11,
   "metadata": {},
   "outputs": [
    {
     "data": {
      "text/plain": [
       "(sklearn.utils.Bunch, sklearn.utils.Bunch)"
      ]
     },
     "execution_count": 11,
     "metadata": {},
     "output_type": "execute_result"
    }
   ],
   "source": [
    "type(data_train), type(data_test)"
   ]
  },
  {
   "cell_type": "code",
   "execution_count": 12,
   "metadata": {},
   "outputs": [
    {
     "data": {
      "text/plain": [
       "array([1, 3, 2, ..., 1, 0, 1], dtype=int64)"
      ]
     },
     "execution_count": 12,
     "metadata": {},
     "output_type": "execute_result"
    }
   ],
   "source": [
    "data_train.target"
   ]
  },
  {
   "cell_type": "code",
   "execution_count": 13,
   "metadata": {},
   "outputs": [
    {
     "data": {
      "text/plain": [
       "['alt.atheism', 'comp.graphics', 'sci.space', 'talk.religion.misc']"
      ]
     },
     "execution_count": 13,
     "metadata": {},
     "output_type": "execute_result"
    }
   ],
   "source": [
    "# order of labels in `target_names` can be different from `categories`\n",
    "target_names = data_train.target_names\n",
    "target_names"
   ]
  },
  {
   "cell_type": "code",
   "execution_count": 14,
   "metadata": {},
   "outputs": [
    {
     "name": "stdout",
     "output_type": "stream",
     "text": [
      "2034 documents - 2.43MB (training set)\n",
      "1353 documents - 1.8MB (test set)\n",
      "4 categories\n"
     ]
    }
   ],
   "source": [
    "def size_mb(docs):\n",
    "    return sum(len(s.encode(\"utf-8\")) for s in docs) / 1e6\n",
    "\n",
    "\n",
    "data_train_size_mb = size_mb(data_train.data)\n",
    "data_test_size_mb = size_mb(data_test.data)\n",
    "\n",
    "print(f\"{len(data_train.data)} documents - {data_train_size_mb:0.3}MB (training set)\")\n",
    "print(f\"{len(data_test.data)} documents - {data_test_size_mb:0.3}MB (test set)\")\n",
    "print(f\"{len(target_names)} categories\")"
   ]
  },
  {
   "cell_type": "code",
   "execution_count": 15,
   "metadata": {},
   "outputs": [
    {
     "data": {
      "text/plain": [
       "(numpy.ndarray, 2034, numpy.ndarray, 1353)"
      ]
     },
     "execution_count": 15,
     "metadata": {},
     "output_type": "execute_result"
    }
   ],
   "source": [
    "# split a training set and a test set\n",
    "y_train, y_test = data_train.target, data_test.target\n",
    "type(y_train), len(y_train), type(y_test), len(y_test)"
   ]
  },
  {
   "cell_type": "code",
   "execution_count": 16,
   "metadata": {},
   "outputs": [],
   "source": [
    "opts.use_hashing = False"
   ]
  },
  {
   "cell_type": "code",
   "execution_count": 17,
   "metadata": {},
   "outputs": [
    {
     "name": "stdout",
     "output_type": "stream",
     "text": [
      "Extracting features from the training data using a sparse vectorizer\n",
      "done in 0.28932s at 8.39 MB/s\n",
      "n_samples: 2034, n_features: 26576\n"
     ]
    }
   ],
   "source": [
    "from sklearn.feature_extraction.text import TfidfVectorizer\n",
    "from sklearn.feature_extraction.text import HashingVectorizer\n",
    "print(\"Extracting features from the training data using a sparse vectorizer\")\n",
    "t0 = time()\n",
    "if opts.use_hashing:\n",
    "    vectorizer = HashingVectorizer(stop_words=\"english\", alternate_sign=False, n_features=opts.n_features)\n",
    "    X_train = vectorizer.transform(data_train.data)\n",
    "else:\n",
    "    vectorizer = TfidfVectorizer(sublinear_tf=True, max_df=0.5, stop_words=\"english\")\n",
    "    X_train = vectorizer.fit_transform(data_train.data)\n",
    "duration = time() - t0\n",
    "print(f\"done in {duration:0.5}s at {data_train_size_mb / duration:0.3} MB/s\" )\n",
    "print(f\"n_samples: {X_train.shape[0]}, n_features: {X_train.shape[1]}\" )"
   ]
  },
  {
   "cell_type": "code",
   "execution_count": 18,
   "metadata": {},
   "outputs": [
    {
     "data": {
      "text/plain": [
       "690        20mbytes\n",
       "898            2870\n",
       "2621           acts\n",
       "4850        bounces\n",
       "6210          colon\n",
       "6363     comparison\n",
       "7744        defunct\n",
       "20127       regions\n",
       "21013       rutgers\n",
       "25960          whew\n",
       "dtype: object"
      ]
     },
     "execution_count": 18,
     "metadata": {},
     "output_type": "execute_result"
    }
   ],
   "source": [
    "f = vectorizer.get_feature_names()#Array mapping from feature integer indices to feature name.\n",
    "pd.Series(f).sample(10).sort_index()"
   ]
  },
  {
   "cell_type": "code",
   "execution_count": 19,
   "metadata": {},
   "outputs": [
    {
     "data": {
      "text/plain": [
       "19836"
      ]
     },
     "execution_count": 19,
     "metadata": {},
     "output_type": "execute_result"
    }
   ],
   "source": [
    "sorted(vectorizer.vocabulary_)#same as get_feature_names\n",
    "vectorizer.vocabulary_['reactionary']"
   ]
  },
  {
   "cell_type": "code",
   "execution_count": 20,
   "metadata": {},
   "outputs": [
    {
     "name": "stdout",
     "output_type": "stream",
     "text": [
      "Extracting features from the test data using the same vectorizer\n",
      "done in 0.17593s at 10.2 MB/s\n",
      "n_samples: 1353, n_features: 26576\n"
     ]
    }
   ],
   "source": [
    "print(\"Extracting features from the test data using the same vectorizer\")\n",
    "t0 = time()\n",
    "X_test = vectorizer.transform(data_test.data)\n",
    "duration = time() - t0\n",
    "#print(\"done in %fs at %0.3fMB/s\" % (duration, data_test_size_mb / duration))\n",
    "#print(\"n_samples: %d, n_features: %d\" % X_test.shape)\n",
    "print(f\"done in {duration:0.5}s at {data_test_size_mb / duration:0.3} MB/s\" )\n",
    "print(f\"n_samples: {X_test.shape[0]}, n_features: {X_test.shape[1]}\" )"
   ]
  },
  {
   "cell_type": "markdown",
   "metadata": {},
   "source": [
    "- https://scikit-learn.org/stable/modules/generated/sklearn.feature_extraction.text.TfidfVectorizer.html"
   ]
  },
  {
   "cell_type": "code",
   "execution_count": 21,
   "metadata": {},
   "outputs": [
    {
     "data": {
      "text/plain": [
       "7240        crushing\n",
       "7527           daveb\n",
       "9280     enhancement\n",
       "12009        heretic\n",
       "13394     invariants\n",
       "13614            ivr\n",
       "14144          knife\n",
       "17506            ose\n",
       "17758         panama\n",
       "24627         tychay\n",
       "dtype: object"
      ]
     },
     "execution_count": 21,
     "metadata": {},
     "output_type": "execute_result"
    }
   ],
   "source": [
    "# mapping from integer feature name to original token string\n",
    "if opts.use_hashing:\n",
    "    feature_names = None\n",
    "else:\n",
    "    #feature_names = vectorizer.get_feature_names_out()#not in v0.23.2\n",
    "    feature_names = vectorizer.get_feature_names()\n",
    "pd.Series(feature_names).sample(10).sort_index()"
   ]
  },
  {
   "cell_type": "code",
   "execution_count": 22,
   "metadata": {},
   "outputs": [
    {
     "name": "stdout",
     "output_type": "stream",
     "text": [
      "Extracting 1500 best features by a chi-squared test\n",
      "done in 0.0235440731048584s\n"
     ]
    },
    {
     "data": {
      "text/plain": [
       "48        accept\n",
       "274         cobb\n",
       "421     displays\n",
       "719          jim\n",
       "1196      saving\n",
       "1197     saviour\n",
       "1241    siggraph\n",
       "1293     station\n",
       "1438     viewing\n",
       "1467        wish\n",
       "dtype: object"
      ]
     },
     "execution_count": 22,
     "metadata": {},
     "output_type": "execute_result"
    }
   ],
   "source": [
    "from sklearn.feature_selection import SelectKBest, chi2\n",
    "if opts.select_chi2:\n",
    "    print(\"Extracting %d best features by a chi-squared test\" % opts.select_chi2)\n",
    "    t0 = time()\n",
    "    ch2 = SelectKBest(chi2, k=opts.select_chi2)\n",
    "    X_train = ch2.fit_transform(X_train, y_train)\n",
    "    X_test = ch2.transform(X_test)\n",
    "    if feature_names is not None:\n",
    "        # keep selected feature names\n",
    "        #feature_names = feature_names[ch2.get_support()] #fails - filtering a list with a boolean?\n",
    "        feature_names = pd.Series(feature_names)[ch2.get_support()].values\n",
    "\n",
    "    print(f\"done in {(time() - t0)}s\" )\n",
    "\n",
    "pd.Series(feature_names).sample(10).sort_index()\n",
    "#def trim(s):\n",
    "#    \"\"\"Trim string to fit on terminal (assuming 80-column display)\"\"\"\n",
    "#    return s if len(s) <= 80 else s[:77] + \"...\""
   ]
  },
  {
   "cell_type": "markdown",
   "metadata": {},
   "source": [
    "# benchmark classifiers"
   ]
  },
  {
   "cell_type": "code",
   "execution_count": 23,
   "metadata": {},
   "outputs": [],
   "source": [
    "#benchmark classifiers - utility function\n",
    "from sklearn import metrics\n",
    "from sklearn.utils.extmath import density\n",
    "def benchmark(clf, prettyname=None, apptext = ''):\n",
    "    \"\"\" utiltiy function for determining how good the classifier is \n",
    "    doesn't return the output from the classifier\"\"\"\n",
    "    print(\"_\" * 80)\n",
    "    print(\"Training: \")\n",
    "    print(clf)\n",
    "    t0 = time()\n",
    "    clf.fit(X_train, y_train)\n",
    "    train_time = time() - t0\n",
    "    print(f\"train time: {train_time}fs\" )\n",
    "\n",
    "    t0 = time()\n",
    "    pred = clf.predict(X_test)\n",
    "    test_time = time() - t0\n",
    "    print(f\"test time:  {test_time}fs\" )\n",
    "\n",
    "    score = metrics.accuracy_score(y_test, pred)\n",
    "    print(f\"accuracy:   {score}f\" )\n",
    "\n",
    "    if hasattr(clf, \"coef_\"):\n",
    "        print(f\"dimensionality: {clf.coef_.shape[1]}\" )\n",
    "        print(f\"density: {density(clf.coef_)}\"  )\n",
    "\n",
    "        if opts.print_top10 and feature_names is not None:\n",
    "            print(\"top 10 keywords per class:\")\n",
    "            for i, label in enumerate(target_names):\n",
    "                top10 = np.argsort(clf.coef_[i])[-10:]\n",
    "                print(f\"{label}: {' '.join(feature_names[top10])}\".strip() )\n",
    "        print()\n",
    "\n",
    "    if opts.print_report:\n",
    "        print(\"classification report:\")\n",
    "        print(metrics.classification_report(y_test, pred, target_names=target_names))\n",
    "\n",
    "    if opts.print_cm:\n",
    "        print(\"confusion matrix:\")\n",
    "        print(metrics.confusion_matrix(y_test, pred))\n",
    "\n",
    "    print()\n",
    "    clf_descr = str(clf).split(\"(\")[0] if not prettyname else prettyname\n",
    "    if len(apptext)>0: \n",
    "        clf_descr += f\" {apptext}\"\n",
    "    \n",
    "    return clf_descr, score, train_time, test_time"
   ]
  },
  {
   "cell_type": "code",
   "execution_count": 24,
   "metadata": {
    "scrolled": false
   },
   "outputs": [
    {
     "name": "stdout",
     "output_type": "stream",
     "text": [
      "================================================================================\n",
      "Ridge Classifier\n",
      "________________________________________________________________________________\n",
      "Training: \n",
      "RidgeClassifier(solver='sag', tol=0.01)\n",
      "train time: 0.03205466270446777fs\n",
      "test time:  0.0009636878967285156fs\n",
      "accuracy:   0.7612712490761271f\n",
      "dimensionality: 1500\n",
      "density: 1.0\n",
      "top 10 keywords per class:\n",
      "alt.atheism: cruel deletion islamic atheist islam bobby motto atheists atheism religion\n",
      "comp.graphics: pov images card 42 hi image file 3d computer graphics\n",
      "sci.space: air sci moon flight shuttle spacecraft launch nasa orbit space\n",
      "talk.religion.misc: order abortion koresh rosicrucian christ children jesus fbi christians christian\n",
      "\n",
      "classification report:\n",
      "                    precision    recall  f1-score   support\n",
      "\n",
      "       alt.atheism       0.71      0.58      0.64       319\n",
      "     comp.graphics       0.88      0.89      0.88       389\n",
      "         sci.space       0.73      0.92      0.81       394\n",
      "talk.religion.misc       0.68      0.54      0.60       251\n",
      "\n",
      "          accuracy                           0.76      1353\n",
      "         macro avg       0.75      0.73      0.73      1353\n",
      "      weighted avg       0.76      0.76      0.75      1353\n",
      "\n",
      "confusion matrix:\n",
      "[[186  13  59  61]\n",
      " [  5 347  35   2]\n",
      " [ 11  20 362   1]\n",
      " [ 60  16  40 135]]\n",
      "\n",
      "================================================================================\n",
      "Perceptron\n",
      "________________________________________________________________________________\n",
      "Training: \n",
      "Perceptron(max_iter=50)\n",
      "train time: 0.010689735412597656fs\n",
      "test time:  0.000997304916381836fs\n",
      "accuracy:   0.7191426459719142f\n",
      "dimensionality: 1500\n",
      "density: 0.7231666666666666\n",
      "top 10 keywords per class:\n",
      "alt.atheism: risk natural agreed believing falls imaginative enlightening atheist contradictory deletion\n",
      "comp.graphics: daemon 3d 42 pov printing keywords chip 3do ditto graphics\n",
      "sci.space: _perijoves_ launch solar wuarchive sherzer dc methodology orbit nasa space\n",
      "talk.religion.misc: deity frank predicts critus lunacy decenso themes actions shirts cult\n",
      "\n",
      "classification report:\n",
      "                    precision    recall  f1-score   support\n",
      "\n",
      "       alt.atheism       0.64      0.61      0.62       319\n",
      "     comp.graphics       0.78      0.87      0.83       389\n",
      "         sci.space       0.80      0.76      0.78       394\n",
      "talk.religion.misc       0.57      0.55      0.56       251\n",
      "\n",
      "          accuracy                           0.72      1353\n",
      "         macro avg       0.70      0.70      0.70      1353\n",
      "      weighted avg       0.72      0.72      0.72      1353\n",
      "\n",
      "confusion matrix:\n",
      "[[194  24  25  76]\n",
      " [ 11 339  31   8]\n",
      " [ 28  45 301  20]\n",
      " [ 70  24  18 139]]\n",
      "\n",
      "================================================================================\n",
      "Passive-Aggressive\n",
      "________________________________________________________________________________\n",
      "Training: \n",
      "PassiveAggressiveClassifier(max_iter=50)\n",
      "train time: 0.019946575164794922fs\n",
      "test time:  0.0010094642639160156fs\n",
      "accuracy:   0.7361419068736141f\n",
      "dimensionality: 1500\n",
      "density: 0.9585\n",
      "top 10 keywords per class:\n",
      "alt.atheism: maddi illinois bobby offensive risk alternative posters believing atheism atheist\n",
      "comp.graphics: hi edges 3d pov launched correct library 42 computer graphics\n",
      "sci.space: launch nasa shuttle ross jupiter 23 dc air orbit space\n",
      "talk.religion.misc: hare anger frank fellowship christians faith authority predicts actions cult\n",
      "\n",
      "classification report:\n",
      "                    precision    recall  f1-score   support\n",
      "\n",
      "       alt.atheism       0.66      0.59      0.62       319\n",
      "     comp.graphics       0.87      0.85      0.86       389\n",
      "         sci.space       0.73      0.87      0.80       394\n",
      "talk.religion.misc       0.61      0.53      0.57       251\n",
      "\n",
      "          accuracy                           0.74      1353\n",
      "         macro avg       0.72      0.71      0.71      1353\n",
      "      weighted avg       0.73      0.74      0.73      1353\n",
      "\n",
      "confusion matrix:\n",
      "[[189  16  44  70]\n",
      " [  7 330  47   5]\n",
      " [ 20  22 343   9]\n",
      " [ 71  12  34 134]]\n",
      "\n",
      "================================================================================\n",
      "kNN\n",
      "________________________________________________________________________________\n",
      "Training: \n",
      "KNeighborsClassifier(n_neighbors=10)\n",
      "train time: 0.001994609832763672fs\n",
      "test time:  0.10075569152832031fs\n"
     ]
    },
    {
     "name": "stderr",
     "output_type": "stream",
     "text": [
      "C:\\Users\\Rob.DESKTOP-HBG5EOT\\.conda\\envs\\myenv\\lib\\site-packages\\sklearn\\linear_model\\_ridge.py:555: UserWarning: \"sag\" solver requires many iterations to fit an intercept with sparse inputs. Either set the solver to \"auto\" or \"sparse_cg\", or set a low \"tol\" and a high \"max_iter\" (especially if inputs are not standardized).\n",
      "  warnings.warn(\n"
     ]
    },
    {
     "name": "stdout",
     "output_type": "stream",
     "text": [
      "accuracy:   0.3946784922394678f\n",
      "classification report:\n",
      "                    precision    recall  f1-score   support\n",
      "\n",
      "       alt.atheism       0.32      0.42      0.36       319\n",
      "     comp.graphics       0.49      0.48      0.48       389\n",
      "         sci.space       0.47      0.45      0.46       394\n",
      "talk.religion.misc       0.22      0.16      0.18       251\n",
      "\n",
      "          accuracy                           0.39      1353\n",
      "         macro avg       0.37      0.37      0.37      1353\n",
      "      weighted avg       0.39      0.39      0.39      1353\n",
      "\n",
      "confusion matrix:\n",
      "[[133  47  81  58]\n",
      " [ 92 185  71  41]\n",
      " [101  78 177  38]\n",
      " [ 95  69  48  39]]\n",
      "\n",
      "================================================================================\n",
      "Random forest\n",
      "________________________________________________________________________________\n",
      "Training: \n",
      "RandomForestClassifier()\n",
      "train time: 0.6602611541748047fs\n",
      "test time:  0.048203229904174805fs\n",
      "accuracy:   0.7117516629711752f\n",
      "classification report:\n",
      "                    precision    recall  f1-score   support\n",
      "\n",
      "       alt.atheism       0.58      0.63      0.61       319\n",
      "     comp.graphics       0.84      0.86      0.85       389\n",
      "         sci.space       0.72      0.83      0.77       394\n",
      "talk.religion.misc       0.65      0.39      0.49       251\n",
      "\n",
      "          accuracy                           0.71      1353\n",
      "         macro avg       0.70      0.68      0.68      1353\n",
      "      weighted avg       0.71      0.71      0.70      1353\n",
      "\n",
      "confusion matrix:\n",
      "[[201  16  56  46]\n",
      " [ 14 335  40   0]\n",
      " [ 31  27 328   8]\n",
      " [ 98  23  31  99]]\n",
      "\n"
     ]
    },
    {
     "data": {
      "text/plain": [
       "[('RidgeClassifier',\n",
       "  0.7612712490761271,\n",
       "  0.03205466270446777,\n",
       "  0.0009636878967285156),\n",
       " ('Perceptron',\n",
       "  0.7191426459719142,\n",
       "  0.010689735412597656,\n",
       "  0.000997304916381836),\n",
       " ('PassiveAggressiveClassifier',\n",
       "  0.7361419068736141,\n",
       "  0.019946575164794922,\n",
       "  0.0010094642639160156),\n",
       " ('KNeighborsClassifier',\n",
       "  0.3946784922394678,\n",
       "  0.001994609832763672,\n",
       "  0.10075569152832031),\n",
       " ('RandomForestClassifier',\n",
       "  0.7117516629711752,\n",
       "  0.6602611541748047,\n",
       "  0.048203229904174805)]"
      ]
     },
     "execution_count": 24,
     "metadata": {},
     "output_type": "execute_result"
    }
   ],
   "source": [
    "results = []\n",
    "from sklearn.linear_model import RidgeClassifier\n",
    "from sklearn.linear_model import Perceptron\n",
    "from sklearn.linear_model import PassiveAggressiveClassifier\n",
    "from sklearn.neighbors import KNeighborsClassifier\n",
    "from sklearn.ensemble import RandomForestClassifier\n",
    "\n",
    "for clf, name in (\n",
    "    (RidgeClassifier(tol=1e-2, solver=\"sag\"), \"Ridge Classifier\"),\n",
    "    (Perceptron(max_iter=50), \"Perceptron\"),\n",
    "    (PassiveAggressiveClassifier(max_iter=50), \"Passive-Aggressive\"),\n",
    "    (KNeighborsClassifier(n_neighbors=10), \"kNN\"),\n",
    "    (RandomForestClassifier(), \"Random forest\"),\n",
    "):\n",
    "    print(\"=\" * 80)\n",
    "    print(name)\n",
    "    results.append(benchmark(clf, ))\n",
    "results"
   ]
  },
  {
   "cell_type": "code",
   "execution_count": 25,
   "metadata": {
    "scrolled": false
   },
   "outputs": [
    {
     "name": "stdout",
     "output_type": "stream",
     "text": [
      "================================================================================\n",
      "L2 penalty\n",
      "________________________________________________________________________________\n",
      "Training: \n",
      "LinearSVC(dual=False, tol=0.001)\n",
      "train time: 0.016429901123046875fs\n",
      "test time:  0.0009627342224121094fs\n",
      "accuracy:   0.7590539541759054f\n",
      "dimensionality: 1500\n",
      "density: 1.0\n",
      "top 10 keywords per class:\n",
      "alt.atheism: nanci islamic islam motto risk atheist bobby atheists religion atheism\n",
      "comp.graphics: 3do sphere 68070 hi 42 file 3d image computer graphics\n",
      "sci.space: earth dc moon flight spacecraft nasa launch shuttle orbit space\n",
      "talk.religion.misc: ekr rosicrucian 666 children cult christ abortion fbi christians christian\n",
      "\n",
      "classification report:\n",
      "                    precision    recall  f1-score   support\n",
      "\n",
      "       alt.atheism       0.70      0.58      0.63       319\n",
      "     comp.graphics       0.88      0.88      0.88       389\n",
      "         sci.space       0.74      0.91      0.81       394\n",
      "talk.religion.misc       0.66      0.56      0.60       251\n",
      "\n",
      "          accuracy                           0.76      1353\n",
      "         macro avg       0.74      0.73      0.73      1353\n",
      "      weighted avg       0.76      0.76      0.75      1353\n",
      "\n",
      "confusion matrix:\n",
      "[[185  12  54  68]\n",
      " [  6 344  37   2]\n",
      " [ 14  20 358   2]\n",
      " [ 61  14  36 140]]\n",
      "\n",
      "________________________________________________________________________________\n",
      "Training: \n",
      "SGDClassifier(max_iter=50)\n",
      "train time: 0.012965202331542969fs\n",
      "test time:  0.0fs\n",
      "accuracy:   0.7583148558758315f\n",
      "dimensionality: 1500\n",
      "density: 0.909\n",
      "top 10 keywords per class:\n",
      "alt.atheism: hitler nanci atheists motto texts religion atheist risk atheism bobby\n",
      "comp.graphics: video file 3do sphere image 3d 68070 42 computer graphics\n",
      "sci.space: speculation flight star centaur nasa liftoff launch shuttle orbit space\n",
      "talk.religion.misc: authority abortion 666 terrorist cult christian fbi josephus ekr christians\n",
      "\n",
      "classification report:\n",
      "                    precision    recall  f1-score   support\n",
      "\n",
      "       alt.atheism       0.68      0.58      0.63       319\n",
      "     comp.graphics       0.89      0.88      0.89       389\n",
      "         sci.space       0.75      0.90      0.82       394\n",
      "talk.religion.misc       0.64      0.57      0.61       251\n",
      "\n",
      "          accuracy                           0.76      1353\n",
      "         macro avg       0.74      0.73      0.73      1353\n",
      "      weighted avg       0.75      0.76      0.75      1353\n",
      "\n",
      "confusion matrix:\n",
      "[[185  13  51  70]\n",
      " [  9 343  33   4]\n",
      " [ 17  16 354   7]\n",
      " [ 60  14  33 144]]\n",
      "\n",
      "================================================================================\n",
      "L1 penalty\n",
      "________________________________________________________________________________\n",
      "Training: \n",
      "LinearSVC(dual=False, penalty='l1', tol=0.001)\n",
      "train time: 0.026942014694213867fs\n",
      "test time:  0.0fs\n",
      "accuracy:   0.7450110864745011f\n",
      "dimensionality: 1500\n",
      "density: 0.185\n",
      "top 10 keywords per class:\n",
      "alt.atheism: believing risk religion deletions motto atheism atheist atheists tek bobby\n",
      "comp.graphics: 42 computer sphere hi pov 68070 file image 3d graphics\n",
      "sci.space: orion lunar rocket dc shuttle spacecraft flight launch orbit space\n",
      "talk.religion.misc: christians josephus rosicrucian witness children hare 666 cult fbi christ\n",
      "\n",
      "classification report:\n",
      "                    precision    recall  f1-score   support\n",
      "\n",
      "       alt.atheism       0.68      0.57      0.62       319\n",
      "     comp.graphics       0.88      0.87      0.87       389\n",
      "         sci.space       0.72      0.89      0.79       394\n",
      "talk.religion.misc       0.65      0.55      0.59       251\n",
      "\n",
      "          accuracy                           0.75      1353\n",
      "         macro avg       0.73      0.72      0.72      1353\n",
      "      weighted avg       0.74      0.75      0.74      1353\n",
      "\n",
      "confusion matrix:\n",
      "[[181  10  59  69]\n",
      " [  7 338  41   3]\n",
      " [ 20  19 352   3]\n",
      " [ 57  17  40 137]]\n",
      "\n",
      "________________________________________________________________________________\n",
      "Training: \n",
      "SGDClassifier(max_iter=50, penalty='l1')\n",
      "train time: 0.03293943405151367fs\n",
      "test time:  0.0009694099426269531fs\n",
      "accuracy:   0.7605321507760532f\n",
      "dimensionality: 1500\n",
      "density: 0.37966666666666665\n",
      "top 10 keywords per class:\n",
      "alt.atheism: religion alternative atheists contradictory islam believing atheism deletions atheist bobby\n",
      "comp.graphics: video 68070 42 bitmap pov image file computer 3d graphics\n",
      "sci.space: mining star speculation orion flight spacecraft dc shuttle orbit space\n",
      "talk.religion.misc: authority hare christians christ josephus blood xian fbi 666 cult\n",
      "\n",
      "classification report:\n",
      "                    precision    recall  f1-score   support\n",
      "\n",
      "       alt.atheism       0.68      0.60      0.63       319\n",
      "     comp.graphics       0.89      0.89      0.89       389\n",
      "         sci.space       0.76      0.88      0.82       394\n",
      "talk.religion.misc       0.63      0.59      0.61       251\n",
      "\n",
      "          accuracy                           0.76      1353\n",
      "         macro avg       0.74      0.74      0.74      1353\n",
      "      weighted avg       0.76      0.76      0.76      1353\n",
      "\n",
      "confusion matrix:\n",
      "[[190   8  47  74]\n",
      " [  8 346  33   2]\n",
      " [ 18  20 345  11]\n",
      " [ 64  13  26 148]]\n",
      "\n"
     ]
    },
    {
     "data": {
      "text/plain": [
       "[('RidgeClassifier',\n",
       "  0.7612712490761271,\n",
       "  0.03205466270446777,\n",
       "  0.0009636878967285156),\n",
       " ('Perceptron',\n",
       "  0.7191426459719142,\n",
       "  0.010689735412597656,\n",
       "  0.000997304916381836),\n",
       " ('PassiveAggressiveClassifier',\n",
       "  0.7361419068736141,\n",
       "  0.019946575164794922,\n",
       "  0.0010094642639160156),\n",
       " ('KNeighborsClassifier',\n",
       "  0.3946784922394678,\n",
       "  0.001994609832763672,\n",
       "  0.10075569152832031),\n",
       " ('RandomForestClassifier',\n",
       "  0.7117516629711752,\n",
       "  0.6602611541748047,\n",
       "  0.048203229904174805),\n",
       " ('LinearSVC l2',\n",
       "  0.7590539541759054,\n",
       "  0.016429901123046875,\n",
       "  0.0009627342224121094),\n",
       " ('SGDClassifier l2', 0.7583148558758315, 0.012965202331542969, 0.0),\n",
       " ('LinearSVC l1', 0.7450110864745011, 0.026942014694213867, 0.0),\n",
       " ('SGDClassifier l1',\n",
       "  0.7605321507760532,\n",
       "  0.03293943405151367,\n",
       "  0.0009694099426269531)]"
      ]
     },
     "execution_count": 25,
     "metadata": {},
     "output_type": "execute_result"
    }
   ],
   "source": [
    "from sklearn.svm import LinearSVC\n",
    "from sklearn.linear_model import SGDClassifier\n",
    "\n",
    "\n",
    "for penalty in [\"l2\", \"l1\"]:\n",
    "    print(\"=\" * 80)\n",
    "    print(\"%s penalty\" % penalty.upper())\n",
    "    # Train Liblinear model\n",
    "    results.append(benchmark(LinearSVC(penalty=penalty, dual=False, tol=1e-3), apptext = penalty))\n",
    "\n",
    "    # Train SGD model\n",
    "    results.append(benchmark(SGDClassifier(alpha=0.0001, max_iter=50, penalty=penalty), apptext=penalty))\n",
    "    \n",
    "results"
   ]
  },
  {
   "cell_type": "code",
   "execution_count": 26,
   "metadata": {},
   "outputs": [
    {
     "name": "stdout",
     "output_type": "stream",
     "text": [
      "================================================================================\n",
      "Elastic-Net penalty\n",
      "________________________________________________________________________________\n",
      "Training: \n",
      "SGDClassifier(max_iter=50, penalty='elasticnet')\n",
      "train time: 0.03393697738647461fs\n",
      "test time:  0.0fs\n",
      "accuracy:   0.762010347376201f\n",
      "dimensionality: 1500\n",
      "density: 0.7538333333333334\n",
      "top 10 keywords per class:\n",
      "alt.atheism: atheists punish nanci religion motto texts atheist bobby risk atheism\n",
      "comp.graphics: pov file sphere 3do image 68070 3d 42 computer graphics\n",
      "sci.space: star rocket nasm centaur nasa liftoff launch shuttle orbit space\n",
      "talk.religion.misc: christian authority abortion 666 terrorist fbi cult josephus ekr christians\n",
      "\n",
      "classification report:\n",
      "                    precision    recall  f1-score   support\n",
      "\n",
      "       alt.atheism       0.70      0.58      0.63       319\n",
      "     comp.graphics       0.90      0.88      0.89       389\n",
      "         sci.space       0.75      0.90      0.82       394\n",
      "talk.religion.misc       0.64      0.59      0.61       251\n",
      "\n",
      "          accuracy                           0.76      1353\n",
      "         macro avg       0.75      0.74      0.74      1353\n",
      "      weighted avg       0.76      0.76      0.76      1353\n",
      "\n",
      "confusion matrix:\n",
      "[[184  12  50  73]\n",
      " [  7 344  34   4]\n",
      " [ 16  16 355   7]\n",
      " [ 56  12  35 148]]\n",
      "\n"
     ]
    }
   ],
   "source": [
    "# Train SGD with Elastic Net penalty\n",
    "print(\"=\" * 80)\n",
    "print(\"Elastic-Net penalty\")\n",
    "results.append(\n",
    "    benchmark(SGDClassifier(alpha=0.0001, max_iter=50, penalty=\"elasticnet\"), apptext='EN')\n",
    ")"
   ]
  },
  {
   "cell_type": "code",
   "execution_count": 27,
   "metadata": {},
   "outputs": [
    {
     "name": "stdout",
     "output_type": "stream",
     "text": [
      "================================================================================\n",
      "NearestCentroid (aka Rocchio classifier)\n",
      "________________________________________________________________________________\n",
      "Training: \n",
      "NearestCentroid()\n",
      "train time: 0.003989696502685547fs\n",
      "test time:  0.0fs\n",
      "accuracy:   0.7354028085735402f\n",
      "classification report:\n",
      "                    precision    recall  f1-score   support\n",
      "\n",
      "       alt.atheism       0.64      0.53      0.58       319\n",
      "     comp.graphics       0.90      0.83      0.86       389\n",
      "         sci.space       0.72      0.90      0.80       394\n",
      "talk.religion.misc       0.62      0.60      0.61       251\n",
      "\n",
      "          accuracy                           0.74      1353\n",
      "         macro avg       0.72      0.71      0.71      1353\n",
      "      weighted avg       0.74      0.74      0.73      1353\n",
      "\n",
      "confusion matrix:\n",
      "[[168  11  58  82]\n",
      " [ 15 322  47   5]\n",
      " [ 18  18 354   4]\n",
      " [ 63   5  32 151]]\n",
      "\n"
     ]
    }
   ],
   "source": [
    "# Train NearestCentroid without threshold\n",
    "from sklearn.neighbors import NearestCentroid\n",
    "print(\"=\" * 80)\n",
    "print(\"NearestCentroid (aka Rocchio classifier)\")\n",
    "results.append(benchmark(NearestCentroid()))"
   ]
  },
  {
   "cell_type": "code",
   "execution_count": 28,
   "metadata": {},
   "outputs": [
    {
     "name": "stdout",
     "output_type": "stream",
     "text": [
      "================================================================================\n",
      "Naive Bayes\n",
      "________________________________________________________________________________\n",
      "Training: \n",
      "MultinomialNB(alpha=0.01)\n",
      "train time: 0.001987934112548828fs\n",
      "test time:  0.000978708267211914fs\n",
      "accuracy:   0.7730968218773097f\n",
      "dimensionality: 1500\n",
      "density: 1.0\n",
      "top 10 keywords per class:\n",
      "alt.atheism: believe atheists said atheism religion say think people don god\n",
      "comp.graphics: help need hi looking program image file files thanks graphics\n",
      "sci.space: people shuttle don earth think moon launch orbit nasa space\n",
      "talk.religion.misc: say did bible think christians don christian people jesus god\n",
      "\n",
      "classification report:\n",
      "                    precision    recall  f1-score   support\n",
      "\n",
      "       alt.atheism       0.69      0.66      0.67       319\n",
      "     comp.graphics       0.91      0.89      0.90       389\n",
      "         sci.space       0.77      0.91      0.83       394\n",
      "talk.religion.misc       0.66      0.52      0.58       251\n",
      "\n",
      "          accuracy                           0.77      1353\n",
      "         macro avg       0.76      0.75      0.75      1353\n",
      "      weighted avg       0.77      0.77      0.77      1353\n",
      "\n",
      "confusion matrix:\n",
      "[[211   9  39  60]\n",
      " [  5 347  35   2]\n",
      " [ 15  16 357   6]\n",
      " [ 77  11  32 131]]\n",
      "\n",
      "________________________________________________________________________________\n",
      "Training: \n",
      "BernoulliNB(alpha=0.01)\n",
      "train time: 0.001995563507080078fs\n",
      "test time:  0.0010242462158203125fs\n",
      "accuracy:   0.7479674796747967f\n",
      "dimensionality: 1500\n",
      "density: 1.0\n",
      "top 10 keywords per class:\n",
      "alt.atheism: point ve believe religion said god say think people don\n",
      "comp.graphics: files file image help don program need use graphics thanks\n",
      "sci.space: years long orbit people earth use think nasa don space\n",
      "talk.religion.misc: point christian believe jesus did say think god don people\n",
      "\n",
      "classification report:\n",
      "                    precision    recall  f1-score   support\n",
      "\n",
      "       alt.atheism       0.66      0.70      0.68       319\n",
      "     comp.graphics       0.74      0.93      0.83       389\n",
      "         sci.space       0.88      0.76      0.82       394\n",
      "talk.religion.misc       0.67      0.51      0.58       251\n",
      "\n",
      "          accuracy                           0.75      1353\n",
      "         macro avg       0.74      0.72      0.73      1353\n",
      "      weighted avg       0.75      0.75      0.74      1353\n",
      "\n",
      "confusion matrix:\n",
      "[[222  33  13  51]\n",
      " [  6 363  18   2]\n",
      " [ 19  65 300  10]\n",
      " [ 88  28   8 127]]\n",
      "\n",
      "________________________________________________________________________________\n",
      "Training: \n",
      "ComplementNB(alpha=0.1)\n",
      "train time: 0.0019941329956054688fs\n",
      "test time:  0.0009696483612060547fs\n",
      "accuracy:   0.770140428677014f\n",
      "dimensionality: 1500\n",
      "density: 1.0\n",
      "top 10 keywords per class:\n",
      "alt.atheism: shatim bucaille apples wears marital categorizing theistic hindsight ingles cobb\n",
      "comp.graphics: sco raytracer clp genoa 68070 bitmap polygon vga tiff animation\n",
      "sci.space: jenks jacked miners hydrogen 483 docking martian advertising lunar spacecraft\n",
      "talk.religion.misc: joslin coerce oto gimme orthodoxy ordo kaflowitz passover lsd ye\n",
      "\n",
      "classification report:\n",
      "                    precision    recall  f1-score   support\n",
      "\n",
      "       alt.atheism       0.62      0.69      0.65       319\n",
      "     comp.graphics       0.88      0.91      0.89       389\n",
      "         sci.space       0.87      0.82      0.85       394\n",
      "talk.religion.misc       0.65      0.57      0.61       251\n",
      "\n",
      "          accuracy                           0.77      1353\n",
      "         macro avg       0.75      0.75      0.75      1353\n",
      "      weighted avg       0.77      0.77      0.77      1353\n",
      "\n",
      "confusion matrix:\n",
      "[[219  11  20  69]\n",
      " [ 20 354  14   1]\n",
      " [ 39  21 325   9]\n",
      " [ 76  17  14 144]]\n",
      "\n"
     ]
    }
   ],
   "source": [
    "# Train sparse Naive Bayes classifiers\n",
    "from sklearn.naive_bayes import BernoulliNB, ComplementNB, MultinomialNB\n",
    "\n",
    "print(\"=\" * 80)\n",
    "print(\"Naive Bayes\")\n",
    "results.append(benchmark(MultinomialNB(alpha=0.01)))\n",
    "results.append(benchmark(BernoulliNB(alpha=0.01)))\n",
    "results.append(benchmark(ComplementNB(alpha=0.1)))"
   ]
  },
  {
   "cell_type": "code",
   "execution_count": 29,
   "metadata": {},
   "outputs": [
    {
     "name": "stdout",
     "output_type": "stream",
     "text": [
      "================================================================================\n",
      "LinearSVC with L1-based feature selection\n",
      "________________________________________________________________________________\n",
      "Training: \n",
      "Pipeline(steps=[('feature_selection',\n",
      "                 SelectFromModel(estimator=LinearSVC(dual=False, penalty='l1',\n",
      "                                                     tol=0.001))),\n",
      "                ('classification', LinearSVC())])\n",
      "train time: 0.038924455642700195fs\n",
      "test time:  0.00096893310546875fs\n",
      "accuracy:   0.7516629711751663f\n",
      "classification report:\n",
      "                    precision    recall  f1-score   support\n",
      "\n",
      "       alt.atheism       0.69      0.56      0.62       319\n",
      "     comp.graphics       0.88      0.88      0.88       389\n",
      "         sci.space       0.73      0.90      0.81       394\n",
      "talk.religion.misc       0.65      0.56      0.60       251\n",
      "\n",
      "          accuracy                           0.75      1353\n",
      "         macro avg       0.74      0.73      0.73      1353\n",
      "      weighted avg       0.75      0.75      0.75      1353\n",
      "\n",
      "confusion matrix:\n",
      "[[180  13  54  72]\n",
      " [  7 341  40   1]\n",
      " [ 15  21 355   3]\n",
      " [ 59  14  37 141]]\n",
      "\n"
     ]
    }
   ],
   "source": [
    "from sklearn.feature_selection import SelectFromModel\n",
    "from sklearn.pipeline import Pipeline\n",
    "print(\"=\" * 80)\n",
    "print(\"LinearSVC with L1-based feature selection\")\n",
    "# The smaller C, the stronger the regularization.\n",
    "# The more regularization, the more sparsity.\n",
    "results.append(\n",
    "    benchmark(\n",
    "        Pipeline([(\"feature_selection\",SelectFromModel(LinearSVC(penalty=\"l1\", dual=False, tol=1e-3)),),\n",
    "                (\"classification\", LinearSVC(penalty=\"l2\")),]\n",
    "        ), apptext='svc w L1 sel'\n",
    "    )\n",
    ")"
   ]
  },
  {
   "cell_type": "markdown",
   "metadata": {},
   "source": [
    "# add plots"
   ]
  },
  {
   "cell_type": "code",
   "execution_count": 30,
   "metadata": {},
   "outputs": [
    {
     "data": {
      "text/html": [
       "<div>\n",
       "<style scoped>\n",
       "    .dataframe tbody tr th:only-of-type {\n",
       "        vertical-align: middle;\n",
       "    }\n",
       "\n",
       "    .dataframe tbody tr th {\n",
       "        vertical-align: top;\n",
       "    }\n",
       "\n",
       "    .dataframe thead th {\n",
       "        text-align: right;\n",
       "    }\n",
       "</style>\n",
       "<table border=\"1\" class=\"dataframe\">\n",
       "  <thead>\n",
       "    <tr style=\"text-align: right;\">\n",
       "      <th></th>\n",
       "      <th>0</th>\n",
       "      <th>1</th>\n",
       "      <th>2</th>\n",
       "      <th>3</th>\n",
       "    </tr>\n",
       "  </thead>\n",
       "  <tbody>\n",
       "    <tr>\n",
       "      <th>0</th>\n",
       "      <td>RidgeClassifier</td>\n",
       "      <td>0.761271</td>\n",
       "      <td>0.032055</td>\n",
       "      <td>0.000964</td>\n",
       "    </tr>\n",
       "    <tr>\n",
       "      <th>1</th>\n",
       "      <td>Perceptron</td>\n",
       "      <td>0.719143</td>\n",
       "      <td>0.010690</td>\n",
       "      <td>0.000997</td>\n",
       "    </tr>\n",
       "    <tr>\n",
       "      <th>2</th>\n",
       "      <td>PassiveAggressiveClassifier</td>\n",
       "      <td>0.736142</td>\n",
       "      <td>0.019947</td>\n",
       "      <td>0.001009</td>\n",
       "    </tr>\n",
       "    <tr>\n",
       "      <th>3</th>\n",
       "      <td>KNeighborsClassifier</td>\n",
       "      <td>0.394678</td>\n",
       "      <td>0.001995</td>\n",
       "      <td>0.100756</td>\n",
       "    </tr>\n",
       "    <tr>\n",
       "      <th>4</th>\n",
       "      <td>RandomForestClassifier</td>\n",
       "      <td>0.711752</td>\n",
       "      <td>0.660261</td>\n",
       "      <td>0.048203</td>\n",
       "    </tr>\n",
       "    <tr>\n",
       "      <th>5</th>\n",
       "      <td>LinearSVC l2</td>\n",
       "      <td>0.759054</td>\n",
       "      <td>0.016430</td>\n",
       "      <td>0.000963</td>\n",
       "    </tr>\n",
       "    <tr>\n",
       "      <th>6</th>\n",
       "      <td>SGDClassifier l2</td>\n",
       "      <td>0.758315</td>\n",
       "      <td>0.012965</td>\n",
       "      <td>0.000000</td>\n",
       "    </tr>\n",
       "    <tr>\n",
       "      <th>7</th>\n",
       "      <td>LinearSVC l1</td>\n",
       "      <td>0.745011</td>\n",
       "      <td>0.026942</td>\n",
       "      <td>0.000000</td>\n",
       "    </tr>\n",
       "    <tr>\n",
       "      <th>8</th>\n",
       "      <td>SGDClassifier l1</td>\n",
       "      <td>0.760532</td>\n",
       "      <td>0.032939</td>\n",
       "      <td>0.000969</td>\n",
       "    </tr>\n",
       "    <tr>\n",
       "      <th>9</th>\n",
       "      <td>SGDClassifier EN</td>\n",
       "      <td>0.762010</td>\n",
       "      <td>0.033937</td>\n",
       "      <td>0.000000</td>\n",
       "    </tr>\n",
       "    <tr>\n",
       "      <th>10</th>\n",
       "      <td>NearestCentroid</td>\n",
       "      <td>0.735403</td>\n",
       "      <td>0.003990</td>\n",
       "      <td>0.000000</td>\n",
       "    </tr>\n",
       "    <tr>\n",
       "      <th>11</th>\n",
       "      <td>MultinomialNB</td>\n",
       "      <td>0.773097</td>\n",
       "      <td>0.001988</td>\n",
       "      <td>0.000979</td>\n",
       "    </tr>\n",
       "    <tr>\n",
       "      <th>12</th>\n",
       "      <td>BernoulliNB</td>\n",
       "      <td>0.747967</td>\n",
       "      <td>0.001996</td>\n",
       "      <td>0.001024</td>\n",
       "    </tr>\n",
       "    <tr>\n",
       "      <th>13</th>\n",
       "      <td>ComplementNB</td>\n",
       "      <td>0.770140</td>\n",
       "      <td>0.001994</td>\n",
       "      <td>0.000970</td>\n",
       "    </tr>\n",
       "    <tr>\n",
       "      <th>14</th>\n",
       "      <td>Pipeline svc w L1 sel</td>\n",
       "      <td>0.751663</td>\n",
       "      <td>0.038924</td>\n",
       "      <td>0.000969</td>\n",
       "    </tr>\n",
       "  </tbody>\n",
       "</table>\n",
       "</div>"
      ],
      "text/plain": [
       "                              0         1         2         3\n",
       "0               RidgeClassifier  0.761271  0.032055  0.000964\n",
       "1                    Perceptron  0.719143  0.010690  0.000997\n",
       "2   PassiveAggressiveClassifier  0.736142  0.019947  0.001009\n",
       "3          KNeighborsClassifier  0.394678  0.001995  0.100756\n",
       "4        RandomForestClassifier  0.711752  0.660261  0.048203\n",
       "5                  LinearSVC l2  0.759054  0.016430  0.000963\n",
       "6              SGDClassifier l2  0.758315  0.012965  0.000000\n",
       "7                  LinearSVC l1  0.745011  0.026942  0.000000\n",
       "8              SGDClassifier l1  0.760532  0.032939  0.000969\n",
       "9              SGDClassifier EN  0.762010  0.033937  0.000000\n",
       "10              NearestCentroid  0.735403  0.003990  0.000000\n",
       "11                MultinomialNB  0.773097  0.001988  0.000979\n",
       "12                  BernoulliNB  0.747967  0.001996  0.001024\n",
       "13                 ComplementNB  0.770140  0.001994  0.000970\n",
       "14        Pipeline svc w L1 sel  0.751663  0.038924  0.000969"
      ]
     },
     "execution_count": 30,
     "metadata": {},
     "output_type": "execute_result"
    }
   ],
   "source": [
    "#results table --  \n",
    "rdf = pd.DataFrame(results)\n",
    "rdf"
   ]
  },
  {
   "cell_type": "code",
   "execution_count": 31,
   "metadata": {},
   "outputs": [
    {
     "data": {
      "text/html": [
       "<div>\n",
       "<style scoped>\n",
       "    .dataframe tbody tr th:only-of-type {\n",
       "        vertical-align: middle;\n",
       "    }\n",
       "\n",
       "    .dataframe tbody tr th {\n",
       "        vertical-align: top;\n",
       "    }\n",
       "\n",
       "    .dataframe thead th {\n",
       "        text-align: right;\n",
       "    }\n",
       "</style>\n",
       "<table border=\"1\" class=\"dataframe\">\n",
       "  <thead>\n",
       "    <tr style=\"text-align: right;\">\n",
       "      <th></th>\n",
       "      <th>score</th>\n",
       "      <th>train_time</th>\n",
       "      <th>test_time</th>\n",
       "    </tr>\n",
       "    <tr>\n",
       "      <th>clf_descr</th>\n",
       "      <th></th>\n",
       "      <th></th>\n",
       "      <th></th>\n",
       "    </tr>\n",
       "  </thead>\n",
       "  <tbody>\n",
       "    <tr>\n",
       "      <th>MultinomialNB</th>\n",
       "      <td>0.773097</td>\n",
       "      <td>0.001988</td>\n",
       "      <td>0.000979</td>\n",
       "    </tr>\n",
       "    <tr>\n",
       "      <th>ComplementNB</th>\n",
       "      <td>0.770140</td>\n",
       "      <td>0.001994</td>\n",
       "      <td>0.000970</td>\n",
       "    </tr>\n",
       "    <tr>\n",
       "      <th>SGDClassifier EN</th>\n",
       "      <td>0.762010</td>\n",
       "      <td>0.033937</td>\n",
       "      <td>0.000000</td>\n",
       "    </tr>\n",
       "    <tr>\n",
       "      <th>RidgeClassifier</th>\n",
       "      <td>0.761271</td>\n",
       "      <td>0.032055</td>\n",
       "      <td>0.000964</td>\n",
       "    </tr>\n",
       "    <tr>\n",
       "      <th>SGDClassifier l1</th>\n",
       "      <td>0.760532</td>\n",
       "      <td>0.032939</td>\n",
       "      <td>0.000969</td>\n",
       "    </tr>\n",
       "    <tr>\n",
       "      <th>LinearSVC l2</th>\n",
       "      <td>0.759054</td>\n",
       "      <td>0.016430</td>\n",
       "      <td>0.000963</td>\n",
       "    </tr>\n",
       "    <tr>\n",
       "      <th>SGDClassifier l2</th>\n",
       "      <td>0.758315</td>\n",
       "      <td>0.012965</td>\n",
       "      <td>0.000000</td>\n",
       "    </tr>\n",
       "    <tr>\n",
       "      <th>Pipeline svc w L1 sel</th>\n",
       "      <td>0.751663</td>\n",
       "      <td>0.038924</td>\n",
       "      <td>0.000969</td>\n",
       "    </tr>\n",
       "    <tr>\n",
       "      <th>BernoulliNB</th>\n",
       "      <td>0.747967</td>\n",
       "      <td>0.001996</td>\n",
       "      <td>0.001024</td>\n",
       "    </tr>\n",
       "    <tr>\n",
       "      <th>LinearSVC l1</th>\n",
       "      <td>0.745011</td>\n",
       "      <td>0.026942</td>\n",
       "      <td>0.000000</td>\n",
       "    </tr>\n",
       "    <tr>\n",
       "      <th>PassiveAggressiveClassifier</th>\n",
       "      <td>0.736142</td>\n",
       "      <td>0.019947</td>\n",
       "      <td>0.001009</td>\n",
       "    </tr>\n",
       "    <tr>\n",
       "      <th>NearestCentroid</th>\n",
       "      <td>0.735403</td>\n",
       "      <td>0.003990</td>\n",
       "      <td>0.000000</td>\n",
       "    </tr>\n",
       "    <tr>\n",
       "      <th>Perceptron</th>\n",
       "      <td>0.719143</td>\n",
       "      <td>0.010690</td>\n",
       "      <td>0.000997</td>\n",
       "    </tr>\n",
       "    <tr>\n",
       "      <th>RandomForestClassifier</th>\n",
       "      <td>0.711752</td>\n",
       "      <td>0.660261</td>\n",
       "      <td>0.048203</td>\n",
       "    </tr>\n",
       "    <tr>\n",
       "      <th>KNeighborsClassifier</th>\n",
       "      <td>0.394678</td>\n",
       "      <td>0.001995</td>\n",
       "      <td>0.100756</td>\n",
       "    </tr>\n",
       "  </tbody>\n",
       "</table>\n",
       "</div>"
      ],
      "text/plain": [
       "                                score  train_time  test_time\n",
       "clf_descr                                                   \n",
       "MultinomialNB                0.773097    0.001988   0.000979\n",
       "ComplementNB                 0.770140    0.001994   0.000970\n",
       "SGDClassifier EN             0.762010    0.033937   0.000000\n",
       "RidgeClassifier              0.761271    0.032055   0.000964\n",
       "SGDClassifier l1             0.760532    0.032939   0.000969\n",
       "LinearSVC l2                 0.759054    0.016430   0.000963\n",
       "SGDClassifier l2             0.758315    0.012965   0.000000\n",
       "Pipeline svc w L1 sel        0.751663    0.038924   0.000969\n",
       "BernoulliNB                  0.747967    0.001996   0.001024\n",
       "LinearSVC l1                 0.745011    0.026942   0.000000\n",
       "PassiveAggressiveClassifier  0.736142    0.019947   0.001009\n",
       "NearestCentroid              0.735403    0.003990   0.000000\n",
       "Perceptron                   0.719143    0.010690   0.000997\n",
       "RandomForestClassifier       0.711752    0.660261   0.048203\n",
       "KNeighborsClassifier         0.394678    0.001995   0.100756"
      ]
     },
     "execution_count": 31,
     "metadata": {},
     "output_type": "execute_result"
    }
   ],
   "source": [
    "rdf.columns = [x.strip() for x in 'clf_descr, score, train_time, test_time'.split(',')]\n",
    "rdf.set_index('clf_descr').sort_values('score',ascending = False)"
   ]
  },
  {
   "cell_type": "code",
   "execution_count": 32,
   "metadata": {},
   "outputs": [],
   "source": [
    "#add plots\n",
    "indices = np.arange(len(results))\n",
    "results = [[x[i] for x in results] for i in range(4)]\n",
    "\n",
    "clf_names, score, training_time, test_time = results\n",
    "training_time = np.array(training_time) / np.max(training_time)\n",
    "test_time = np.array(test_time) / np.max(test_time)"
   ]
  },
  {
   "cell_type": "code",
   "execution_count": 33,
   "metadata": {},
   "outputs": [
    {
     "data": {
      "image/png": "[encoded data removed]",
      "text/plain": [
       "<Figure size 864x576 with 1 Axes>"
      ]
     },
     "metadata": {
      "needs_background": "light"
     },
     "output_type": "display_data"
    }
   ],
   "source": [
    "plt.figure(figsize=(12, 8))\n",
    "plt.title(\"Score\")\n",
    "plt.barh(indices, score, 0.2, label=\"score\", color=\"navy\")\n",
    "plt.barh(indices + 0.3, training_time, 0.2, label=\"training time\", color=\"c\")\n",
    "plt.barh(indices + 0.6, test_time, 0.2, label=\"test time\", color=\"darkorange\")\n",
    "plt.yticks(())\n",
    "plt.legend(loc=\"best\")\n",
    "plt.subplots_adjust(left=0.25)\n",
    "plt.subplots_adjust(top=0.95)\n",
    "plt.subplots_adjust(bottom=0.05)\n",
    "\n",
    "for i, c in zip(indices, clf_names):\n",
    "    plt.text(-0.3, i, c)\n",
    "\n",
    "plt.show()"
   ]
  },
  {
   "cell_type": "markdown",
   "metadata": {},
   "source": [
    "## one-off Kneighbors"
   ]
  },
  {
   "cell_type": "code",
   "execution_count": 34,
   "metadata": {},
   "outputs": [
    {
     "data": {
      "text/plain": [
       "array([1, 3, 2, ..., 1, 0, 1], dtype=int64)"
      ]
     },
     "execution_count": 34,
     "metadata": {},
     "output_type": "execute_result"
    }
   ],
   "source": [
    "y_train"
   ]
  },
  {
   "cell_type": "code",
   "execution_count": 35,
   "metadata": {},
   "outputs": [
    {
     "data": {
      "text/html": [
       "<div>\n",
       "<style scoped>\n",
       "    .dataframe tbody tr th:only-of-type {\n",
       "        vertical-align: middle;\n",
       "    }\n",
       "\n",
       "    .dataframe tbody tr th {\n",
       "        vertical-align: top;\n",
       "    }\n",
       "\n",
       "    .dataframe thead th {\n",
       "        text-align: right;\n",
       "    }\n",
       "</style>\n",
       "<table border=\"1\" class=\"dataframe\">\n",
       "  <thead>\n",
       "    <tr style=\"text-align: right;\">\n",
       "      <th></th>\n",
       "      <th>0</th>\n",
       "      <th>1</th>\n",
       "      <th>2</th>\n",
       "      <th>3</th>\n",
       "      <th>4</th>\n",
       "      <th>5</th>\n",
       "      <th>6</th>\n",
       "      <th>7</th>\n",
       "      <th>8</th>\n",
       "      <th>9</th>\n",
       "      <th>...</th>\n",
       "      <th>1490</th>\n",
       "      <th>1491</th>\n",
       "      <th>1492</th>\n",
       "      <th>1493</th>\n",
       "      <th>1494</th>\n",
       "      <th>1495</th>\n",
       "      <th>1496</th>\n",
       "      <th>1497</th>\n",
       "      <th>1498</th>\n",
       "      <th>1499</th>\n",
       "    </tr>\n",
       "  </thead>\n",
       "  <tbody>\n",
       "    <tr>\n",
       "      <th>count</th>\n",
       "      <td>2034.000000</td>\n",
       "      <td>2034.000000</td>\n",
       "      <td>2034.000000</td>\n",
       "      <td>2034.000000</td>\n",
       "      <td>2034.000000</td>\n",
       "      <td>2034.000000</td>\n",
       "      <td>2034.000000</td>\n",
       "      <td>2034.000000</td>\n",
       "      <td>2034.000000</td>\n",
       "      <td>2034.000000</td>\n",
       "      <td>...</td>\n",
       "      <td>2034.000000</td>\n",
       "      <td>2034.000000</td>\n",
       "      <td>2034.000000</td>\n",
       "      <td>2034.000000</td>\n",
       "      <td>2034.000000</td>\n",
       "      <td>2034.000000</td>\n",
       "      <td>2034.000000</td>\n",
       "      <td>2034.000000</td>\n",
       "      <td>2034.000000</td>\n",
       "      <td>2034.000000</td>\n",
       "    </tr>\n",
       "    <tr>\n",
       "      <th>mean</th>\n",
       "      <td>0.001471</td>\n",
       "      <td>0.002999</td>\n",
       "      <td>0.000376</td>\n",
       "      <td>0.002156</td>\n",
       "      <td>0.000599</td>\n",
       "      <td>0.002771</td>\n",
       "      <td>0.000514</td>\n",
       "      <td>0.000599</td>\n",
       "      <td>0.001565</td>\n",
       "      <td>0.003045</td>\n",
       "      <td>...</td>\n",
       "      <td>0.000226</td>\n",
       "      <td>0.000275</td>\n",
       "      <td>0.001091</td>\n",
       "      <td>0.000942</td>\n",
       "      <td>0.000302</td>\n",
       "      <td>0.003947</td>\n",
       "      <td>0.005437</td>\n",
       "      <td>0.000844</td>\n",
       "      <td>0.000273</td>\n",
       "      <td>0.000964</td>\n",
       "    </tr>\n",
       "    <tr>\n",
       "      <th>std</th>\n",
       "      <td>0.014319</td>\n",
       "      <td>0.015627</td>\n",
       "      <td>0.008293</td>\n",
       "      <td>0.014780</td>\n",
       "      <td>0.010190</td>\n",
       "      <td>0.017775</td>\n",
       "      <td>0.011125</td>\n",
       "      <td>0.010190</td>\n",
       "      <td>0.015390</td>\n",
       "      <td>0.021971</td>\n",
       "      <td>...</td>\n",
       "      <td>0.010199</td>\n",
       "      <td>0.008000</td>\n",
       "      <td>0.016695</td>\n",
       "      <td>0.021118</td>\n",
       "      <td>0.012899</td>\n",
       "      <td>0.020612</td>\n",
       "      <td>0.021339</td>\n",
       "      <td>0.021277</td>\n",
       "      <td>0.005909</td>\n",
       "      <td>0.014158</td>\n",
       "    </tr>\n",
       "    <tr>\n",
       "      <th>min</th>\n",
       "      <td>0.000000</td>\n",
       "      <td>0.000000</td>\n",
       "      <td>0.000000</td>\n",
       "      <td>0.000000</td>\n",
       "      <td>0.000000</td>\n",
       "      <td>0.000000</td>\n",
       "      <td>0.000000</td>\n",
       "      <td>0.000000</td>\n",
       "      <td>0.000000</td>\n",
       "      <td>0.000000</td>\n",
       "      <td>...</td>\n",
       "      <td>0.000000</td>\n",
       "      <td>0.000000</td>\n",
       "      <td>0.000000</td>\n",
       "      <td>0.000000</td>\n",
       "      <td>0.000000</td>\n",
       "      <td>0.000000</td>\n",
       "      <td>0.000000</td>\n",
       "      <td>0.000000</td>\n",
       "      <td>0.000000</td>\n",
       "      <td>0.000000</td>\n",
       "    </tr>\n",
       "    <tr>\n",
       "      <th>25%</th>\n",
       "      <td>0.000000</td>\n",
       "      <td>0.000000</td>\n",
       "      <td>0.000000</td>\n",
       "      <td>0.000000</td>\n",
       "      <td>0.000000</td>\n",
       "      <td>0.000000</td>\n",
       "      <td>0.000000</td>\n",
       "      <td>0.000000</td>\n",
       "      <td>0.000000</td>\n",
       "      <td>0.000000</td>\n",
       "      <td>...</td>\n",
       "      <td>0.000000</td>\n",
       "      <td>0.000000</td>\n",
       "      <td>0.000000</td>\n",
       "      <td>0.000000</td>\n",
       "      <td>0.000000</td>\n",
       "      <td>0.000000</td>\n",
       "      <td>0.000000</td>\n",
       "      <td>0.000000</td>\n",
       "      <td>0.000000</td>\n",
       "      <td>0.000000</td>\n",
       "    </tr>\n",
       "    <tr>\n",
       "      <th>50%</th>\n",
       "      <td>0.000000</td>\n",
       "      <td>0.000000</td>\n",
       "      <td>0.000000</td>\n",
       "      <td>0.000000</td>\n",
       "      <td>0.000000</td>\n",
       "      <td>0.000000</td>\n",
       "      <td>0.000000</td>\n",
       "      <td>0.000000</td>\n",
       "      <td>0.000000</td>\n",
       "      <td>0.000000</td>\n",
       "      <td>...</td>\n",
       "      <td>0.000000</td>\n",
       "      <td>0.000000</td>\n",
       "      <td>0.000000</td>\n",
       "      <td>0.000000</td>\n",
       "      <td>0.000000</td>\n",
       "      <td>0.000000</td>\n",
       "      <td>0.000000</td>\n",
       "      <td>0.000000</td>\n",
       "      <td>0.000000</td>\n",
       "      <td>0.000000</td>\n",
       "    </tr>\n",
       "    <tr>\n",
       "      <th>75%</th>\n",
       "      <td>0.000000</td>\n",
       "      <td>0.000000</td>\n",
       "      <td>0.000000</td>\n",
       "      <td>0.000000</td>\n",
       "      <td>0.000000</td>\n",
       "      <td>0.000000</td>\n",
       "      <td>0.000000</td>\n",
       "      <td>0.000000</td>\n",
       "      <td>0.000000</td>\n",
       "      <td>0.000000</td>\n",
       "      <td>...</td>\n",
       "      <td>0.000000</td>\n",
       "      <td>0.000000</td>\n",
       "      <td>0.000000</td>\n",
       "      <td>0.000000</td>\n",
       "      <td>0.000000</td>\n",
       "      <td>0.000000</td>\n",
       "      <td>0.000000</td>\n",
       "      <td>0.000000</td>\n",
       "      <td>0.000000</td>\n",
       "      <td>0.000000</td>\n",
       "    </tr>\n",
       "    <tr>\n",
       "      <th>max</th>\n",
       "      <td>0.280698</td>\n",
       "      <td>0.201979</td>\n",
       "      <td>0.259718</td>\n",
       "      <td>0.184582</td>\n",
       "      <td>0.214754</td>\n",
       "      <td>0.304715</td>\n",
       "      <td>0.342437</td>\n",
       "      <td>0.214754</td>\n",
       "      <td>0.354277</td>\n",
       "      <td>0.364062</td>\n",
       "      <td>...</td>\n",
       "      <td>0.459983</td>\n",
       "      <td>0.317610</td>\n",
       "      <td>0.475821</td>\n",
       "      <td>0.620357</td>\n",
       "      <td>0.580812</td>\n",
       "      <td>0.348775</td>\n",
       "      <td>0.224543</td>\n",
       "      <td>0.582961</td>\n",
       "      <td>0.164637</td>\n",
       "      <td>0.362648</td>\n",
       "    </tr>\n",
       "  </tbody>\n",
       "</table>\n",
       "<p>8 rows × 1500 columns</p>\n",
       "</div>"
      ],
      "text/plain": [
       "              0            1            2            3            4     \\\n",
       "count  2034.000000  2034.000000  2034.000000  2034.000000  2034.000000   \n",
       "mean      0.001471     0.002999     0.000376     0.002156     0.000599   \n",
       "std       0.014319     0.015627     0.008293     0.014780     0.010190   \n",
       "min       0.000000     0.000000     0.000000     0.000000     0.000000   \n",
       "25%       0.000000     0.000000     0.000000     0.000000     0.000000   \n",
       "50%       0.000000     0.000000     0.000000     0.000000     0.000000   \n",
       "75%       0.000000     0.000000     0.000000     0.000000     0.000000   \n",
       "max       0.280698     0.201979     0.259718     0.184582     0.214754   \n",
       "\n",
       "              5            6            7            8            9     ...  \\\n",
       "count  2034.000000  2034.000000  2034.000000  2034.000000  2034.000000  ...   \n",
       "mean      0.002771     0.000514     0.000599     0.001565     0.003045  ...   \n",
       "std       0.017775     0.011125     0.010190     0.015390     0.021971  ...   \n",
       "min       0.000000     0.000000     0.000000     0.000000     0.000000  ...   \n",
       "25%       0.000000     0.000000     0.000000     0.000000     0.000000  ...   \n",
       "50%       0.000000     0.000000     0.000000     0.000000     0.000000  ...   \n",
       "75%       0.000000     0.000000     0.000000     0.000000     0.000000  ...   \n",
       "max       0.304715     0.342437     0.214754     0.354277     0.364062  ...   \n",
       "\n",
       "              1490         1491         1492         1493         1494  \\\n",
       "count  2034.000000  2034.000000  2034.000000  2034.000000  2034.000000   \n",
       "mean      0.000226     0.000275     0.001091     0.000942     0.000302   \n",
       "std       0.010199     0.008000     0.016695     0.021118     0.012899   \n",
       "min       0.000000     0.000000     0.000000     0.000000     0.000000   \n",
       "25%       0.000000     0.000000     0.000000     0.000000     0.000000   \n",
       "50%       0.000000     0.000000     0.000000     0.000000     0.000000   \n",
       "75%       0.000000     0.000000     0.000000     0.000000     0.000000   \n",
       "max       0.459983     0.317610     0.475821     0.620357     0.580812   \n",
       "\n",
       "              1495         1496         1497         1498         1499  \n",
       "count  2034.000000  2034.000000  2034.000000  2034.000000  2034.000000  \n",
       "mean      0.003947     0.005437     0.000844     0.000273     0.000964  \n",
       "std       0.020612     0.021339     0.021277     0.005909     0.014158  \n",
       "min       0.000000     0.000000     0.000000     0.000000     0.000000  \n",
       "25%       0.000000     0.000000     0.000000     0.000000     0.000000  \n",
       "50%       0.000000     0.000000     0.000000     0.000000     0.000000  \n",
       "75%       0.000000     0.000000     0.000000     0.000000     0.000000  \n",
       "max       0.348775     0.224543     0.582961     0.164637     0.362648  \n",
       "\n",
       "[8 rows x 1500 columns]"
      ]
     },
     "execution_count": 35,
     "metadata": {},
     "output_type": "execute_result"
    }
   ],
   "source": [
    "pd.DataFrame(X_train.todense()).describe()"
   ]
  },
  {
   "cell_type": "code",
   "execution_count": 36,
   "metadata": {},
   "outputs": [],
   "source": [
    "# does this sklearn version have plot_decision_boundaries()?"
   ]
  },
  {
   "cell_type": "code",
   "execution_count": 37,
   "metadata": {
    "scrolled": true
   },
   "outputs": [
    {
     "name": "stdout",
     "output_type": "stream",
     "text": [
      "classification report:\n",
      "                    precision    recall  f1-score   support\n",
      "\n",
      "       alt.atheism       0.32      0.42      0.36       319\n",
      "     comp.graphics       0.49      0.48      0.48       389\n",
      "         sci.space       0.47      0.45      0.46       394\n",
      "talk.religion.misc       0.22      0.16      0.18       251\n",
      "\n",
      "          accuracy                           0.39      1353\n",
      "         macro avg       0.37      0.37      0.37      1353\n",
      "      weighted avg       0.39      0.39      0.39      1353\n",
      "\n",
      "confusion matrix:\n",
      "[[133  47  81  58]\n",
      " [ 92 185  71  41]\n",
      " [101  78 177  38]\n",
      " [ 95  69  48  39]]\n"
     ]
    }
   ],
   "source": [
    "#skeleton for one-off run\n",
    "clf = KNeighborsClassifier(n_neighbors=10)\n",
    "\n",
    "clf.fit(X_train, y_train)\n",
    "\n",
    "pred = clf.predict(X_test)\n",
    "\n",
    "score = metrics.accuracy_score(y_test, pred)\n",
    "\n",
    "\n",
    "if hasattr(clf, \"coef_\"):\n",
    "    print(f\"dimensionality: {clf.coef_.shape[1]}\" )\n",
    "    print(f\"density: {density(clf.coef_)}\"  )\n",
    "\n",
    "    if opts.print_top10 and feature_names is not None:\n",
    "        print(\"top 10 keywords per class:\")\n",
    "        for i, label in enumerate(target_names):\n",
    "            top10 = np.argsort(clf.coef_[i])[-10:]\n",
    "            print(f\"{label}: {' '.join(feature_names[top10])}\".strip() )\n",
    "\n",
    "if opts.print_report:\n",
    "    print(\"classification report:\")\n",
    "    print(metrics.classification_report(y_test, pred, target_names=target_names))\n",
    "\n",
    "if opts.print_cm:\n",
    "    print(\"confusion matrix:\")\n",
    "    print(metrics.confusion_matrix(y_test, pred))\n",
    "\n",
    "result = ( \"desc\", score, \"train_time\", \"test_time\" )"
   ]
  },
  {
   "cell_type": "code",
   "execution_count": 38,
   "metadata": {},
   "outputs": [
    {
     "data": {
      "text/plain": [
       "array([False, False,  True, ..., False,  True, False])"
      ]
     },
     "execution_count": 38,
     "metadata": {},
     "output_type": "execute_result"
    }
   ],
   "source": [
    "pred2 = clf.predict(X_train)\n",
    "pred2 == y_train"
   ]
  },
  {
   "cell_type": "code",
   "execution_count": 39,
   "metadata": {},
   "outputs": [
    {
     "data": {
      "text/plain": [
       "{'algorithm': 'auto',\n",
       " 'leaf_size': 30,\n",
       " 'metric': 'minkowski',\n",
       " 'metric_params': None,\n",
       " 'n_jobs': None,\n",
       " 'n_neighbors': 10,\n",
       " 'p': 2,\n",
       " 'weights': 'uniform'}"
      ]
     },
     "execution_count": 39,
     "metadata": {},
     "output_type": "execute_result"
    }
   ],
   "source": [
    "clf.get_params()"
   ]
  },
  {
   "cell_type": "code",
   "execution_count": 40,
   "metadata": {},
   "outputs": [
    {
     "data": {
      "text/plain": [
       "2    593\n",
       "1    584\n",
       "0    480\n",
       "3    377\n",
       "dtype: int64"
      ]
     },
     "execution_count": 40,
     "metadata": {},
     "output_type": "execute_result"
    }
   ],
   "source": [
    "pd.Series(y_train).value_counts()"
   ]
  },
  {
   "cell_type": "code",
   "execution_count": 41,
   "metadata": {
    "scrolled": true
   },
   "outputs": [
    {
     "data": {
      "text/plain": [
       "0    421\n",
       "1    379\n",
       "2    377\n",
       "3    176\n",
       "dtype: int64"
      ]
     },
     "execution_count": 41,
     "metadata": {},
     "output_type": "execute_result"
    }
   ],
   "source": [
    "pred_s = pd.Series(pred)\n",
    "pred_s.value_counts()"
   ]
  },
  {
   "cell_type": "markdown",
   "metadata": {},
   "source": [
    "# Clustering\n",
    "<div style=\"color:red;\">copied this to the README file, too</div>\n",
    "Clustering cannot use the same accuracy measures as classification because the numberic label assignments are arbitrary (e.g. the label predicted label of 0 is the first group determined and un related to the y_train label encoded as 0).  \n",
    "\n",
    "- https://nlp.stanford.edu/IR-book/html/htmledition/evaluation-of-clustering-1.html\n",
    "- https://scikit-learn.org/stable/modules/clustering.html#clustering-performance-evaluation\n",
    "\n",
    "Evaluating clustering\n",
    "- **Inertia** - how internall coherent clusters are\n",
    "    - works best with ball shaped clusters\n",
    "    - how close all cluster members are to the centroid for their cluster\n",
    "    - some of squared distances from all points to nearest centroid\n",
    "    - lower numbers are better\n",
    "    - kmeans.inertia_ (kmeans attempts to minimize)\n",
    "        - can be used to determine the optimal number of clustesrs (if ball shaped)\n",
    "- **purity**\n",
    "    1. assign a label to the class based on the class that is most frequent in that cluster\n",
    "    2. count the number of correctly assigned documents and divide by the total number of items\n",
    "    1. not implemented directly in sklearn (probaly b/c usefulness is limited)\n",
    "    1. using contingency matrix (aka confusion matrix) - where TP is based on the most common of the actual label assignments for that cluster\n",
    "        - $ \\frac{TP}{N} $ where $ N= TP+TN+FP+FN$\n",
    "        - sklearn.metrics.cluster.contingency_matrix(y_act, y_pred)\n",
    "- **NMI (normalized mutual information)** - compensates for high purity obtaine when n_clusters is large - assumes max likelihood estimatse.  Given cluster as predicted cluster membership and...  class as actual labels based on human judgement\n",
    "    - information gain from knowing the class - if the clustering is random compared to classes then no information is gained (0 to 1)\n",
    "    - normalizing by entropy penalizes large settings of n_clusters, b/c it increases with n_clusters making overall result smaller\n",
    "    - log of \n",
    "        - probability an item being in both cluster and class (intersection)\n",
    "        - div by the product of the probability of it being in the class and the probability of it being in the cluster\n",
    "    - divided by entropy\n",
    "    - `sklearn.metrics.normalized_mutual_info_score(labels_true, labels_pred)` *- OR -* `adjusted_mutual_info_score` *- OR -*  `mutual_info_score`\n",
    "        - e.g. how often do predicted assignments match with actual\n",
    "        - adjusted is adjusted for chance, others are not\n",
    "        - ignores group(label) names\n",
    "        - values tend toward 0\n",
    "- **Rand index** - penalizes both false positive and false negative  viewing the clustering as a series of decisions what is the percentage of these decisions that was correct\n",
    "    - accuracy formula\n",
    "    - `sklearn.metrics.adjusted_rand_score(labels_true, labels_pred)`\n",
    "        - renaming labels doesn't change the score\n",
    "        - values tend toward 1 even for very bad mappings\n",
    "    - similarity of the pair cluster assignments, ignoring permutations\n",
    "    - create confusion matrix of \n",
    "        - TP - two documents are similar and in same cluster (correct)\n",
    "        - TN - two dissimilar documents documents in different clusters (correct)\n",
    "        - FP - two dissimilar documents documents in same cluster (error)\n",
    "        - FN - two similar documents assigned to diff clusters\n",
    "\n",
    "$ \\mbox{RI} = \\frac{\\mbox{TP}+\\mbox{TN}}{\\mbox{TP}+\\mbox{FP}+\\mbox{FN}+\\mbox{TN}} $\n",
    "\n",
    "- **F measure** - penalty for FP and NP and also allows for weights on these\n",
    "    - Separating similar documents is sometimes worse than putting pairs of dissimilar documents in the same cluster.\n",
    "    - use a weight $ \\beta $ gives more weight to recall (over precision) by penalizing false negatives more than false \n",
    "positives -- e.g. it is better to say that two things are related (in the same cluster) and they aren't then to say they aren't related (in diff clusters) and they are\n",
    "\n",
    "$ \\begin{pmatrix}6\\\\2 \\end{pmatrix} = C(6,2) = $ combination of 6 items taken 2 at a time - there is no corresponding way to represent permutations"
   ]
  },
  {
   "cell_type": "code",
   "execution_count": 42,
   "metadata": {},
   "outputs": [
    {
     "name": "stdout",
     "output_type": "stream",
     "text": [
      "for point (0, 10)---(0, 10) is closest with dist 0.00\n",
      "for point (5, 5)---(7, 7) is closest with dist 2.83\n",
      "for point (4, 3)---(0, 0) is closest with dist 5.00\n",
      "for point (1, 1)---(0, 0) is closest with dist 1.41\n",
      "for point (3, 4)---(0, 0) is closest with dist 5.00\n",
      "for point (8, 5)---(7, 7) is closest with dist 2.24\n",
      "for point (0, 1)---(0, 0) is closest with dist 1.00\n",
      "for point (5, 1)---(0, 0) is closest with dist 5.10\n",
      "for point (5, 9)---(7, 7) is closest with dist 2.83\n",
      "for point (0, 8)---(0, 10) is closest with dist 2.00\n",
      "for point (1, 5)---(0, 0) is closest with dist 5.10\n",
      "for point (1, 8)---(0, 10) is closest with dist 2.24\n",
      "for point (1, 3)---(0, 0) is closest with dist 3.16\n",
      "for point (2, 6)---(0, 10) is closest with dist 4.47\n",
      "for point (6, 2)---(7, 7) is closest with dist 5.10\n",
      "for point [1, 2]---(0, 0) is closest with dist 2.24\n",
      "for point [8, 2]---(7, 7) is closest with dist 5.10\n",
      "for point [4, 0]---(0, 0) is closest with dist 4.00\n",
      "for point [6, 2]---(7, 7) is closest with dist 5.10\n",
      "for point [4, 9]---(7, 7) is closest with dist 3.61\n",
      "for point [8, 6]---(7, 7) is closest with dist 1.41\n",
      "for point [9, 2]---(7, 7) is closest with dist 5.39\n",
      "for point [3, 2]---(0, 0) is closest with dist 3.61\n",
      "for point [7, 5]---(7, 7) is closest with dist 2.00\n",
      "for point [6, 5]---(7, 7) is closest with dist 2.24\n"
     ]
    },
    {
     "data": {
      "text/plain": [
       "330.0"
      ]
     },
     "execution_count": 42,
     "metadata": {},
     "output_type": "execute_result"
    }
   ],
   "source": [
    "#testing a function that was moved to module\n",
    "pts = [(0,10),(5,5),(4,3),(1,1),(3,4), (8, 5), (0, 1), (5, 1), (5, 9), (0, 8), (1, 5), (1, 8), (1, 3), (2, 6), (6, 2), [1, 2], [8, 2], [4, 0], [6, 2], [4, 9], [8, 6], [9, 2], [3, 2], [7, 5], [6, 5]]\n",
    "ctrs = [(0,0), (0,10), (7,7)]\n",
    "\n",
    "ij.inersha(pts, ctrs)"
   ]
  },
  {
   "cell_type": "code",
   "execution_count": 43,
   "metadata": {},
   "outputs": [
    {
     "data": {
      "text/plain": [
       "'[[3, 9], [7, 6], [7, 6], [3, 9], [2, 9], [4, 1], [7, 9], [1, 9], [6, 3], [8, 7]]'"
      ]
     },
     "execution_count": 43,
     "metadata": {},
     "output_type": "execute_result"
    }
   ],
   "source": [
    "x= np.random.randint(0,10, 20).reshape(10,2)\n",
    "[x for x in dir(x) if x[0] != '_']\n",
    "repr(x.tolist())"
   ]
  },
  {
   "cell_type": "code",
   "execution_count": 44,
   "metadata": {},
   "outputs": [
    {
     "data": {
      "text/plain": [
       "'[(9, 0), (1, 6), (0, 4), (3, 9), (3, 5), (3, 1), (1, 9), (1, 5), (9, 5), (7, 6)]'"
      ]
     },
     "execution_count": 44,
     "metadata": {},
     "output_type": "execute_result"
    }
   ],
   "source": [
    "from itertools import permutations, combinations\n",
    "import random\n",
    "random.seed(42)\n",
    "repr(random.sample(list(permutations(range(10),2)),k=10))# choices would sample with replacement)"
   ]
  },
  {
   "cell_type": "code",
   "execution_count": 45,
   "metadata": {},
   "outputs": [
    {
     "data": {
      "text/plain": [
       "[(3, 4), (3, 5), (4, 5)]"
      ]
     },
     "execution_count": 45,
     "metadata": {},
     "output_type": "execute_result"
    }
   ],
   "source": [
    "list(combinations(range(3,6), 2))\n"
   ]
  },
  {
   "cell_type": "markdown",
   "metadata": {},
   "source": [
    "## one-off unsupervised KNN\n",
    " https://scikit-learn.org/stable/modules/neighbors.html#unsupervised-nearest-neighbors\n",
    " \n",
    " - no predict step? irrelevant because the classes are arbitrary"
   ]
  },
  {
   "cell_type": "code",
   "execution_count": 46,
   "metadata": {},
   "outputs": [
    {
     "name": "stderr",
     "output_type": "stream",
     "text": [
      "C:\\Users\\Rob.DESKTOP-HBG5EOT\\.conda\\envs\\myenv\\lib\\site-packages\\sklearn\\neighbors\\_base.py:415: UserWarning: cannot use tree with sparse input: using brute force\n",
      "  warnings.warn(\"cannot use tree with sparse input: \"\n"
     ]
    }
   ],
   "source": [
    "from sklearn.neighbors import NearestNeighbors\n",
    "clf = NearestNeighbors(n_neighbors=2, algorithm='ball_tree')\n",
    "\n",
    "nbrs = clf.fit(X_train)"
   ]
  },
  {
   "cell_type": "code",
   "execution_count": 48,
   "metadata": {},
   "outputs": [
    {
     "data": {
      "text/plain": [
       "['algorithm',\n",
       " 'effective_metric_',\n",
       " 'effective_metric_params_',\n",
       " 'fit',\n",
       " 'get_params',\n",
       " 'kneighbors',\n",
       " 'kneighbors_graph',\n",
       " 'leaf_size',\n",
       " 'metric',\n",
       " 'metric_params',\n",
       " 'n_features_in_',\n",
       " 'n_jobs',\n",
       " 'n_neighbors',\n",
       " 'n_samples_fit_',\n",
       " 'p',\n",
       " 'radius',\n",
       " 'radius_neighbors',\n",
       " 'radius_neighbors_graph',\n",
       " 'set_params']"
      ]
     },
     "execution_count": 48,
     "metadata": {},
     "output_type": "execute_result"
    }
   ],
   "source": [
    "[x for x in dir(nbrs) if x[0] != '_']"
   ]
  },
  {
   "cell_type": "code",
   "execution_count": 49,
   "metadata": {},
   "outputs": [
    {
     "data": {
      "text/plain": [
       "array([[0., 0., 0., ..., 0., 0., 0.],\n",
       "       [0., 0., 0., ..., 0., 0., 0.],\n",
       "       [0., 0., 0., ..., 0., 0., 0.],\n",
       "       ...,\n",
       "       [0., 0., 0., ..., 0., 0., 0.],\n",
       "       [0., 0., 0., ..., 0., 0., 0.],\n",
       "       [0., 0., 0., ..., 0., 0., 0.]])"
      ]
     },
     "execution_count": 49,
     "metadata": {},
     "output_type": "execute_result"
    }
   ],
   "source": [
    "# the graph is a compressed sparsed row matrix of relationships with shape (datarows X datarows)\n",
    "# a row is placed in the (i,j) location if the 2 rows are neighbors'\n",
    "# e.g. the first index will have 1s in all the columns for input rows that are neighbors\n",
    "nbrs.kneighbors_graph().toarray()\n",
    "#[x for x in dir(x) if x[0] != '_']"
   ]
  },
  {
   "cell_type": "code",
   "execution_count": 50,
   "metadata": {},
   "outputs": [],
   "source": [
    "clf.kneighbors_graph?"
   ]
  },
  {
   "cell_type": "markdown",
   "metadata": {},
   "source": [
    "# one-off spectral clustering"
   ]
  },
  {
   "cell_type": "code",
   "execution_count": 103,
   "metadata": {},
   "outputs": [
    {
     "data": {
      "text/plain": [
       "(0.001256166211988377, 1.0, 0.0)"
      ]
     },
     "execution_count": 103,
     "metadata": {},
     "output_type": "execute_result"
    }
   ],
   "source": [
    "X_train.mean(), X_train.max(), X_train.min()"
   ]
  },
  {
   "cell_type": "code",
   "execution_count": 23,
   "metadata": {},
   "outputs": [],
   "source": [
    "from sklearn.cluster import SpectralClustering"
   ]
  },
  {
   "cell_type": "code",
   "execution_count": 108,
   "metadata": {},
   "outputs": [],
   "source": [
    "#skeleton for one-off run\n",
    "clf = SpectralClustering(n_clusters=4, assign_labels='discretize', random_state=0, affinity='rbf')#.fit(X)\n",
    "\n",
    "sptrl = clf.fit(X_train) #clf.fit_predict(X_train) gives the labels directly"
   ]
  },
  {
   "cell_type": "code",
   "execution_count": 109,
   "metadata": {},
   "outputs": [
    {
     "data": {
      "text/plain": [
       "(array([1, 0, 3, ..., 1, 0, 3], dtype=int64),\n",
       "           0         1         2         3         4         5         6     \\\n",
       " 0     1.000000  0.560041  0.513476  0.496981  0.553983  0.453599  0.555061   \n",
       " 1     0.560041  1.000000  0.576836  0.558306  0.622342  0.509571  0.617598   \n",
       " 2     0.513476  0.576836  1.000000  0.511884  0.570596  0.467202  0.566247   \n",
       " 3     0.496981  0.558306  0.511884  1.000000  0.552266  0.461604  0.555312   \n",
       " 4     0.553983  0.622342  0.570596  0.552266  1.000000  0.504059  0.633117   \n",
       " ...        ...       ...       ...       ...       ...       ...       ...   \n",
       " 2029  0.386377  0.434054  0.397964  0.385180  0.429359  0.351557  0.426086   \n",
       " 2030  0.560233  0.629363  0.577034  0.558497  0.622555  0.509746  0.681071   \n",
       " 2031  0.516833  0.580608  0.532332  0.537434  0.574327  0.470257  0.569950   \n",
       " 2032  0.467691  0.525402  0.489632  0.469616  0.519718  0.438436  0.520005   \n",
       " 2033  0.706064  0.793188  0.727237  0.703875  0.784608  0.642434  0.778628   \n",
       " \n",
       "           7         8         9     ...      2024      2025      2026  \\\n",
       " 0     0.593161  0.493578  0.420485  ...  0.589505  0.534724  0.644071   \n",
       " 1     0.666354  0.554483  0.472371  ...  0.645207  0.600707  0.723546   \n",
       " 2     0.633667  0.508379  0.433095  ...  0.591560  0.556463  0.663386   \n",
       " 3     0.595744  0.492048  0.419182  ...  0.582803  0.540079  0.642075   \n",
       " 4     0.659146  0.617240  0.467261  ...  0.638228  0.594208  0.715720   \n",
       " ...        ...       ...       ...  ...       ...       ...       ...   \n",
       " 2029  0.459723  0.429164  0.337144  ...  0.451039  0.414433  0.499181   \n",
       " 2030  0.666582  0.554673  0.472533  ...  0.645428  0.600912  0.723794   \n",
       " 2031  0.666144  0.511704  0.469019  ...  0.604709  0.554361  0.667724   \n",
       " 2032  0.583861  0.477660  0.394477  ...  0.538813  0.551718  0.604234   \n",
       " 2033  0.840095  0.699056  0.595535  ...  0.813435  0.757332  0.912200   \n",
       " \n",
       "           2027      2028      2029      2030      2031      2032      2033  \n",
       " 0     0.706064  0.462560  0.386377  0.560233  0.516833  0.467691  0.706064  \n",
       " 1     0.793188  0.519638  0.434054  0.629363  0.580608  0.525402  0.793188  \n",
       " 2     0.727237  0.476432  0.397964  0.577034  0.532332  0.489632  0.727237  \n",
       " 3     0.703875  0.465890  0.385180  0.558497  0.537434  0.469616  0.703875  \n",
       " 4     0.784608  0.514017  0.429359  0.622555  0.574327  0.519718  0.784608  \n",
       " ...        ...       ...       ...       ...       ...       ...       ...  \n",
       " 2029  0.547227  0.383876  1.000000  0.434203  0.417527  0.362479  0.547227  \n",
       " 2030  0.793460  0.519816  0.434203  1.000000  0.580807  0.525582  0.793460  \n",
       " 2031  0.731993  0.491012  0.417527  0.580807  1.000000  0.484866  0.731993  \n",
       " 2032  0.662392  0.437171  0.362479  0.525582  0.484866  1.000000  0.662392  \n",
       " 2033  1.000000  0.655126  0.547227  0.793460  0.731993  0.662392  1.000000  \n",
       " \n",
       " [2034 rows x 2034 columns],\n",
       " 1500)"
      ]
     },
     "execution_count": 109,
     "metadata": {},
     "output_type": "execute_result"
    }
   ],
   "source": [
    "sptrl.labels_, pd.DataFrame(sptrl.affinity_matrix_),sptrl.n_features_in_"
   ]
  },
  {
   "cell_type": "markdown",
   "metadata": {},
   "source": [
    "`import mlxtend as mlx`\n",
    "- PACKAGE CONTENTS\n",
    "    - _base (package)\n",
    "    - classifier (package)\n",
    "    - cluster (package)\n",
    "    - data (package)\n",
    "    - evaluate (package)\n",
    "    - externals (package)\n",
    "    - feature_extraction (package)\n",
    "    - feature_selection (package)\n",
    "    - file_io (package)\n",
    "    - frequent_patterns (package)\n",
    "    - image (package)\n",
    "    - math (package)\n",
    "    - plotting (package)\n",
    "    - preprocessing (package)\n",
    "    - regressor (package)\n",
    "    - text (package)\n",
    "    - utils (package)"
   ]
  },
  {
   "cell_type": "code",
   "execution_count": 117,
   "metadata": {},
   "outputs": [],
   "source": [
    "plt.subplot?\n"
   ]
  },
  {
   "cell_type": "code",
   "execution_count": 135,
   "metadata": {},
   "outputs": [
    {
     "data": {
      "image/png": "[encoded data removed]",
      "text/plain": [
       "<Figure size 720x360 with 4 Axes>"
      ]
     },
     "execution_count": 135,
     "metadata": {},
     "output_type": "execute_result"
    }
   ],
   "source": [
    "fig.get_size_inches()\n",
    "#fig.set_size_inches(10,5)\n",
    "fig"
   ]
  },
  {
   "cell_type": "code",
   "execution_count": 124,
   "metadata": {},
   "outputs": [
    {
     "name": "stderr",
     "output_type": "stream",
     "text": [
      "<ipython-input-124-5b190de6cf49>:6: UserWarning: Matplotlib is currently using module://ipykernel.pylab.backend_inline, which is a non-GUI backend, so cannot show the figure.\n",
      "  fig.show()\n"
     ]
    },
    {
     "data": {
      "image/png": "[encoded data removed]",
      "text/plain": [
       "<Figure size 432x288 with 4 Axes>"
      ]
     },
     "metadata": {
      "needs_background": "light"
     },
     "output_type": "display_data"
    }
   ],
   "source": [
    "ax = plt.subplot(221)\n",
    "ax2 = plt.subplot(222)\n",
    "ax3 = plt.subplot(223)\n",
    "ax4 = plt.subplot(224)\n",
    "fig = ax.get_figure()\n"
   ]
  },
  {
   "cell_type": "code",
   "execution_count": 141,
   "metadata": {},
   "outputs": [],
   "source": [
    "del do_sil_plot"
   ]
  },
  {
   "cell_type": "code",
   "execution_count": 140,
   "metadata": {
    "scrolled": true
   },
   "outputs": [
    {
     "ename": "AttributeError",
     "evalue": "module 'indjobs' has no attribute 'do_sil_plot'",
     "output_type": "error",
     "traceback": [
      "\u001b[1;31m---------------------------------------------------------------------------\u001b[0m",
      "\u001b[1;31mAttributeError\u001b[0m                            Traceback (most recent call last)",
      "\u001b[1;32m<ipython-input-140-f3ee1c4a6a16>\u001b[0m in \u001b[0;36m<module>\u001b[1;34m\u001b[0m\n\u001b[0;32m      1\u001b[0m \u001b[1;32mimport\u001b[0m \u001b[0mindjobs\u001b[0m \u001b[1;32mas\u001b[0m \u001b[0mi\u001b[0m\u001b[1;33m\u001b[0m\u001b[1;33m\u001b[0m\u001b[0m\n\u001b[1;32m----> 2\u001b[1;33m \u001b[0mi\u001b[0m\u001b[1;33m.\u001b[0m\u001b[0mdo_sil_plot\u001b[0m\u001b[1;33m(\u001b[0m\u001b[1;33m)\u001b[0m\u001b[1;33m\u001b[0m\u001b[1;33m\u001b[0m\u001b[0m\n\u001b[0m",
      "\u001b[1;31mAttributeError\u001b[0m: module 'indjobs' has no attribute 'do_sil_plot'"
     ]
    }
   ],
   "source": [
    "import indjobs as i\n",
    "i.do_sil_plot()"
   ]
  },
  {
   "cell_type": "code",
   "execution_count": 143,
   "metadata": {},
   "outputs": [
    {
     "ename": "AttributeError",
     "evalue": "module 'indjobs' has no attribute 'do_sil_plot'",
     "output_type": "error",
     "traceback": [
      "\u001b[1;31m---------------------------------------------------------------------------\u001b[0m",
      "\u001b[1;31mAttributeError\u001b[0m                            Traceback (most recent call last)",
      "\u001b[1;32m<ipython-input-143-7edce86e317f>\u001b[0m in \u001b[0;36m<module>\u001b[1;34m\u001b[0m\n\u001b[0;32m      2\u001b[0m \u001b[0msil_vals_train\u001b[0m \u001b[1;33m=\u001b[0m \u001b[0msilhouette_samples\u001b[0m\u001b[1;33m(\u001b[0m\u001b[0mX_train\u001b[0m\u001b[1;33m,\u001b[0m \u001b[0msptrl\u001b[0m\u001b[1;33m.\u001b[0m\u001b[0mlabels_\u001b[0m\u001b[1;33m,\u001b[0m \u001b[0mmetric\u001b[0m\u001b[1;33m=\u001b[0m\u001b[1;34m'euclidean'\u001b[0m\u001b[1;33m)\u001b[0m\u001b[1;33m\u001b[0m\u001b[1;33m\u001b[0m\u001b[0m\n\u001b[0;32m      3\u001b[0m \u001b[1;33m\u001b[0m\u001b[0m\n\u001b[1;32m----> 4\u001b[1;33m \u001b[0mi\u001b[0m\u001b[1;33m.\u001b[0m\u001b[0mdo_sil_plot\u001b[0m\u001b[1;33m(\u001b[0m\u001b[0msil_vals_train\u001b[0m\u001b[1;33m,\u001b[0m \u001b[0msptrl\u001b[0m\u001b[1;33m.\u001b[0m\u001b[0mlabels_\u001b[0m \u001b[1;33m)\u001b[0m\u001b[1;33m\u001b[0m\u001b[1;33m\u001b[0m\u001b[0m\n\u001b[0m",
      "\u001b[1;31mAttributeError\u001b[0m: module 'indjobs' has no attribute 'do_sil_plot'"
     ]
    }
   ],
   "source": [
    "from sklearn.metrics import silhouette_samples\n",
    "sil_vals_train = silhouette_samples(X_train, sptrl.labels_, metric='euclidean')\n",
    "\n",
    "i.do_sil_plot(sil_vals_train, sptrl.labels_ )"
   ]
  },
  {
   "cell_type": "code",
   "execution_count": 98,
   "metadata": {},
   "outputs": [
    {
     "name": "stdout",
     "output_type": "stream",
     "text": [
      "0 0\n",
      "1 1\n",
      "2 2\n"
     ]
    },
    {
     "data": {
      "image/png": "[encoded data removed]",
      "text/plain": [
       "<Figure size 432x288 with 1 Axes>"
      ]
     },
     "metadata": {
      "needs_background": "light"
     },
     "output_type": "display_data"
    }
   ],
   "source": [
    "silhouette_vals = silhouette_samples(X_test, pred, metric = 'euclidean')\n",
    "do_sil_plot(silhouette_vals, pred)"
   ]
  },
  {
   "cell_type": "code",
   "execution_count": null,
   "metadata": {},
   "outputs": [],
   "source": [
    "if hasattr(clf, \"coef_\"):\n",
    "    print(f\"dimensionality: {clf.coef_.shape[1]}\" )\n",
    "    print(f\"density: {density(clf.coef_)}\"  )\n",
    "\n",
    "    if opts.print_top10 and feature_names is not None:\n",
    "        print(\"top 10 keywords per class:\")\n",
    "        for i, label in enumerate(target_names):\n",
    "            top10 = np.argsort(clf.coef_[i])[-10:]\n",
    "            print(f\"{label}: {' '.join(feature_names[top10])}\".strip() )\n",
    "\n",
    "if opts.print_report:\n",
    "    print(\"classification report:\")\n",
    "    print(metrics.classification_report(y_test, pred, target_names=target_names))\n",
    "\n",
    "if opts.print_cm:\n",
    "    print(\"confusion matrix:\")\n",
    "    print(metrics.confusion_matrix(y_test, pred))\n",
    "\n",
    "result = ( \"desc\", score, \"train_time\", \"test_time\" )"
   ]
  },
  {
   "cell_type": "markdown",
   "metadata": {},
   "source": [
    "## one-off Kmeans clustering\n",
    "clustering = un-labeled data = unsupervised"
   ]
  },
  {
   "cell_type": "code",
   "execution_count": 94,
   "metadata": {},
   "outputs": [],
   "source": [
    "from sklearn.cluster import KMeans"
   ]
  },
  {
   "cell_type": "code",
   "execution_count": 95,
   "metadata": {},
   "outputs": [],
   "source": [
    "clf = KMeans(n_clusters=4)"
   ]
  },
  {
   "cell_type": "code",
   "execution_count": 96,
   "metadata": {},
   "outputs": [
    {
     "data": {
      "text/plain": [
       "KMeans(n_clusters=4)"
      ]
     },
     "execution_count": 96,
     "metadata": {},
     "output_type": "execute_result"
    }
   ],
   "source": [
    "#skeleton for one-off run\n",
    "clf.fit(X_train, y_train)"
   ]
  },
  {
   "cell_type": "code",
   "execution_count": 100,
   "metadata": {},
   "outputs": [
    {
     "name": "stdout",
     "output_type": "stream",
     "text": [
      "0 0\n",
      "1 1\n",
      "2 2\n",
      "3 3\n"
     ]
    },
    {
     "data": {
      "image/png": "[encoded data removed]",
      "text/plain": [
       "<Figure size 432x288 with 1 Axes>"
      ]
     },
     "metadata": {
      "needs_background": "light"
     },
     "output_type": "display_data"
    }
   ],
   "source": [
    "km_train_sil_vals = silhouette_samples(X_train, clf.labels_, metric='euclidean')\n",
    "do_sil_plot(km_train_sil_vals, clf.labels_)"
   ]
  },
  {
   "cell_type": "code",
   "execution_count": 97,
   "metadata": {},
   "outputs": [
    {
     "data": {
      "text/plain": [
       "array([[0.00232604, 0.00221011, 0.00255175, ..., 0.        , 0.        ,\n",
       "        0.00497942],\n",
       "       [0.00336517, 0.00718788, 0.        , ..., 0.00020862, 0.        ,\n",
       "        0.        ],\n",
       "       [0.00118743, 0.00235065, 0.        , ..., 0.0015007 , 0.        ,\n",
       "        0.00039028],\n",
       "       [0.        , 0.00219982, 0.        , ..., 0.        , 0.00164185,\n",
       "        0.00010587]])"
      ]
     },
     "execution_count": 97,
     "metadata": {},
     "output_type": "execute_result"
    }
   ],
   "source": [
    "clf.cluster_centers_"
   ]
  },
  {
   "cell_type": "code",
   "execution_count": 48,
   "metadata": {},
   "outputs": [
    {
     "data": {
      "text/plain": [
       "2    1239\n",
       "0     401\n",
       "3     388\n",
       "1       6\n",
       "dtype: int64"
      ]
     },
     "execution_count": 48,
     "metadata": {},
     "output_type": "execute_result"
    }
   ],
   "source": [
    "lab_s = pd.Series(clf.labels_)\n",
    "lab_s.value_counts(0)"
   ]
  },
  {
   "cell_type": "code",
   "execution_count": 49,
   "metadata": {},
   "outputs": [
    {
     "data": {
      "text/plain": [
       "array([3, 2, 2, ..., 3, 0, 2])"
      ]
     },
     "execution_count": 49,
     "metadata": {},
     "output_type": "execute_result"
    }
   ],
   "source": [
    "clf.labels_"
   ]
  },
  {
   "cell_type": "code",
   "execution_count": 50,
   "metadata": {},
   "outputs": [
    {
     "data": {
      "text/html": [
       "<div>\n",
       "<style scoped>\n",
       "    .dataframe tbody tr th:only-of-type {\n",
       "        vertical-align: middle;\n",
       "    }\n",
       "\n",
       "    .dataframe tbody tr th {\n",
       "        vertical-align: top;\n",
       "    }\n",
       "\n",
       "    .dataframe thead th {\n",
       "        text-align: right;\n",
       "    }\n",
       "</style>\n",
       "<table border=\"1\" class=\"dataframe\">\n",
       "  <thead>\n",
       "    <tr style=\"text-align: right;\">\n",
       "      <th></th>\n",
       "      <th>pred_pos</th>\n",
       "      <th>pred_neg</th>\n",
       "    </tr>\n",
       "  </thead>\n",
       "  <tbody>\n",
       "    <tr>\n",
       "      <th>act_pos</th>\n",
       "      <td>TP</td>\n",
       "      <td>FN</td>\n",
       "    </tr>\n",
       "    <tr>\n",
       "      <th>act_neg</th>\n",
       "      <td>FP</td>\n",
       "      <td>TN</td>\n",
       "    </tr>\n",
       "  </tbody>\n",
       "</table>\n",
       "</div>"
      ],
      "text/plain": [
       "        pred_pos pred_neg\n",
       "act_pos       TP       FN\n",
       "act_neg       FP       TN"
      ]
     },
     "execution_count": 50,
     "metadata": {},
     "output_type": "execute_result"
    }
   ],
   "source": [
    "pd.DataFrame([('TP', 'FN'),('FP', 'TN')], columns = ['pred_pos', 'pred_neg'], index=['act_pos', 'act_neg'])"
   ]
  },
  {
   "cell_type": "markdown",
   "metadata": {},
   "source": [
    "## interpreting multi-class confusion matrix\n",
    "[helps a bit but wording is confusing](https://www.analyticsvidhya.com/blog/2021/06/confusion-matrix-for-multi-class-classification/)\n",
    "\n",
    "|population = P+N|pred_pos|pred_neg|\n",
    "| --- | --- | --- |\n",
    "|act_pos|TP|FN|\n",
    "|act_neg|FP|TN|\n",
    "\n",
    "- TP = \n",
    "    - prediction was correct - the diagonal of CF\n",
    "    - CF\\[0,0\\]\n",
    "- FN = \n",
    "    - predicted something other than actual \n",
    "    - for row 0 the sum of all values in columns\\[1:\\] for this row\n",
    "    - The sum of valuesiun the row except the TP value\n",
    "\n",
    "- FP = \n",
    "    - predicted value was incorrect\n",
    "    - for column 0 the sum of all values in rows\\[1:\\] \n",
    "    - The sum of values of corresponding column except the TP value.\n",
    "\n",
    "- TN = \n",
    "    - we poredicted it wasn't this, and it isn't - \n",
    "    - The sum of everything that isn't in the row or column for the class\n",
    "\n",
    "performance:\n",
    "- Accuracy (ACC) = (TP + TN)/(P + N) = (true_pos+true_neg) / (act_pos+act_neg)\n",
    "- precision= TP/PP = true_postive / sum(pred_pos)\n",
    "- recall/sensitivity = TP/P  = true_positive / sum(act_pos)"
   ]
  },
  {
   "cell_type": "markdown",
   "metadata": {},
   "source": [
    "### notes from a bad site with lots of tricksy pop-up ads\n",
    "- accuracy\n",
    "    - range 0 to 1\n",
    "    - calc = (TP+TN) divided by 'total number of a dataset P+N' (what does that mean? everything)\n",
    "    - balanced accruacy average of proprotion of corrects of each class individually \n",
    "    \n",
    "### notes from a less bad site\n",
    "https://medium.com/analytics-vidhya/confusion-matrix-accuracy-precision-recall-f1-score-ade299cf63cd\n",
    "same author as the link above?\n",
    "- accuracy = $ \\large \\frac{(TN+TP)}{(TN+TP+FP+FN)} $\n",
    "- precision = $ \\large \\frac{TP}{(TP+FP)} $\n",
    "- recall = $ \\large\\frac{TP}{(TP+FN)} $\n",
    "-  F1 $ = 2 \\times \\large \\frac{(precision \\times recall)}{(precision + recall)} $ - is this being used in place of the accuracy score because accuracy == bad\n",
    "\n",
    "### notes from BMC site\n",
    "https://www.bmc.com/blogs/confusion-precision-recall/\n",
    "- Precision = TP/(TP + FP)\n",
    "- Recall = TP/(TP + FN)"
   ]
  },
  {
   "cell_type": "code",
   "execution_count": 51,
   "metadata": {},
   "outputs": [
    {
     "name": "stdout",
     "output_type": "stream",
     "text": [
      "                    precision    recall  f1-score   support\n",
      "\n",
      "       alt.atheism       0.59      0.49      0.54       480\n",
      "     comp.graphics       1.00      0.01      0.02       584\n",
      "         sci.space       0.46      0.96      0.62       593\n",
      "talk.religion.misc       0.01      0.01      0.01       377\n",
      "\n",
      "          accuracy                           0.40      2034\n",
      "         macro avg       0.51      0.37      0.30      2034\n",
      "      weighted avg       0.56      0.40      0.32      2034\n",
      "\n"
     ]
    },
    {
     "data": {
      "text/plain": [
       "0.4016715830875123"
      ]
     },
     "execution_count": 51,
     "metadata": {},
     "output_type": "execute_result"
    }
   ],
   "source": [
    "CF = pd.DataFrame(metrics.confusion_matrix(y_train, clf.labels_))\n",
    "#https://www.analyticsvidhya.com/blog/2021/06/confusion-matrix-for-multi-class-classification/\n",
    "\n",
    "TP = CF.loc[0,0] # TP are on the diag\n",
    "FN = CF.loc[0, 1:] #all columns not on the dia\n",
    "#report to reproduce\n",
    "print(metrics.classification_report(y_train, clf.labels_, target_names=target_names))\n",
    "metrics.accuracy_score(y_train, clf.labels_)"
   ]
  },
  {
   "cell_type": "code",
   "execution_count": 52,
   "metadata": {},
   "outputs": [
    {
     "name": "stdout",
     "output_type": "stream",
     "text": [
      "the row(predictions)\n",
      "     0  1    2  3\n",
      "0  237  0  241  2\n",
      "the col(actuals)\n",
      "     0\n",
      "0  237\n",
      "1    0\n",
      "2    1\n",
      "3  163\n"
     ]
    },
    {
     "data": {
      "text/html": [
       "<div>\n",
       "<style scoped>\n",
       "    .dataframe tbody tr th:only-of-type {\n",
       "        vertical-align: middle;\n",
       "    }\n",
       "\n",
       "    .dataframe tbody tr th {\n",
       "        vertical-align: top;\n",
       "    }\n",
       "\n",
       "    .dataframe thead th {\n",
       "        text-align: right;\n",
       "    }\n",
       "</style>\n",
       "<table border=\"1\" class=\"dataframe\">\n",
       "  <thead>\n",
       "    <tr style=\"text-align: right;\">\n",
       "      <th></th>\n",
       "      <th>0</th>\n",
       "      <th>1</th>\n",
       "      <th>2</th>\n",
       "      <th>3</th>\n",
       "    </tr>\n",
       "  </thead>\n",
       "  <tbody>\n",
       "    <tr>\n",
       "      <th>0</th>\n",
       "      <td>237</td>\n",
       "      <td>0</td>\n",
       "      <td>241</td>\n",
       "      <td>2</td>\n",
       "    </tr>\n",
       "    <tr>\n",
       "      <th>1</th>\n",
       "      <td>0</td>\n",
       "      <td>6</td>\n",
       "      <td>214</td>\n",
       "      <td>364</td>\n",
       "    </tr>\n",
       "    <tr>\n",
       "      <th>2</th>\n",
       "      <td>1</td>\n",
       "      <td>0</td>\n",
       "      <td>572</td>\n",
       "      <td>20</td>\n",
       "    </tr>\n",
       "    <tr>\n",
       "      <th>3</th>\n",
       "      <td>163</td>\n",
       "      <td>0</td>\n",
       "      <td>212</td>\n",
       "      <td>2</td>\n",
       "    </tr>\n",
       "  </tbody>\n",
       "</table>\n",
       "</div>"
      ],
      "text/plain": [
       "     0  1    2    3\n",
       "0  237  0  241    2\n",
       "1    0  6  214  364\n",
       "2    1  0  572   20\n",
       "3  163  0  212    2"
      ]
     },
     "execution_count": 52,
     "metadata": {},
     "output_type": "execute_result"
    }
   ],
   "source": [
    "#validating what loc to use for row vs col\n",
    "print('the row(predictions)', CF.loc[0].to_frame().T, sep='\\n')#the row (predictions)\n",
    "\n",
    "print('the col(actuals)',CF.loc[:, 0].to_frame(), sep='\\n') #the column (actuals)\n",
    "CF"
   ]
  },
  {
   "cell_type": "code",
   "execution_count": 56,
   "metadata": {},
   "outputs": [
    {
     "data": {
      "text/plain": [
       "<module 'indjobs' from 'D:\\\\Users\\\\Rob\\\\Documents\\\\python\\\\git\\\\indjobs\\\\indjobs.py'>"
      ]
     },
     "execution_count": 56,
     "metadata": {},
     "output_type": "execute_result"
    }
   ],
   "source": [
    "from importlib import reload\n",
    "reload(ij)"
   ]
  },
  {
   "cell_type": "code",
   "execution_count": 57,
   "metadata": {},
   "outputs": [
    {
     "data": {
      "text/html": [
       "<div>\n",
       "<style scoped>\n",
       "    .dataframe tbody tr th:only-of-type {\n",
       "        vertical-align: middle;\n",
       "    }\n",
       "\n",
       "    .dataframe tbody tr th {\n",
       "        vertical-align: top;\n",
       "    }\n",
       "\n",
       "    .dataframe thead th {\n",
       "        text-align: right;\n",
       "    }\n",
       "</style>\n",
       "<table border=\"1\" class=\"dataframe\">\n",
       "  <thead>\n",
       "    <tr style=\"text-align: right;\">\n",
       "      <th></th>\n",
       "      <th>TP</th>\n",
       "      <th>FP</th>\n",
       "      <th>FN</th>\n",
       "      <th>TN</th>\n",
       "      <th>accuracy</th>\n",
       "      <th>precision</th>\n",
       "      <th>recall</th>\n",
       "      <th>f1</th>\n",
       "    </tr>\n",
       "  </thead>\n",
       "  <tbody>\n",
       "    <tr>\n",
       "      <th>alt.atheism</th>\n",
       "      <td>237.00</td>\n",
       "      <td>164.00</td>\n",
       "      <td>243.00</td>\n",
       "      <td>1390.00</td>\n",
       "      <td>0.799902</td>\n",
       "      <td>0.591022</td>\n",
       "      <td>0.493750</td>\n",
       "      <td>0.538025</td>\n",
       "    </tr>\n",
       "    <tr>\n",
       "      <th>comp.graphics</th>\n",
       "      <td>6.00</td>\n",
       "      <td>0.00</td>\n",
       "      <td>578.00</td>\n",
       "      <td>1450.00</td>\n",
       "      <td>0.715831</td>\n",
       "      <td>1.000000</td>\n",
       "      <td>0.010274</td>\n",
       "      <td>0.020339</td>\n",
       "    </tr>\n",
       "    <tr>\n",
       "      <th>sci.space</th>\n",
       "      <td>572.00</td>\n",
       "      <td>667.00</td>\n",
       "      <td>21.00</td>\n",
       "      <td>774.00</td>\n",
       "      <td>0.661750</td>\n",
       "      <td>0.461663</td>\n",
       "      <td>0.964587</td>\n",
       "      <td>0.624454</td>\n",
       "    </tr>\n",
       "    <tr>\n",
       "      <th>talk.religion.misc</th>\n",
       "      <td>2.00</td>\n",
       "      <td>386.00</td>\n",
       "      <td>375.00</td>\n",
       "      <td>1271.00</td>\n",
       "      <td>0.625860</td>\n",
       "      <td>0.005155</td>\n",
       "      <td>0.005305</td>\n",
       "      <td>0.005229</td>\n",
       "    </tr>\n",
       "    <tr>\n",
       "      <th>ROW AVG</th>\n",
       "      <td>204.25</td>\n",
       "      <td>304.25</td>\n",
       "      <td>304.25</td>\n",
       "      <td>1221.25</td>\n",
       "      <td>0.700836</td>\n",
       "      <td>0.514460</td>\n",
       "      <td>0.368479</td>\n",
       "      <td>0.297012</td>\n",
       "    </tr>\n",
       "  </tbody>\n",
       "</table>\n",
       "</div>"
      ],
      "text/plain": [
       "                        TP      FP      FN       TN  accuracy  precision  \\\n",
       "alt.atheism         237.00  164.00  243.00  1390.00  0.799902   0.591022   \n",
       "comp.graphics         6.00    0.00  578.00  1450.00  0.715831   1.000000   \n",
       "sci.space           572.00  667.00   21.00   774.00  0.661750   0.461663   \n",
       "talk.religion.misc    2.00  386.00  375.00  1271.00  0.625860   0.005155   \n",
       "ROW AVG             204.25  304.25  304.25  1221.25  0.700836   0.514460   \n",
       "\n",
       "                      recall        f1  \n",
       "alt.atheism         0.493750  0.538025  \n",
       "comp.graphics       0.010274  0.020339  \n",
       "sci.space           0.964587  0.624454  \n",
       "talk.religion.misc  0.005305  0.005229  \n",
       "ROW AVG             0.368479  0.297012  "
      ]
     },
     "execution_count": 57,
     "metadata": {},
     "output_type": "execute_result"
    }
   ],
   "source": [
    "ij.get_all_confusion(CF, target_names)"
   ]
  },
  {
   "cell_type": "markdown",
   "metadata": {},
   "source": [
    "## accuracy score vs actual real labels\n",
    "from documentation: \n",
    "\n",
    "> The reported averages include macro average (averaging the unweighted\n",
    "mean per label), weighted average (averaging the support-weighted mean\n",
    "per label), and sample average (only for multilabel classification).\n",
    "Micro average (averaging the total true positives, false negatives and\n",
    "false positives) is only shown for multi-label or multi-class\n",
    "with a subset of classes, because it corresponds to accuracy otherwise.\n",
    "See also `precision_recall_fscore_support` for more details\n",
    "on averages.\n",
    ">\n",
    ">Note that in binary classification, recall of the positive class\n",
    "is also known as \"sensitivity\"; recall of the negative class is\n",
    "\"specificity\".\n"
   ]
  },
  {
   "cell_type": "code",
   "execution_count": 65,
   "metadata": {},
   "outputs": [
    {
     "data": {
      "text/plain": [
       "{'alt.atheism': {'precision': 0.3159144893111639,\n",
       "  'recall': 0.4169278996865204,\n",
       "  'f1-score': 0.35945945945945945,\n",
       "  'support': 319},\n",
       " 'comp.graphics': {'precision': 0.48812664907651715,\n",
       "  'recall': 0.4755784061696658,\n",
       "  'f1-score': 0.48177083333333326,\n",
       "  'support': 389},\n",
       " 'sci.space': {'precision': 0.46949602122015915,\n",
       "  'recall': 0.44923857868020306,\n",
       "  'f1-score': 0.4591439688715953,\n",
       "  'support': 394},\n",
       " 'talk.religion.misc': {'precision': 0.2215909090909091,\n",
       "  'recall': 0.1553784860557769,\n",
       "  'f1-score': 0.18266978922716626,\n",
       "  'support': 251},\n",
       " 'accuracy': 0.3946784922394678,\n",
       " 'macro avg': {'precision': 0.37378201717468734,\n",
       "  'recall': 0.37428084264804157,\n",
       "  'f1-score': 0.3707610127228886,\n",
       "  'support': 1353},\n",
       " 'weighted avg': {'precision': 0.39265243098565217,\n",
       "  'recall': 0.3946784922394678,\n",
       "  'f1-score': 0.3908568089916197,\n",
       "  'support': 1353}}"
      ]
     },
     "execution_count": 65,
     "metadata": {},
     "output_type": "execute_result"
    }
   ],
   "source": [
    "metrics.classification_report(y_test, pred, target_names=target_names, output_dict=True)"
   ]
  },
  {
   "cell_type": "code",
   "execution_count": 66,
   "metadata": {},
   "outputs": [
    {
     "name": "stdout",
     "output_type": "stream",
     "text": [
      "acc score is 0.4016715830875123\n",
      "classification report:\n",
      "                    precision    recall  f1-score   support\n",
      "\n",
      "       alt.atheism       0.32      0.42      0.36       319\n",
      "     comp.graphics       0.49      0.48      0.48       389\n",
      "         sci.space       0.47      0.45      0.46       394\n",
      "talk.religion.misc       0.22      0.16      0.18       251\n",
      "\n",
      "          accuracy                           0.39      1353\n",
      "         macro avg       0.37      0.37      0.37      1353\n",
      "      weighted avg       0.39      0.39      0.39      1353\n",
      "\n",
      "confusion matrix:\n",
      "[[133  47  81  58]\n",
      " [ 92 185  71  41]\n",
      " [101  78 177  38]\n",
      " [ 95  69  48  39]]\n"
     ]
    }
   ],
   "source": [
    "score = metrics.accuracy_score(y_train, clf.labels_)\n",
    "print(f\"acc score is {score}\")\n",
    "\n",
    "if hasattr(clf, \"coef_\"):\n",
    "    print(f\"dimensionality: {clf.coef_.shape[1]}\" )\n",
    "    print(f\"density: {density(clf.coef_)}\"  )\n",
    "\n",
    "    if opts.print_top10 and feature_names is not None:\n",
    "        print(\"top 10 keywords per class:\")\n",
    "        for i, label in enumerate(target_names):\n",
    "            top10 = np.argsort(clf.coef_[i])[-10:]\n",
    "            print(f\"{label}: {' '.join(feature_names[top10])}\".strip() )\n",
    "\n",
    "if opts.print_report:\n",
    "    print(\"classification report:\")\n",
    "    print(metrics.classification_report(y_test, pred, target_names=target_names))\n",
    "\n",
    "if opts.print_cm:\n",
    "    print(\"confusion matrix:\")\n",
    "    print(metrics.confusion_matrix(y_test, pred))\n",
    "\n",
    "result = ( \"desc\", score, \"train_time\", \"test_time\" )"
   ]
  },
  {
   "cell_type": "code",
   "execution_count": 67,
   "metadata": {},
   "outputs": [],
   "source": [
    "pred = clf.predict(X_test)"
   ]
  },
  {
   "cell_type": "code",
   "execution_count": 68,
   "metadata": {},
   "outputs": [
    {
     "name": "stdout",
     "output_type": "stream",
     "text": [
      "classification report:\n",
      "                    precision    recall  f1-score   support\n",
      "\n",
      "       alt.atheism       0.59      0.46      0.52       319\n",
      "     comp.graphics       1.00      0.01      0.01       389\n",
      "         sci.space       0.46      0.97      0.62       394\n",
      "talk.religion.misc       0.01      0.01      0.01       251\n",
      "\n",
      "          accuracy                           0.40      1353\n",
      "         macro avg       0.52      0.36      0.29      1353\n",
      "      weighted avg       0.56      0.40      0.31      1353\n",
      "\n",
      "confusion matrix:\n",
      "[[147   0 169   3]\n",
      " [  3   2 129 255]\n",
      " [  2   0 383   9]\n",
      " [ 97   0 151   3]]\n"
     ]
    }
   ],
   "source": [
    "#comparing accuracy to label won't work with cluster because group number assignments are arbitrary if labels are not used\n",
    "# in training --- sklearn compensates for this but a simple manual calc won't\n",
    "# would need to compare predicted vs actual to see if groups have same members\n",
    "\n",
    "score = metrics.accuracy_score(y_test, pred)\n",
    "\n",
    "\n",
    "if hasattr(clf, \"coef_\"):\n",
    "    print(f\"dimensionality: {clf.coef_.shape[1]}\" )\n",
    "    print(f\"density: {density(clf.coef_)}\"  )\n",
    "\n",
    "    if opts.print_top10 and feature_names is not None:\n",
    "        print(\"top 10 keywords per class:\")\n",
    "        for i, label in enumerate(target_names):\n",
    "            top10 = np.argsort(clf.coef_[i])[-10:]\n",
    "            print(f\"{label}: {' '.join(feature_names[top10])}\".strip() )\n",
    "\n",
    "if opts.print_report:\n",
    "    print(\"classification report:\")\n",
    "    print(metrics.classification_report(y_test, pred, target_names=target_names))\n",
    "\n",
    "if opts.print_cm:\n",
    "    print(\"confusion matrix:\")\n",
    "    print(metrics.confusion_matrix(y_test, pred))\n",
    "\n",
    "result = ( \"desc\", score, \"train_time\", \"test_time\" )"
   ]
  },
  {
   "cell_type": "code",
   "execution_count": null,
   "metadata": {},
   "outputs": [],
   "source": [
    "###"
   ]
  }
 ],
 "metadata": {
  "kernelspec": {
   "display_name": "Python 3",
   "language": "python",
   "name": "python3"
  },
  "language_info": {
   "codemirror_mode": {
    "name": "ipython",
    "version": 3
   },
   "file_extension": ".py",
   "mimetype": "text/x-python",
   "name": "python",
   "nbconvert_exporter": "python",
   "pygments_lexer": "ipython3",
   "version": "3.8.5"
  }
 },
 "nbformat": 4,
 "nbformat_minor": 4
}
